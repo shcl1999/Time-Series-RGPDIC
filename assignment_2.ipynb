{
 "cells": [
  {
   "attachments": {},
   "cell_type": "markdown",
   "metadata": {},
   "source": [
    "# Imports"
   ]
  },
  {
   "cell_type": "code",
   "execution_count": 138,
   "metadata": {},
   "outputs": [],
   "source": [
    "import pandas as pd\n",
    "import numpy as np\n",
    "\n",
    "import statsmodels.api as sm\n",
    "from scipy.stats import norm\n",
    "from sklearn.metrics import mean_squared_error\n",
    "from statsmodels.tsa.stattools import adfuller\n",
    "from statsmodels.tsa.arima.model import ARIMA\n",
    "from IPython.display import clear_output\n",
    "from statsmodels.stats.diagnostic import acorr_ljungbox\n",
    "from statsmodels.tsa.stattools import kpss\n",
    "from scipy.stats import chi2\n",
    "\n",
    "import plotly.express as px\n",
    "import plotly.graph_objects as go"
   ]
  },
  {
   "cell_type": "code",
   "execution_count": 9,
   "metadata": {},
   "outputs": [
    {
     "data": {
      "text/html": [
       "<div>\n",
       "<style scoped>\n",
       "    .dataframe tbody tr th:only-of-type {\n",
       "        vertical-align: middle;\n",
       "    }\n",
       "\n",
       "    .dataframe tbody tr th {\n",
       "        vertical-align: top;\n",
       "    }\n",
       "\n",
       "    .dataframe thead th {\n",
       "        text-align: right;\n",
       "    }\n",
       "</style>\n",
       "<table border=\"1\" class=\"dataframe\">\n",
       "  <thead>\n",
       "    <tr style=\"text-align: right;\">\n",
       "      <th></th>\n",
       "      <th>DATE</th>\n",
       "      <th>DI</th>\n",
       "    </tr>\n",
       "  </thead>\n",
       "  <tbody>\n",
       "    <tr>\n",
       "      <th>0</th>\n",
       "      <td>1947-01-01</td>\n",
       "      <td>218.091</td>\n",
       "    </tr>\n",
       "    <tr>\n",
       "      <th>1</th>\n",
       "      <td>1947-04-01</td>\n",
       "      <td>201.386</td>\n",
       "    </tr>\n",
       "    <tr>\n",
       "      <th>2</th>\n",
       "      <td>1947-07-01</td>\n",
       "      <td>195.461</td>\n",
       "    </tr>\n",
       "    <tr>\n",
       "      <th>3</th>\n",
       "      <td>1947-10-01</td>\n",
       "      <td>233.284</td>\n",
       "    </tr>\n",
       "    <tr>\n",
       "      <th>4</th>\n",
       "      <td>1948-01-01</td>\n",
       "      <td>257.220</td>\n",
       "    </tr>\n",
       "    <tr>\n",
       "      <th>...</th>\n",
       "      <td>...</td>\n",
       "      <td>...</td>\n",
       "    </tr>\n",
       "    <tr>\n",
       "      <th>300</th>\n",
       "      <td>2022-01-01</td>\n",
       "      <td>3892.480</td>\n",
       "    </tr>\n",
       "    <tr>\n",
       "      <th>301</th>\n",
       "      <td>2022-04-01</td>\n",
       "      <td>3746.973</td>\n",
       "    </tr>\n",
       "    <tr>\n",
       "      <th>302</th>\n",
       "      <td>2022-07-01</td>\n",
       "      <td>3653.850</td>\n",
       "    </tr>\n",
       "    <tr>\n",
       "      <th>303</th>\n",
       "      <td>2022-10-01</td>\n",
       "      <td>3694.128</td>\n",
       "    </tr>\n",
       "    <tr>\n",
       "      <th>304</th>\n",
       "      <td>2023-01-01</td>\n",
       "      <td>3573.078</td>\n",
       "    </tr>\n",
       "  </tbody>\n",
       "</table>\n",
       "<p>305 rows × 2 columns</p>\n",
       "</div>"
      ],
      "text/plain": [
       "           DATE        DI\n",
       "0    1947-01-01   218.091\n",
       "1    1947-04-01   201.386\n",
       "2    1947-07-01   195.461\n",
       "3    1947-10-01   233.284\n",
       "4    1948-01-01   257.220\n",
       "..          ...       ...\n",
       "300  2022-01-01  3892.480\n",
       "301  2022-04-01  3746.973\n",
       "302  2022-07-01  3653.850\n",
       "303  2022-10-01  3694.128\n",
       "304  2023-01-01  3573.078\n",
       "\n",
       "[305 rows x 2 columns]"
      ]
     },
     "execution_count": 9,
     "metadata": {},
     "output_type": "execute_result"
    }
   ],
   "source": [
    "df = pd.read_csv('RGPDIC.csv')\n",
    "df"
   ]
  },
  {
   "attachments": {},
   "cell_type": "markdown",
   "metadata": {},
   "source": [
    "# Questions 1-9 Trends"
   ]
  },
  {
   "attachments": {},
   "cell_type": "markdown",
   "metadata": {},
   "source": [
    "## Question 1 (1 point)"
   ]
  },
  {
   "attachments": {},
   "cell_type": "markdown",
   "metadata": {},
   "source": [
    "Import the time series and plot the data. Is a deterministic trend present in the data?"
   ]
  },
  {
   "cell_type": "code",
   "execution_count": 16,
   "metadata": {},
   "outputs": [
    {
     "data": {
      "application/vnd.plotly.v1+json": {
       "config": {
        "plotlyServerURL": "https://plot.ly"
       },
       "data": [
        {
         "hovertemplate": "DATE=%{x}<br>DI=%{y}<extra></extra>",
         "legendgroup": "",
         "line": {
          "color": "#636efa",
          "dash": "solid"
         },
         "marker": {
          "symbol": "circle"
         },
         "mode": "lines",
         "name": "",
         "orientation": "v",
         "showlegend": false,
         "type": "scatter",
         "x": [
          "1947-01-01",
          "1947-04-01",
          "1947-07-01",
          "1947-10-01",
          "1948-01-01",
          "1948-04-01",
          "1948-07-01",
          "1948-10-01",
          "1949-01-01",
          "1949-04-01",
          "1949-07-01",
          "1949-10-01",
          "1950-01-01",
          "1950-04-01",
          "1950-07-01",
          "1950-10-01",
          "1951-01-01",
          "1951-04-01",
          "1951-07-01",
          "1951-10-01",
          "1952-01-01",
          "1952-04-01",
          "1952-07-01",
          "1952-10-01",
          "1953-01-01",
          "1953-04-01",
          "1953-07-01",
          "1953-10-01",
          "1954-01-01",
          "1954-04-01",
          "1954-07-01",
          "1954-10-01",
          "1955-01-01",
          "1955-04-01",
          "1955-07-01",
          "1955-10-01",
          "1956-01-01",
          "1956-04-01",
          "1956-07-01",
          "1956-10-01",
          "1957-01-01",
          "1957-04-01",
          "1957-07-01",
          "1957-10-01",
          "1958-01-01",
          "1958-04-01",
          "1958-07-01",
          "1958-10-01",
          "1959-01-01",
          "1959-04-01",
          "1959-07-01",
          "1959-10-01",
          "1960-01-01",
          "1960-04-01",
          "1960-07-01",
          "1960-10-01",
          "1961-01-01",
          "1961-04-01",
          "1961-07-01",
          "1961-10-01",
          "1962-01-01",
          "1962-04-01",
          "1962-07-01",
          "1962-10-01",
          "1963-01-01",
          "1963-04-01",
          "1963-07-01",
          "1963-10-01",
          "1964-01-01",
          "1964-04-01",
          "1964-07-01",
          "1964-10-01",
          "1965-01-01",
          "1965-04-01",
          "1965-07-01",
          "1965-10-01",
          "1966-01-01",
          "1966-04-01",
          "1966-07-01",
          "1966-10-01",
          "1967-01-01",
          "1967-04-01",
          "1967-07-01",
          "1967-10-01",
          "1968-01-01",
          "1968-04-01",
          "1968-07-01",
          "1968-10-01",
          "1969-01-01",
          "1969-04-01",
          "1969-07-01",
          "1969-10-01",
          "1970-01-01",
          "1970-04-01",
          "1970-07-01",
          "1970-10-01",
          "1971-01-01",
          "1971-04-01",
          "1971-07-01",
          "1971-10-01",
          "1972-01-01",
          "1972-04-01",
          "1972-07-01",
          "1972-10-01",
          "1973-01-01",
          "1973-04-01",
          "1973-07-01",
          "1973-10-01",
          "1974-01-01",
          "1974-04-01",
          "1974-07-01",
          "1974-10-01",
          "1975-01-01",
          "1975-04-01",
          "1975-07-01",
          "1975-10-01",
          "1976-01-01",
          "1976-04-01",
          "1976-07-01",
          "1976-10-01",
          "1977-01-01",
          "1977-04-01",
          "1977-07-01",
          "1977-10-01",
          "1978-01-01",
          "1978-04-01",
          "1978-07-01",
          "1978-10-01",
          "1979-01-01",
          "1979-04-01",
          "1979-07-01",
          "1979-10-01",
          "1980-01-01",
          "1980-04-01",
          "1980-07-01",
          "1980-10-01",
          "1981-01-01",
          "1981-04-01",
          "1981-07-01",
          "1981-10-01",
          "1982-01-01",
          "1982-04-01",
          "1982-07-01",
          "1982-10-01",
          "1983-01-01",
          "1983-04-01",
          "1983-07-01",
          "1983-10-01",
          "1984-01-01",
          "1984-04-01",
          "1984-07-01",
          "1984-10-01",
          "1985-01-01",
          "1985-04-01",
          "1985-07-01",
          "1985-10-01",
          "1986-01-01",
          "1986-04-01",
          "1986-07-01",
          "1986-10-01",
          "1987-01-01",
          "1987-04-01",
          "1987-07-01",
          "1987-10-01",
          "1988-01-01",
          "1988-04-01",
          "1988-07-01",
          "1988-10-01",
          "1989-01-01",
          "1989-04-01",
          "1989-07-01",
          "1989-10-01",
          "1990-01-01",
          "1990-04-01",
          "1990-07-01",
          "1990-10-01",
          "1991-01-01",
          "1991-04-01",
          "1991-07-01",
          "1991-10-01",
          "1992-01-01",
          "1992-04-01",
          "1992-07-01",
          "1992-10-01",
          "1993-01-01",
          "1993-04-01",
          "1993-07-01",
          "1993-10-01",
          "1994-01-01",
          "1994-04-01",
          "1994-07-01",
          "1994-10-01",
          "1995-01-01",
          "1995-04-01",
          "1995-07-01",
          "1995-10-01",
          "1996-01-01",
          "1996-04-01",
          "1996-07-01",
          "1996-10-01",
          "1997-01-01",
          "1997-04-01",
          "1997-07-01",
          "1997-10-01",
          "1998-01-01",
          "1998-04-01",
          "1998-07-01",
          "1998-10-01",
          "1999-01-01",
          "1999-04-01",
          "1999-07-01",
          "1999-10-01",
          "2000-01-01",
          "2000-04-01",
          "2000-07-01",
          "2000-10-01",
          "2001-01-01",
          "2001-04-01",
          "2001-07-01",
          "2001-10-01",
          "2002-01-01",
          "2002-04-01",
          "2002-07-01",
          "2002-10-01",
          "2003-01-01",
          "2003-04-01",
          "2003-07-01",
          "2003-10-01",
          "2004-01-01",
          "2004-04-01",
          "2004-07-01",
          "2004-10-01",
          "2005-01-01",
          "2005-04-01",
          "2005-07-01",
          "2005-10-01",
          "2006-01-01",
          "2006-04-01",
          "2006-07-01",
          "2006-10-01",
          "2007-01-01",
          "2007-04-01",
          "2007-07-01",
          "2007-10-01",
          "2008-01-01",
          "2008-04-01",
          "2008-07-01",
          "2008-10-01",
          "2009-01-01",
          "2009-04-01",
          "2009-07-01",
          "2009-10-01",
          "2010-01-01",
          "2010-04-01",
          "2010-07-01",
          "2010-10-01",
          "2011-01-01",
          "2011-04-01",
          "2011-07-01",
          "2011-10-01",
          "2012-01-01",
          "2012-04-01",
          "2012-07-01",
          "2012-10-01",
          "2013-01-01",
          "2013-04-01",
          "2013-07-01",
          "2013-10-01",
          "2014-01-01",
          "2014-04-01",
          "2014-07-01",
          "2014-10-01",
          "2015-01-01",
          "2015-04-01",
          "2015-07-01",
          "2015-10-01",
          "2016-01-01",
          "2016-04-01",
          "2016-07-01",
          "2016-10-01",
          "2017-01-01",
          "2017-04-01",
          "2017-07-01",
          "2017-10-01",
          "2018-01-01",
          "2018-04-01",
          "2018-07-01",
          "2018-10-01",
          "2019-01-01",
          "2019-04-01",
          "2019-07-01",
          "2019-10-01",
          "2020-01-01",
          "2020-04-01",
          "2020-07-01",
          "2020-10-01",
          "2021-01-01",
          "2021-04-01",
          "2021-07-01",
          "2021-10-01",
          "2022-01-01",
          "2022-04-01",
          "2022-07-01",
          "2022-10-01",
          "2023-01-01"
         ],
         "xaxis": "x",
         "y": [
          218.091,
          201.386,
          195.461,
          233.284,
          257.22,
          273.138,
          275.936,
          262.741,
          223.507,
          193.795,
          209.862,
          199.54,
          246.911,
          273.335,
          296.831,
          334.548,
          300.363,
          307.326,
          284.697,
          262.013,
          268.85,
          248.58,
          261.906,
          280.772,
          286.813,
          288.445,
          282.411,
          262.005,
          260.127,
          259.513,
          272.037,
          283.968,
          312.337,
          331.333,
          336.418,
          344.218,
          334.39,
          331.759,
          328.788,
          325.739,
          320.682,
          320.357,
          327.701,
          302.503,
          282.096,
          276.413,
          297.627,
          323.004,
          340.604,
          367.099,
          343.391,
          354.567,
          390.21,
          353.841,
          352.942,
          313.843,
          321.988,
          344.549,
          371.335,
          377.479,
          397.831,
          394.694,
          401.401,
          389.657,
          410.158,
          416.683,
          429.512,
          434.727,
          450.997,
          449.373,
          459.861,
          464.229,
          508.491,
          509.827,
          527.578,
          531.072,
          573.502,
          565.012,
          560.844,
          564.131,
          550.286,
          530.378,
          545.93,
          557.706,
          568.887,
          590.647,
          574.539,
          580.789,
          614.989,
          611.366,
          623.778,
          593.659,
          575.953,
          577.205,
          586.598,
          555.454,
          620.212,
          637.811,
          645.549,
          628.165,
          669.558,
          707.589,
          717.638,
          722.138,
          764.458,
          797.044,
          768.143,
          795.504,
          750.076,
          747.082,
          708.362,
          712.661,
          597.866,
          580.067,
          625.037,
          642.484,
          704.475,
          732.358,
          734.91,
          740.408,
          774.711,
          830.251,
          872.264,
          850.383,
          866.957,
          923.266,
          950.166,
          972.139,
          973.754,
          972.877,
          956.493,
          939.526,
          933.101,
          853.76,
          797.411,
          871.733,
          952.418,
          912.945,
          964.401,
          930.44,
          842.429,
          841.789,
          834.075,
          769.602,
          796.266,
          866.784,
          921.051,
          1010.654,
          1108.328,
          1144.371,
          1169.136,
          1153.971,
          1122.331,
          1141.447,
          1133.665,
          1175.45,
          1175.105,
          1154.589,
          1123.532,
          1126.895,
          1157.306,
          1157.909,
          1158.077,
          1236.986,
          1177.604,
          1205.662,
          1212.36,
          1230.861,
          1272.638,
          1260.328,
          1249.012,
          1239.747,
          1252.058,
          1252.449,
          1228.17,
          1159.464,
          1120.884,
          1120.88,
          1143.073,
          1183.605,
          1161.74,
          1227.44,
          1237.197,
          1274.945,
          1305.003,
          1312.511,
          1303.597,
          1372.097,
          1424.36,
          1494.411,
          1469.999,
          1530.476,
          1546.548,
          1514.426,
          1505.399,
          1542.785,
          1567.56,
          1642.882,
          1717.51,
          1715.245,
          1749.879,
          1856.956,
          1882.955,
          1911.048,
          1994.375,
          1982.058,
          2033.015,
          2095.76,
          2153.308,
          2154.652,
          2213.773,
          2273.095,
          2257.109,
          2390.733,
          2367.274,
          2371.809,
          2264.202,
          2267.433,
          2218.37,
          2108.5,
          2170.707,
          2206.375,
          2203.109,
          2201.749,
          2218.685,
          2233.997,
          2315.399,
          2393.402,
          2398.151,
          2493.945,
          2532.635,
          2585.477,
          2658.163,
          2622.793,
          2657.458,
          2743.846,
          2784.583,
          2766.628,
          2755.954,
          2702.487,
          2683.893,
          2713.495,
          2686.106,
          2653.056,
          2583.253,
          2536.403,
          2485.549,
          2246.441,
          1986.845,
          1872.287,
          1868.013,
          2040.736,
          2087.171,
          2196.706,
          2294.672,
          2287.362,
          2244.241,
          2336.057,
          2343.786,
          2524.429,
          2577.157,
          2636.495,
          2648.459,
          2624.905,
          2722.778,
          2753.237,
          2859.751,
          2870.127,
          2838.287,
          2958.068,
          3018.582,
          3021.857,
          3127.274,
          3136.688,
          3130.354,
          3092.707,
          3079.449,
          3063.333,
          3069.298,
          3147.576,
          3131.917,
          3187.781,
          3250.825,
          3293.441,
          3342.884,
          3349.047,
          3453.059,
          3450.608,
          3484.349,
          3504.855,
          3527.193,
          3454.354,
          3409.883,
          2884.223,
          3394.142,
          3537.645,
          3489.294,
          3496.867,
          3584.05,
          3841.771,
          3892.48,
          3746.973,
          3653.85,
          3694.128,
          3573.078
         ],
         "yaxis": "y"
        }
       ],
       "layout": {
        "legend": {
         "tracegroupgap": 0
        },
        "margin": {
         "t": 60
        },
        "template": {
         "data": {
          "bar": [
           {
            "error_x": {
             "color": "#2a3f5f"
            },
            "error_y": {
             "color": "#2a3f5f"
            },
            "marker": {
             "line": {
              "color": "#E5ECF6",
              "width": 0.5
             },
             "pattern": {
              "fillmode": "overlay",
              "size": 10,
              "solidity": 0.2
             }
            },
            "type": "bar"
           }
          ],
          "barpolar": [
           {
            "marker": {
             "line": {
              "color": "#E5ECF6",
              "width": 0.5
             },
             "pattern": {
              "fillmode": "overlay",
              "size": 10,
              "solidity": 0.2
             }
            },
            "type": "barpolar"
           }
          ],
          "carpet": [
           {
            "aaxis": {
             "endlinecolor": "#2a3f5f",
             "gridcolor": "white",
             "linecolor": "white",
             "minorgridcolor": "white",
             "startlinecolor": "#2a3f5f"
            },
            "baxis": {
             "endlinecolor": "#2a3f5f",
             "gridcolor": "white",
             "linecolor": "white",
             "minorgridcolor": "white",
             "startlinecolor": "#2a3f5f"
            },
            "type": "carpet"
           }
          ],
          "choropleth": [
           {
            "colorbar": {
             "outlinewidth": 0,
             "ticks": ""
            },
            "type": "choropleth"
           }
          ],
          "contour": [
           {
            "colorbar": {
             "outlinewidth": 0,
             "ticks": ""
            },
            "colorscale": [
             [
              0,
              "#0d0887"
             ],
             [
              0.1111111111111111,
              "#46039f"
             ],
             [
              0.2222222222222222,
              "#7201a8"
             ],
             [
              0.3333333333333333,
              "#9c179e"
             ],
             [
              0.4444444444444444,
              "#bd3786"
             ],
             [
              0.5555555555555556,
              "#d8576b"
             ],
             [
              0.6666666666666666,
              "#ed7953"
             ],
             [
              0.7777777777777778,
              "#fb9f3a"
             ],
             [
              0.8888888888888888,
              "#fdca26"
             ],
             [
              1,
              "#f0f921"
             ]
            ],
            "type": "contour"
           }
          ],
          "contourcarpet": [
           {
            "colorbar": {
             "outlinewidth": 0,
             "ticks": ""
            },
            "type": "contourcarpet"
           }
          ],
          "heatmap": [
           {
            "colorbar": {
             "outlinewidth": 0,
             "ticks": ""
            },
            "colorscale": [
             [
              0,
              "#0d0887"
             ],
             [
              0.1111111111111111,
              "#46039f"
             ],
             [
              0.2222222222222222,
              "#7201a8"
             ],
             [
              0.3333333333333333,
              "#9c179e"
             ],
             [
              0.4444444444444444,
              "#bd3786"
             ],
             [
              0.5555555555555556,
              "#d8576b"
             ],
             [
              0.6666666666666666,
              "#ed7953"
             ],
             [
              0.7777777777777778,
              "#fb9f3a"
             ],
             [
              0.8888888888888888,
              "#fdca26"
             ],
             [
              1,
              "#f0f921"
             ]
            ],
            "type": "heatmap"
           }
          ],
          "heatmapgl": [
           {
            "colorbar": {
             "outlinewidth": 0,
             "ticks": ""
            },
            "colorscale": [
             [
              0,
              "#0d0887"
             ],
             [
              0.1111111111111111,
              "#46039f"
             ],
             [
              0.2222222222222222,
              "#7201a8"
             ],
             [
              0.3333333333333333,
              "#9c179e"
             ],
             [
              0.4444444444444444,
              "#bd3786"
             ],
             [
              0.5555555555555556,
              "#d8576b"
             ],
             [
              0.6666666666666666,
              "#ed7953"
             ],
             [
              0.7777777777777778,
              "#fb9f3a"
             ],
             [
              0.8888888888888888,
              "#fdca26"
             ],
             [
              1,
              "#f0f921"
             ]
            ],
            "type": "heatmapgl"
           }
          ],
          "histogram": [
           {
            "marker": {
             "pattern": {
              "fillmode": "overlay",
              "size": 10,
              "solidity": 0.2
             }
            },
            "type": "histogram"
           }
          ],
          "histogram2d": [
           {
            "colorbar": {
             "outlinewidth": 0,
             "ticks": ""
            },
            "colorscale": [
             [
              0,
              "#0d0887"
             ],
             [
              0.1111111111111111,
              "#46039f"
             ],
             [
              0.2222222222222222,
              "#7201a8"
             ],
             [
              0.3333333333333333,
              "#9c179e"
             ],
             [
              0.4444444444444444,
              "#bd3786"
             ],
             [
              0.5555555555555556,
              "#d8576b"
             ],
             [
              0.6666666666666666,
              "#ed7953"
             ],
             [
              0.7777777777777778,
              "#fb9f3a"
             ],
             [
              0.8888888888888888,
              "#fdca26"
             ],
             [
              1,
              "#f0f921"
             ]
            ],
            "type": "histogram2d"
           }
          ],
          "histogram2dcontour": [
           {
            "colorbar": {
             "outlinewidth": 0,
             "ticks": ""
            },
            "colorscale": [
             [
              0,
              "#0d0887"
             ],
             [
              0.1111111111111111,
              "#46039f"
             ],
             [
              0.2222222222222222,
              "#7201a8"
             ],
             [
              0.3333333333333333,
              "#9c179e"
             ],
             [
              0.4444444444444444,
              "#bd3786"
             ],
             [
              0.5555555555555556,
              "#d8576b"
             ],
             [
              0.6666666666666666,
              "#ed7953"
             ],
             [
              0.7777777777777778,
              "#fb9f3a"
             ],
             [
              0.8888888888888888,
              "#fdca26"
             ],
             [
              1,
              "#f0f921"
             ]
            ],
            "type": "histogram2dcontour"
           }
          ],
          "mesh3d": [
           {
            "colorbar": {
             "outlinewidth": 0,
             "ticks": ""
            },
            "type": "mesh3d"
           }
          ],
          "parcoords": [
           {
            "line": {
             "colorbar": {
              "outlinewidth": 0,
              "ticks": ""
             }
            },
            "type": "parcoords"
           }
          ],
          "pie": [
           {
            "automargin": true,
            "type": "pie"
           }
          ],
          "scatter": [
           {
            "fillpattern": {
             "fillmode": "overlay",
             "size": 10,
             "solidity": 0.2
            },
            "type": "scatter"
           }
          ],
          "scatter3d": [
           {
            "line": {
             "colorbar": {
              "outlinewidth": 0,
              "ticks": ""
             }
            },
            "marker": {
             "colorbar": {
              "outlinewidth": 0,
              "ticks": ""
             }
            },
            "type": "scatter3d"
           }
          ],
          "scattercarpet": [
           {
            "marker": {
             "colorbar": {
              "outlinewidth": 0,
              "ticks": ""
             }
            },
            "type": "scattercarpet"
           }
          ],
          "scattergeo": [
           {
            "marker": {
             "colorbar": {
              "outlinewidth": 0,
              "ticks": ""
             }
            },
            "type": "scattergeo"
           }
          ],
          "scattergl": [
           {
            "marker": {
             "colorbar": {
              "outlinewidth": 0,
              "ticks": ""
             }
            },
            "type": "scattergl"
           }
          ],
          "scattermapbox": [
           {
            "marker": {
             "colorbar": {
              "outlinewidth": 0,
              "ticks": ""
             }
            },
            "type": "scattermapbox"
           }
          ],
          "scatterpolar": [
           {
            "marker": {
             "colorbar": {
              "outlinewidth": 0,
              "ticks": ""
             }
            },
            "type": "scatterpolar"
           }
          ],
          "scatterpolargl": [
           {
            "marker": {
             "colorbar": {
              "outlinewidth": 0,
              "ticks": ""
             }
            },
            "type": "scatterpolargl"
           }
          ],
          "scatterternary": [
           {
            "marker": {
             "colorbar": {
              "outlinewidth": 0,
              "ticks": ""
             }
            },
            "type": "scatterternary"
           }
          ],
          "surface": [
           {
            "colorbar": {
             "outlinewidth": 0,
             "ticks": ""
            },
            "colorscale": [
             [
              0,
              "#0d0887"
             ],
             [
              0.1111111111111111,
              "#46039f"
             ],
             [
              0.2222222222222222,
              "#7201a8"
             ],
             [
              0.3333333333333333,
              "#9c179e"
             ],
             [
              0.4444444444444444,
              "#bd3786"
             ],
             [
              0.5555555555555556,
              "#d8576b"
             ],
             [
              0.6666666666666666,
              "#ed7953"
             ],
             [
              0.7777777777777778,
              "#fb9f3a"
             ],
             [
              0.8888888888888888,
              "#fdca26"
             ],
             [
              1,
              "#f0f921"
             ]
            ],
            "type": "surface"
           }
          ],
          "table": [
           {
            "cells": {
             "fill": {
              "color": "#EBF0F8"
             },
             "line": {
              "color": "white"
             }
            },
            "header": {
             "fill": {
              "color": "#C8D4E3"
             },
             "line": {
              "color": "white"
             }
            },
            "type": "table"
           }
          ]
         },
         "layout": {
          "annotationdefaults": {
           "arrowcolor": "#2a3f5f",
           "arrowhead": 0,
           "arrowwidth": 1
          },
          "autotypenumbers": "strict",
          "coloraxis": {
           "colorbar": {
            "outlinewidth": 0,
            "ticks": ""
           }
          },
          "colorscale": {
           "diverging": [
            [
             0,
             "#8e0152"
            ],
            [
             0.1,
             "#c51b7d"
            ],
            [
             0.2,
             "#de77ae"
            ],
            [
             0.3,
             "#f1b6da"
            ],
            [
             0.4,
             "#fde0ef"
            ],
            [
             0.5,
             "#f7f7f7"
            ],
            [
             0.6,
             "#e6f5d0"
            ],
            [
             0.7,
             "#b8e186"
            ],
            [
             0.8,
             "#7fbc41"
            ],
            [
             0.9,
             "#4d9221"
            ],
            [
             1,
             "#276419"
            ]
           ],
           "sequential": [
            [
             0,
             "#0d0887"
            ],
            [
             0.1111111111111111,
             "#46039f"
            ],
            [
             0.2222222222222222,
             "#7201a8"
            ],
            [
             0.3333333333333333,
             "#9c179e"
            ],
            [
             0.4444444444444444,
             "#bd3786"
            ],
            [
             0.5555555555555556,
             "#d8576b"
            ],
            [
             0.6666666666666666,
             "#ed7953"
            ],
            [
             0.7777777777777778,
             "#fb9f3a"
            ],
            [
             0.8888888888888888,
             "#fdca26"
            ],
            [
             1,
             "#f0f921"
            ]
           ],
           "sequentialminus": [
            [
             0,
             "#0d0887"
            ],
            [
             0.1111111111111111,
             "#46039f"
            ],
            [
             0.2222222222222222,
             "#7201a8"
            ],
            [
             0.3333333333333333,
             "#9c179e"
            ],
            [
             0.4444444444444444,
             "#bd3786"
            ],
            [
             0.5555555555555556,
             "#d8576b"
            ],
            [
             0.6666666666666666,
             "#ed7953"
            ],
            [
             0.7777777777777778,
             "#fb9f3a"
            ],
            [
             0.8888888888888888,
             "#fdca26"
            ],
            [
             1,
             "#f0f921"
            ]
           ]
          },
          "colorway": [
           "#636efa",
           "#EF553B",
           "#00cc96",
           "#ab63fa",
           "#FFA15A",
           "#19d3f3",
           "#FF6692",
           "#B6E880",
           "#FF97FF",
           "#FECB52"
          ],
          "font": {
           "color": "#2a3f5f"
          },
          "geo": {
           "bgcolor": "white",
           "lakecolor": "white",
           "landcolor": "#E5ECF6",
           "showlakes": true,
           "showland": true,
           "subunitcolor": "white"
          },
          "hoverlabel": {
           "align": "left"
          },
          "hovermode": "closest",
          "mapbox": {
           "style": "light"
          },
          "paper_bgcolor": "white",
          "plot_bgcolor": "#E5ECF6",
          "polar": {
           "angularaxis": {
            "gridcolor": "white",
            "linecolor": "white",
            "ticks": ""
           },
           "bgcolor": "#E5ECF6",
           "radialaxis": {
            "gridcolor": "white",
            "linecolor": "white",
            "ticks": ""
           }
          },
          "scene": {
           "xaxis": {
            "backgroundcolor": "#E5ECF6",
            "gridcolor": "white",
            "gridwidth": 2,
            "linecolor": "white",
            "showbackground": true,
            "ticks": "",
            "zerolinecolor": "white"
           },
           "yaxis": {
            "backgroundcolor": "#E5ECF6",
            "gridcolor": "white",
            "gridwidth": 2,
            "linecolor": "white",
            "showbackground": true,
            "ticks": "",
            "zerolinecolor": "white"
           },
           "zaxis": {
            "backgroundcolor": "#E5ECF6",
            "gridcolor": "white",
            "gridwidth": 2,
            "linecolor": "white",
            "showbackground": true,
            "ticks": "",
            "zerolinecolor": "white"
           }
          },
          "shapedefaults": {
           "line": {
            "color": "#2a3f5f"
           }
          },
          "ternary": {
           "aaxis": {
            "gridcolor": "white",
            "linecolor": "white",
            "ticks": ""
           },
           "baxis": {
            "gridcolor": "white",
            "linecolor": "white",
            "ticks": ""
           },
           "bgcolor": "#E5ECF6",
           "caxis": {
            "gridcolor": "white",
            "linecolor": "white",
            "ticks": ""
           }
          },
          "title": {
           "x": 0.05
          },
          "xaxis": {
           "automargin": true,
           "gridcolor": "white",
           "linecolor": "white",
           "ticks": "",
           "title": {
            "standoff": 15
           },
           "zerolinecolor": "white",
           "zerolinewidth": 2
          },
          "yaxis": {
           "automargin": true,
           "gridcolor": "white",
           "linecolor": "white",
           "ticks": "",
           "title": {
            "standoff": 15
           },
           "zerolinecolor": "white",
           "zerolinewidth": 2
          }
         }
        },
        "title": {
         "text": "Real Gross Private Domestic Investment"
        },
        "xaxis": {
         "anchor": "y",
         "domain": [
          0,
          1
         ],
         "title": {
          "text": "DATE"
         }
        },
        "yaxis": {
         "anchor": "x",
         "domain": [
          0,
          1
         ],
         "title": {
          "text": "DI"
         }
        }
       }
      }
     },
     "metadata": {},
     "output_type": "display_data"
    }
   ],
   "source": [
    "fig = px.line(df, x='DATE', y='DI')\n",
    "fig.update_layout(title='Real Gross Private Domestic Investment')\n",
    "fig.show()"
   ]
  },
  {
   "attachments": {},
   "cell_type": "markdown",
   "metadata": {},
   "source": [
    "## Question 2 (2 points)"
   ]
  },
  {
   "attachments": {},
   "cell_type": "markdown",
   "metadata": {},
   "source": [
    "Apply the Augmented Dickey-Fuller (ADF) test \n",
    "\n",
    "to examine the presence of a unit root in yt. \n",
    "\n",
    "Include in the test equation an intercept term \n",
    "\n",
    "and select the number of included lags based on AIC. \n",
    "\n",
    "Is a stochastic trend present in the data?"
   ]
  },
  {
   "cell_type": "code",
   "execution_count": 21,
   "metadata": {},
   "outputs": [
    {
     "name": "stdout",
     "output_type": "stream",
     "text": [
      "Test statistic: 0.8118\n",
      "p-value: 0.9918\n",
      "The ADF test result suggests that the time series is non-stationary.\n"
     ]
    }
   ],
   "source": [
    "# apply ADF test with an intercept term and select the number of lags based on AIC\n",
    "result = adfuller(df['DI'], regression='c', autolag='AIC')\n",
    "\n",
    "# extract and print the test statistics and p-value\n",
    "test_statistic = result[0]\n",
    "p_value = result[1]\n",
    "\n",
    "if p_value < 0.05:\n",
    "    print(f'Test statistic: {test_statistic:.4f}')\n",
    "    print(f'p-value: {p_value:.4f}')\n",
    "    print('The ADF test result suggests that the time series is stationary.')\n",
    "else:\n",
    "    print(f'Test statistic: {test_statistic:.4f}')\n",
    "    print(f'p-value: {p_value:.4f}')\n",
    "    print('The ADF test result suggests that the time series is non-stationary.')\n"
   ]
  },
  {
   "attachments": {},
   "cell_type": "markdown",
   "metadata": {},
   "source": [
    "## Question 3 (2 points)"
   ]
  },
  {
   "attachments": {},
   "cell_type": "markdown",
   "metadata": {},
   "source": [
    "Apply the ADF test to examine the presence of a unit root in yt \n",
    "\n",
    "including additionally a deterministic trend in the test equation. \n",
    "\n",
    "Compare the test results to the results obtained in (2.). \n",
    "\n",
    "Given the properties of the time series, \n",
    "\n",
    "which specification of the test regression is preferable \n",
    "\n",
    "(which deterministic components do you include in the test regression)?"
   ]
  },
  {
   "cell_type": "code",
   "execution_count": 22,
   "metadata": {},
   "outputs": [
    {
     "name": "stdout",
     "output_type": "stream",
     "text": [
      "Test statistic with trend: -1.9835\n",
      "p-value with trend: 0.6104\n",
      "The ADF test result suggests that the time series is non-stationary with a deterministic trend.\n"
     ]
    }
   ],
   "source": [
    "result_ct = adfuller(df['DI'], regression='ct')\n",
    "\n",
    "test_statistic_ct = result_ct[0]\n",
    "p_value_ct = result_ct[1]\n",
    "\n",
    "if p_value_ct < 0.05:\n",
    "    print(f'Test statistic with trend: {test_statistic_ct:.4f}')\n",
    "    print(f'p-value with trend: {p_value_ct:.4f}')\n",
    "    print('The ADF test result suggests that the time series is stationary with a deterministic trend.')\n",
    "else:\n",
    "    print(f'Test statistic with trend: {test_statistic_ct:.4f}')\n",
    "    print(f'p-value with trend: {p_value_ct:.4f}')\n",
    "    print('The ADF test result suggests that the time series is non-stationary with a deterministic trend.')\n"
   ]
  },
  {
   "attachments": {},
   "cell_type": "markdown",
   "metadata": {},
   "source": [
    "## Question 4 (2 points)"
   ]
  },
  {
   "attachments": {},
   "cell_type": "markdown",
   "metadata": {},
   "source": [
    "Estimate AR(p) models for p = 1, . . . , 12 \n",
    "\n",
    "for yt including an intercept and deterministic trend. \n",
    "\n",
    "Which model does the AIC indicate as the preferred choice?"
   ]
  },
  {
   "cell_type": "code",
   "execution_count": 45,
   "metadata": {},
   "outputs": [],
   "source": [
    "# Define the range of p values\n",
    "ps = range(1, 13)\n",
    "\n",
    "# Initialize AIC list\n",
    "aics = []\n",
    "\n",
    "# Iterate over the range of p values and fit ARIMA models\n",
    "for p in ps:\n",
    "    model = ARIMA(df['DI'], order=(p, 0, 0), trend='ct')\n",
    "    result = model.fit()\n",
    "    aics.append(result.aic)\n",
    "\n",
    "# Find the index of the minimum AIC\n",
    "min_idx = np.argmin(aics)\n",
    "\n",
    "\n",
    "clear_output()"
   ]
  },
  {
   "cell_type": "code",
   "execution_count": 46,
   "metadata": {},
   "outputs": [
    {
     "data": {
      "application/vnd.plotly.v1+json": {
       "config": {
        "plotlyServerURL": "https://plot.ly"
       },
       "data": [
        {
         "marker": {
          "size": 8,
          "symbol": "circle"
         },
         "mode": "markers",
         "name": "AIC",
         "type": "scatter",
         "x": [
          1,
          2,
          3,
          4,
          5,
          6,
          7,
          8,
          9,
          10,
          11,
          12
         ],
         "y": [
          3434.531832814855,
          3435.317875033579,
          3437.037941360024,
          3438.4764205913257,
          3439.935904047081,
          3440.897130308763,
          3440.931499329122,
          3438.4165610283317,
          3439.1836054874616,
          3439.503604234008,
          3441.217199409838,
          3443.2054999797188
         ]
        },
        {
         "marker": {
          "color": "red",
          "size": 12,
          "symbol": "circle"
         },
         "mode": "markers",
         "name": "Minimum AIC",
         "type": "scatter",
         "x": [
          1
         ],
         "y": [
          3434.531832814855
         ]
        }
       ],
       "layout": {
        "template": {
         "data": {
          "bar": [
           {
            "error_x": {
             "color": "#2a3f5f"
            },
            "error_y": {
             "color": "#2a3f5f"
            },
            "marker": {
             "line": {
              "color": "#E5ECF6",
              "width": 0.5
             },
             "pattern": {
              "fillmode": "overlay",
              "size": 10,
              "solidity": 0.2
             }
            },
            "type": "bar"
           }
          ],
          "barpolar": [
           {
            "marker": {
             "line": {
              "color": "#E5ECF6",
              "width": 0.5
             },
             "pattern": {
              "fillmode": "overlay",
              "size": 10,
              "solidity": 0.2
             }
            },
            "type": "barpolar"
           }
          ],
          "carpet": [
           {
            "aaxis": {
             "endlinecolor": "#2a3f5f",
             "gridcolor": "white",
             "linecolor": "white",
             "minorgridcolor": "white",
             "startlinecolor": "#2a3f5f"
            },
            "baxis": {
             "endlinecolor": "#2a3f5f",
             "gridcolor": "white",
             "linecolor": "white",
             "minorgridcolor": "white",
             "startlinecolor": "#2a3f5f"
            },
            "type": "carpet"
           }
          ],
          "choropleth": [
           {
            "colorbar": {
             "outlinewidth": 0,
             "ticks": ""
            },
            "type": "choropleth"
           }
          ],
          "contour": [
           {
            "colorbar": {
             "outlinewidth": 0,
             "ticks": ""
            },
            "colorscale": [
             [
              0,
              "#0d0887"
             ],
             [
              0.1111111111111111,
              "#46039f"
             ],
             [
              0.2222222222222222,
              "#7201a8"
             ],
             [
              0.3333333333333333,
              "#9c179e"
             ],
             [
              0.4444444444444444,
              "#bd3786"
             ],
             [
              0.5555555555555556,
              "#d8576b"
             ],
             [
              0.6666666666666666,
              "#ed7953"
             ],
             [
              0.7777777777777778,
              "#fb9f3a"
             ],
             [
              0.8888888888888888,
              "#fdca26"
             ],
             [
              1,
              "#f0f921"
             ]
            ],
            "type": "contour"
           }
          ],
          "contourcarpet": [
           {
            "colorbar": {
             "outlinewidth": 0,
             "ticks": ""
            },
            "type": "contourcarpet"
           }
          ],
          "heatmap": [
           {
            "colorbar": {
             "outlinewidth": 0,
             "ticks": ""
            },
            "colorscale": [
             [
              0,
              "#0d0887"
             ],
             [
              0.1111111111111111,
              "#46039f"
             ],
             [
              0.2222222222222222,
              "#7201a8"
             ],
             [
              0.3333333333333333,
              "#9c179e"
             ],
             [
              0.4444444444444444,
              "#bd3786"
             ],
             [
              0.5555555555555556,
              "#d8576b"
             ],
             [
              0.6666666666666666,
              "#ed7953"
             ],
             [
              0.7777777777777778,
              "#fb9f3a"
             ],
             [
              0.8888888888888888,
              "#fdca26"
             ],
             [
              1,
              "#f0f921"
             ]
            ],
            "type": "heatmap"
           }
          ],
          "heatmapgl": [
           {
            "colorbar": {
             "outlinewidth": 0,
             "ticks": ""
            },
            "colorscale": [
             [
              0,
              "#0d0887"
             ],
             [
              0.1111111111111111,
              "#46039f"
             ],
             [
              0.2222222222222222,
              "#7201a8"
             ],
             [
              0.3333333333333333,
              "#9c179e"
             ],
             [
              0.4444444444444444,
              "#bd3786"
             ],
             [
              0.5555555555555556,
              "#d8576b"
             ],
             [
              0.6666666666666666,
              "#ed7953"
             ],
             [
              0.7777777777777778,
              "#fb9f3a"
             ],
             [
              0.8888888888888888,
              "#fdca26"
             ],
             [
              1,
              "#f0f921"
             ]
            ],
            "type": "heatmapgl"
           }
          ],
          "histogram": [
           {
            "marker": {
             "pattern": {
              "fillmode": "overlay",
              "size": 10,
              "solidity": 0.2
             }
            },
            "type": "histogram"
           }
          ],
          "histogram2d": [
           {
            "colorbar": {
             "outlinewidth": 0,
             "ticks": ""
            },
            "colorscale": [
             [
              0,
              "#0d0887"
             ],
             [
              0.1111111111111111,
              "#46039f"
             ],
             [
              0.2222222222222222,
              "#7201a8"
             ],
             [
              0.3333333333333333,
              "#9c179e"
             ],
             [
              0.4444444444444444,
              "#bd3786"
             ],
             [
              0.5555555555555556,
              "#d8576b"
             ],
             [
              0.6666666666666666,
              "#ed7953"
             ],
             [
              0.7777777777777778,
              "#fb9f3a"
             ],
             [
              0.8888888888888888,
              "#fdca26"
             ],
             [
              1,
              "#f0f921"
             ]
            ],
            "type": "histogram2d"
           }
          ],
          "histogram2dcontour": [
           {
            "colorbar": {
             "outlinewidth": 0,
             "ticks": ""
            },
            "colorscale": [
             [
              0,
              "#0d0887"
             ],
             [
              0.1111111111111111,
              "#46039f"
             ],
             [
              0.2222222222222222,
              "#7201a8"
             ],
             [
              0.3333333333333333,
              "#9c179e"
             ],
             [
              0.4444444444444444,
              "#bd3786"
             ],
             [
              0.5555555555555556,
              "#d8576b"
             ],
             [
              0.6666666666666666,
              "#ed7953"
             ],
             [
              0.7777777777777778,
              "#fb9f3a"
             ],
             [
              0.8888888888888888,
              "#fdca26"
             ],
             [
              1,
              "#f0f921"
             ]
            ],
            "type": "histogram2dcontour"
           }
          ],
          "mesh3d": [
           {
            "colorbar": {
             "outlinewidth": 0,
             "ticks": ""
            },
            "type": "mesh3d"
           }
          ],
          "parcoords": [
           {
            "line": {
             "colorbar": {
              "outlinewidth": 0,
              "ticks": ""
             }
            },
            "type": "parcoords"
           }
          ],
          "pie": [
           {
            "automargin": true,
            "type": "pie"
           }
          ],
          "scatter": [
           {
            "fillpattern": {
             "fillmode": "overlay",
             "size": 10,
             "solidity": 0.2
            },
            "type": "scatter"
           }
          ],
          "scatter3d": [
           {
            "line": {
             "colorbar": {
              "outlinewidth": 0,
              "ticks": ""
             }
            },
            "marker": {
             "colorbar": {
              "outlinewidth": 0,
              "ticks": ""
             }
            },
            "type": "scatter3d"
           }
          ],
          "scattercarpet": [
           {
            "marker": {
             "colorbar": {
              "outlinewidth": 0,
              "ticks": ""
             }
            },
            "type": "scattercarpet"
           }
          ],
          "scattergeo": [
           {
            "marker": {
             "colorbar": {
              "outlinewidth": 0,
              "ticks": ""
             }
            },
            "type": "scattergeo"
           }
          ],
          "scattergl": [
           {
            "marker": {
             "colorbar": {
              "outlinewidth": 0,
              "ticks": ""
             }
            },
            "type": "scattergl"
           }
          ],
          "scattermapbox": [
           {
            "marker": {
             "colorbar": {
              "outlinewidth": 0,
              "ticks": ""
             }
            },
            "type": "scattermapbox"
           }
          ],
          "scatterpolar": [
           {
            "marker": {
             "colorbar": {
              "outlinewidth": 0,
              "ticks": ""
             }
            },
            "type": "scatterpolar"
           }
          ],
          "scatterpolargl": [
           {
            "marker": {
             "colorbar": {
              "outlinewidth": 0,
              "ticks": ""
             }
            },
            "type": "scatterpolargl"
           }
          ],
          "scatterternary": [
           {
            "marker": {
             "colorbar": {
              "outlinewidth": 0,
              "ticks": ""
             }
            },
            "type": "scatterternary"
           }
          ],
          "surface": [
           {
            "colorbar": {
             "outlinewidth": 0,
             "ticks": ""
            },
            "colorscale": [
             [
              0,
              "#0d0887"
             ],
             [
              0.1111111111111111,
              "#46039f"
             ],
             [
              0.2222222222222222,
              "#7201a8"
             ],
             [
              0.3333333333333333,
              "#9c179e"
             ],
             [
              0.4444444444444444,
              "#bd3786"
             ],
             [
              0.5555555555555556,
              "#d8576b"
             ],
             [
              0.6666666666666666,
              "#ed7953"
             ],
             [
              0.7777777777777778,
              "#fb9f3a"
             ],
             [
              0.8888888888888888,
              "#fdca26"
             ],
             [
              1,
              "#f0f921"
             ]
            ],
            "type": "surface"
           }
          ],
          "table": [
           {
            "cells": {
             "fill": {
              "color": "#EBF0F8"
             },
             "line": {
              "color": "white"
             }
            },
            "header": {
             "fill": {
              "color": "#C8D4E3"
             },
             "line": {
              "color": "white"
             }
            },
            "type": "table"
           }
          ]
         },
         "layout": {
          "annotationdefaults": {
           "arrowcolor": "#2a3f5f",
           "arrowhead": 0,
           "arrowwidth": 1
          },
          "autotypenumbers": "strict",
          "coloraxis": {
           "colorbar": {
            "outlinewidth": 0,
            "ticks": ""
           }
          },
          "colorscale": {
           "diverging": [
            [
             0,
             "#8e0152"
            ],
            [
             0.1,
             "#c51b7d"
            ],
            [
             0.2,
             "#de77ae"
            ],
            [
             0.3,
             "#f1b6da"
            ],
            [
             0.4,
             "#fde0ef"
            ],
            [
             0.5,
             "#f7f7f7"
            ],
            [
             0.6,
             "#e6f5d0"
            ],
            [
             0.7,
             "#b8e186"
            ],
            [
             0.8,
             "#7fbc41"
            ],
            [
             0.9,
             "#4d9221"
            ],
            [
             1,
             "#276419"
            ]
           ],
           "sequential": [
            [
             0,
             "#0d0887"
            ],
            [
             0.1111111111111111,
             "#46039f"
            ],
            [
             0.2222222222222222,
             "#7201a8"
            ],
            [
             0.3333333333333333,
             "#9c179e"
            ],
            [
             0.4444444444444444,
             "#bd3786"
            ],
            [
             0.5555555555555556,
             "#d8576b"
            ],
            [
             0.6666666666666666,
             "#ed7953"
            ],
            [
             0.7777777777777778,
             "#fb9f3a"
            ],
            [
             0.8888888888888888,
             "#fdca26"
            ],
            [
             1,
             "#f0f921"
            ]
           ],
           "sequentialminus": [
            [
             0,
             "#0d0887"
            ],
            [
             0.1111111111111111,
             "#46039f"
            ],
            [
             0.2222222222222222,
             "#7201a8"
            ],
            [
             0.3333333333333333,
             "#9c179e"
            ],
            [
             0.4444444444444444,
             "#bd3786"
            ],
            [
             0.5555555555555556,
             "#d8576b"
            ],
            [
             0.6666666666666666,
             "#ed7953"
            ],
            [
             0.7777777777777778,
             "#fb9f3a"
            ],
            [
             0.8888888888888888,
             "#fdca26"
            ],
            [
             1,
             "#f0f921"
            ]
           ]
          },
          "colorway": [
           "#636efa",
           "#EF553B",
           "#00cc96",
           "#ab63fa",
           "#FFA15A",
           "#19d3f3",
           "#FF6692",
           "#B6E880",
           "#FF97FF",
           "#FECB52"
          ],
          "font": {
           "color": "#2a3f5f"
          },
          "geo": {
           "bgcolor": "white",
           "lakecolor": "white",
           "landcolor": "#E5ECF6",
           "showlakes": true,
           "showland": true,
           "subunitcolor": "white"
          },
          "hoverlabel": {
           "align": "left"
          },
          "hovermode": "closest",
          "mapbox": {
           "style": "light"
          },
          "paper_bgcolor": "white",
          "plot_bgcolor": "#E5ECF6",
          "polar": {
           "angularaxis": {
            "gridcolor": "white",
            "linecolor": "white",
            "ticks": ""
           },
           "bgcolor": "#E5ECF6",
           "radialaxis": {
            "gridcolor": "white",
            "linecolor": "white",
            "ticks": ""
           }
          },
          "scene": {
           "xaxis": {
            "backgroundcolor": "#E5ECF6",
            "gridcolor": "white",
            "gridwidth": 2,
            "linecolor": "white",
            "showbackground": true,
            "ticks": "",
            "zerolinecolor": "white"
           },
           "yaxis": {
            "backgroundcolor": "#E5ECF6",
            "gridcolor": "white",
            "gridwidth": 2,
            "linecolor": "white",
            "showbackground": true,
            "ticks": "",
            "zerolinecolor": "white"
           },
           "zaxis": {
            "backgroundcolor": "#E5ECF6",
            "gridcolor": "white",
            "gridwidth": 2,
            "linecolor": "white",
            "showbackground": true,
            "ticks": "",
            "zerolinecolor": "white"
           }
          },
          "shapedefaults": {
           "line": {
            "color": "#2a3f5f"
           }
          },
          "ternary": {
           "aaxis": {
            "gridcolor": "white",
            "linecolor": "white",
            "ticks": ""
           },
           "baxis": {
            "gridcolor": "white",
            "linecolor": "white",
            "ticks": ""
           },
           "bgcolor": "#E5ECF6",
           "caxis": {
            "gridcolor": "white",
            "linecolor": "white",
            "ticks": ""
           }
          },
          "title": {
           "x": 0.05
          },
          "xaxis": {
           "automargin": true,
           "gridcolor": "white",
           "linecolor": "white",
           "ticks": "",
           "title": {
            "standoff": 15
           },
           "zerolinecolor": "white",
           "zerolinewidth": 2
          },
          "yaxis": {
           "automargin": true,
           "gridcolor": "white",
           "linecolor": "white",
           "ticks": "",
           "title": {
            "standoff": 15
           },
           "zerolinecolor": "white",
           "zerolinewidth": 2
          }
         }
        },
        "title": {
         "text": "AIC vs. AR(p) Model Order"
        },
        "xaxis": {
         "title": {
          "text": "AR Model Order (p)"
         }
        },
        "yaxis": {
         "title": {
          "text": "AIC"
         }
        }
       }
      }
     },
     "metadata": {},
     "output_type": "display_data"
    }
   ],
   "source": [
    "# Create a scatter plot of AIC values vs. p values\n",
    "ps_array = np.array(ps)\n",
    "ps_array\n",
    "\n",
    "fig = go.Figure()\n",
    "fig.add_trace(go.Scatter(x=ps_array, y=aics, mode='markers', marker=dict(symbol='circle', size=8),\n",
    "                         name='AIC'))\n",
    "# Add a red dot for the minimum AIC value\n",
    "fig.add_trace(go.Scatter(x=[ps_array[min_idx]], y=[aics[min_idx]], mode='markers', \n",
    "                         marker=dict(color='red', size=12, symbol='circle'),\n",
    "                         name='Minimum AIC'))\n",
    "# Add axis labels and a title\n",
    "fig.update_layout(title='AIC vs. AR(p) Model Order', xaxis_title='AR Model Order (p)', yaxis_title='AIC')\n",
    "fig.show()\n"
   ]
  },
  {
   "attachments": {},
   "cell_type": "markdown",
   "metadata": {},
   "source": [
    "## Question 5 (3 points)"
   ]
  },
  {
   "attachments": {},
   "cell_type": "markdown",
   "metadata": {},
   "source": [
    "Estimate an AR(2) model with intercept and deterministic trend for yt. \n",
    "\n",
    "Discuss the estimation output. \n",
    "\n",
    "What conclusions regarding stationarity can you draw from the estimated parameters?"
   ]
  },
  {
   "cell_type": "code",
   "execution_count": 47,
   "metadata": {},
   "outputs": [
    {
     "name": "stdout",
     "output_type": "stream",
     "text": [
      "                               SARIMAX Results                                \n",
      "==============================================================================\n",
      "Dep. Variable:                     DI   No. Observations:                  305\n",
      "Model:                 ARIMA(2, 0, 0)   Log Likelihood               -1712.659\n",
      "Date:                Wed, 17 May 2023   AIC                           3435.318\n",
      "Time:                        17:42:40   BIC                           3453.919\n",
      "Sample:                             0   HQIC                          3442.758\n",
      "                                - 305                                         \n",
      "Covariance Type:                  opg                                         \n",
      "==============================================================================\n",
      "                 coef    std err          z      P>|z|      [0.025      0.975]\n",
      "------------------------------------------------------------------------------\n",
      "const       -326.3806    219.515     -1.487      0.137    -756.622     103.860\n",
      "x1            11.7186      1.089     10.763      0.000       9.585      13.853\n",
      "ar.L1          1.0429      0.024     43.308      0.000       0.996       1.090\n",
      "ar.L2         -0.0637      0.023     -2.728      0.006      -0.110      -0.018\n",
      "sigma2      4363.6298    124.300     35.105      0.000    4120.005    4607.254\n",
      "===================================================================================\n",
      "Ljung-Box (L1) (Q):                   0.02   Jarque-Bera (JB):              9024.04\n",
      "Prob(Q):                              0.88   Prob(JB):                         0.00\n",
      "Heteroskedasticity (H):              20.53   Skew:                            -0.10\n",
      "Prob(H) (two-sided):                  0.00   Kurtosis:                        29.65\n",
      "===================================================================================\n",
      "\n",
      "Warnings:\n",
      "[1] Covariance matrix calculated using the outer product of gradients (complex-step).\n"
     ]
    }
   ],
   "source": [
    "model = ARIMA(df['DI'], order=(2, 0, 0), trend='ct')\n",
    "result = model.fit()\n",
    "print(result.summary())"
   ]
  },
  {
   "attachments": {},
   "cell_type": "markdown",
   "metadata": {},
   "source": [
    "## Question 6 (2 points)"
   ]
  },
  {
   "attachments": {},
   "cell_type": "markdown",
   "metadata": {},
   "source": [
    "Evaluate the estimated AR(2) model based on the estimated residuals. \n",
    "\n",
    "Are the residuals following a White Noise process? \n",
    "\n",
    "Test whether they are autocorrelated (using a Ljung-Box test) \n",
    "\n",
    "and also whether they follow a normal distribution."
   ]
  },
  {
   "cell_type": "code",
   "execution_count": 48,
   "metadata": {},
   "outputs": [],
   "source": [
    "residuals = result.resid"
   ]
  },
  {
   "cell_type": "code",
   "execution_count": 49,
   "metadata": {},
   "outputs": [
    {
     "data": {
      "application/vnd.plotly.v1+json": {
       "config": {
        "plotlyServerURL": "https://plot.ly"
       },
       "data": [
        {
         "hovertemplate": "variable=0<br>index=%{x}<br>value=%{y}<extra></extra>",
         "legendgroup": "0",
         "line": {
          "color": "#636efa",
          "dash": "solid"
         },
         "marker": {
          "symbol": "circle"
         },
         "mode": "lines",
         "name": "0",
         "orientation": "v",
         "showlegend": true,
         "type": "scatter",
         "x": [
          0,
          1,
          2,
          3,
          4,
          5,
          6,
          7,
          8,
          9,
          10,
          11,
          12,
          13,
          14,
          15,
          16,
          17,
          18,
          19,
          20,
          21,
          22,
          23,
          24,
          25,
          26,
          27,
          28,
          29,
          30,
          31,
          32,
          33,
          34,
          35,
          36,
          37,
          38,
          39,
          40,
          41,
          42,
          43,
          44,
          45,
          46,
          47,
          48,
          49,
          50,
          51,
          52,
          53,
          54,
          55,
          56,
          57,
          58,
          59,
          60,
          61,
          62,
          63,
          64,
          65,
          66,
          67,
          68,
          69,
          70,
          71,
          72,
          73,
          74,
          75,
          76,
          77,
          78,
          79,
          80,
          81,
          82,
          83,
          84,
          85,
          86,
          87,
          88,
          89,
          90,
          91,
          92,
          93,
          94,
          95,
          96,
          97,
          98,
          99,
          100,
          101,
          102,
          103,
          104,
          105,
          106,
          107,
          108,
          109,
          110,
          111,
          112,
          113,
          114,
          115,
          116,
          117,
          118,
          119,
          120,
          121,
          122,
          123,
          124,
          125,
          126,
          127,
          128,
          129,
          130,
          131,
          132,
          133,
          134,
          135,
          136,
          137,
          138,
          139,
          140,
          141,
          142,
          143,
          144,
          145,
          146,
          147,
          148,
          149,
          150,
          151,
          152,
          153,
          154,
          155,
          156,
          157,
          158,
          159,
          160,
          161,
          162,
          163,
          164,
          165,
          166,
          167,
          168,
          169,
          170,
          171,
          172,
          173,
          174,
          175,
          176,
          177,
          178,
          179,
          180,
          181,
          182,
          183,
          184,
          185,
          186,
          187,
          188,
          189,
          190,
          191,
          192,
          193,
          194,
          195,
          196,
          197,
          198,
          199,
          200,
          201,
          202,
          203,
          204,
          205,
          206,
          207,
          208,
          209,
          210,
          211,
          212,
          213,
          214,
          215,
          216,
          217,
          218,
          219,
          220,
          221,
          222,
          223,
          224,
          225,
          226,
          227,
          228,
          229,
          230,
          231,
          232,
          233,
          234,
          235,
          236,
          237,
          238,
          239,
          240,
          241,
          242,
          243,
          244,
          245,
          246,
          247,
          248,
          249,
          250,
          251,
          252,
          253,
          254,
          255,
          256,
          257,
          258,
          259,
          260,
          261,
          262,
          263,
          264,
          265,
          266,
          267,
          268,
          269,
          270,
          271,
          272,
          273,
          274,
          275,
          276,
          277,
          278,
          279,
          280,
          281,
          282,
          283,
          284,
          285,
          286,
          287,
          288,
          289,
          290,
          291,
          292,
          293,
          294,
          295,
          296,
          297,
          298,
          299,
          300,
          301,
          302,
          303,
          304
         ],
         "xaxis": "x",
         "y": [
          532.7530163615105,
          -17.982877431501407,
          -5.317851185657389,
          37.375116136706424,
          21.243407798556802,
          14.36539118720998,
          1.8440787705367825,
          -13.49849657907896,
          -39.037325458337364,
          -28.917562361301236,
          15.390715053014759,
          -13.82601461378033,
          45.08978799423454,
          21.208141809205955,
          19.922062795604745,
          34.57524446449531,
          -37.69134677765993,
          7.083408762082968,
          -25.230888396497846,
          -24.11546014864558,
          4.691857149587179,
          -24.398853105643667,
          10.258335996123833,
          13.690123073462473,
          0.660953885212507,
          -3.04882083703518,
          -10.644024272898548,
          -24.897408873733582,
          -6.122902851127833,
          -6.323497806536238,
          6.476826463424743,
          5.0630783555534435,
          21.543310241084896,
          11.469509343328582,
          -1.6922557767738908,
          1.7712715967639951,
          -16.111498129103836,
          -8.23990512476388,
          -9.337854025048387,
          -9.700412086948802,
          -12.011298539616746,
          -7.501009449844162,
          -0.3847431333072677,
          -33.50683332091916,
          -27.410900343243156,
          -13.662043842267678,
          11.933541032025857,
          14.579825765521036,
          6.82217396514568,
          16.33556253945403,
          -34.12644425694833,
          3.219427848011378,
          25.45128481154569,
          -47.62171879712503,
          -8.563480585156753,
          -49.28770775114771,
          -0.6678745452316548,
          10.661853400549717,
          14.193874545648441,
          -6.40335635065901,
          9.004344783988586,
          -15.210425136940046,
          -4.178710234875041,
          -23.36173475723467,
          9.570381186099212,
          -6.278129451720986,
          0.808561248231797,
          -7.184165522217825,
          4.220642338097036,
          -14.28322318320346,
          -1.308644412553008,
          -8.226430099567551,
          31.90447886799302,
          -12.886305938715964,
          6.048753399950556,
          -9.12893425962443,
          30.544482877177188,
          -22.217421684683018,
          -15.070592298152405,
          -8.222303609062806,
          -26.00532754444555,
          -31.509096443646172,
          3.6780980664991603,
          -2.2785383051376584,
          -2.631623536826737,
          7.974100629126951,
          -30.358970406834942,
          -6.1670095788587105,
          20.243679551175546,
          -18.89244518179055,
          -0.7660788075564824,
          -44.304843623591864,
          -30.052706329772946,
          -12.499439694301941,
          -5.785195889970055,
          -46.889660351539874,
          50.702992619171255,
          -1.4639861886699919,
          -8.196041804952756,
          -32.77239229494023,
          26.999418679329096,
          20.50904509259783,
          -6.710095493328481,
          -10.510066805636484,
          27.513193085046055,
          16.00613962548789,
          -44.42530182654127,
          14.909659622253002,
          -61.139908875165474,
          -15.256990012778147,
          -53.994841985141534,
          -9.74982365874996,
          -131.74093213480432,
          -29.790190823031708,
          26.180026301240787,
          -4.651265098173894,
          41.76672843369886,
          5.867104891297913,
          -16.952553297674854,
          -12.582813762101182,
          15.904700717023843,
          35.776217531775615,
          21.808916220590277,
          -40.59119970039785,
          1.2365520618172923,
          38.62129199634421,
          7.608786634555486,
          4.873077719798289,
          -14.957055589671654,
          -16.36187514002154,
          -31.972591084730198,
          -32.15288309312655,
          -22.171724084283824,
          -96.13800789694665,
          -70.39597574395441,
          57.39029759785399,
          56.728198159781755,
          -62.39769866111203,
          35.124106499364984,
          -55.26115305306382,
          -104.8181554137418,
          -16.08056150347238,
          -28.98204399845099,
          -85.69519109971282,
          7.4717954728774885,
          45.82743828195737,
          28.006563794958765,
          65.26555970590266,
          72.70756631660515,
          12.353954580703885,
          5.511980755053173,
          -33.427075766267535,
          -47.91700511033787,
          2.985371059556428,
          -26.99407671719473,
          23.881125579325044,
          -20.781944543866985,
          -38.518673418714116,
          -48.44577811692966,
          -14.24553677663721,
          10.434022601994684,
          -20.70858934556827,
          -19.475074718467113,
          59.05286200747173,
          -82.85710901369089,
          11.916620916776537,
          -14.676994291208075,
          -1.6169719131744387,
          21.04798761898519,
          -33.896215282800085,
          -29.95512710291473,
          -28.44769465130662,
          -7.439888145846908,
          -20.72299361844034,
          -44.86924680773427,
          -88.47399031010445,
          -57.1924058167815,
          -21.585490702283778,
          -2.0920653028952074,
          15.050250517896984,
          -47.91517633601484,
          42.927476209899396,
          -17.47238648478651,
          14.044050292425936,
          5.112276842239908,
          -16.56516937748961,
          -31.637399244642666,
          46.39336617043659,
          26.404994545889394,
          46.07332066281515,
          -48.30759895870392,
          41.85014284332283,
          -6.950010267434891,
          -52.222464880849884,
          -26.969071509507103,
          17.539155381577984,
          2.5044449217703004,
          54.12757474527234,
          51.537174685148784,
          -24.00011303947008,
          17.50925036441413,
          88.07768033368279,
          4.369419783726244,
          11.929792603367332,
          67.37165853233228,
          -30.300654805755812,
          38.569518924493195,
          47.14184484214911,
          42.25711341038823,
          -12.660177056533485,
          48.483512844377856,
          45.989463467300084,
          -28.338963454356417,
          125.49431613322167,
          -38.58486584173852,
          -1.3102729821316643,
          -115.38662768602171,
          0.11277611971581791,
          -59.42401365231444,
          -118.16441628169605,
          55.254238296340645,
          18.79797263772798,
          -17.944910768647333,
          -13.869276509590236,
          4.032568851235737,
          1.3509784055131604,
          67.6194194284135,
          61.45991282080604,
          -10.195574446719093,
          85.37402565640468,
          24.218683590043383,
          42.57329838214264,
          62.372416079730556,
          -45.677640459074155,
          30.26420521048476,
          78.00088318026519,
          30.609206325636933,
          -24.567626394079525,
          -14.163653562276977,
          -57.887629488118364,
          -21.645524634318008,
          23.695419641643184,
          -35.99522861674541,
          -38.83836361751992,
          -76.16376706149822,
          -52.5672641448532,
          -59.255479327564444,
          -248.55867466883774,
          -262.27457659290053,
          -121.58656339305253,
          -23.181123021076928,
          146.45194792589723,
          12.236957871717095,
          84.11146695051957,
          70.55905834140549,
          -32.18142897120015,
          -61.677840844613456,
          74.39884871521554,
          -16.620508745596453,
          161.5708119324995,
          26.154218353819033,
          41.77363751966186,
          -5.029025394896507,
          -37.521847508836345,
          85.43407591433743,
          12.075242110576255,
          92.81852132822405,
          -6.191738688609348,
          -42.30699277173699,
          111.0971858646144,
          44.41721952406442,
          -8.026311848689147,
          97.58861409831889,
          -2.972544162035774,
          -12.648459179868041,
          -43.33387567165664,
          -17.977814413725355,
          -22.911282651455167,
          -1.228353124543446,
          69.55705319077515,
          -27.602291478931875,
          49.33839158890942,
          52.87914519117567,
          33.063403975857,
          41.8367929917149,
          -1.0919841767599792,
          99.40027069435882,
          -11.37650160874091,
          31.30705235630421,
          16.22393677840364,
          19.082850530051928,
          -75.98955545440822,
          -43.316852240858225,
          -527.4856752077485,
          527.5660994663272,
          105.51858108342412,
          -60.229334928067146,
          6.672963893026008,
          82.63142307508224,
          249.6675416020894,
          36.912258268839196,
          -145.29403072867945,
          -83.67906429114055,
          44.19686231656942,
          -125.03998665750669
         ],
         "yaxis": "y"
        }
       ],
       "layout": {
        "legend": {
         "title": {
          "text": "variable"
         },
         "tracegroupgap": 0
        },
        "template": {
         "data": {
          "bar": [
           {
            "error_x": {
             "color": "#2a3f5f"
            },
            "error_y": {
             "color": "#2a3f5f"
            },
            "marker": {
             "line": {
              "color": "#E5ECF6",
              "width": 0.5
             },
             "pattern": {
              "fillmode": "overlay",
              "size": 10,
              "solidity": 0.2
             }
            },
            "type": "bar"
           }
          ],
          "barpolar": [
           {
            "marker": {
             "line": {
              "color": "#E5ECF6",
              "width": 0.5
             },
             "pattern": {
              "fillmode": "overlay",
              "size": 10,
              "solidity": 0.2
             }
            },
            "type": "barpolar"
           }
          ],
          "carpet": [
           {
            "aaxis": {
             "endlinecolor": "#2a3f5f",
             "gridcolor": "white",
             "linecolor": "white",
             "minorgridcolor": "white",
             "startlinecolor": "#2a3f5f"
            },
            "baxis": {
             "endlinecolor": "#2a3f5f",
             "gridcolor": "white",
             "linecolor": "white",
             "minorgridcolor": "white",
             "startlinecolor": "#2a3f5f"
            },
            "type": "carpet"
           }
          ],
          "choropleth": [
           {
            "colorbar": {
             "outlinewidth": 0,
             "ticks": ""
            },
            "type": "choropleth"
           }
          ],
          "contour": [
           {
            "colorbar": {
             "outlinewidth": 0,
             "ticks": ""
            },
            "colorscale": [
             [
              0,
              "#0d0887"
             ],
             [
              0.1111111111111111,
              "#46039f"
             ],
             [
              0.2222222222222222,
              "#7201a8"
             ],
             [
              0.3333333333333333,
              "#9c179e"
             ],
             [
              0.4444444444444444,
              "#bd3786"
             ],
             [
              0.5555555555555556,
              "#d8576b"
             ],
             [
              0.6666666666666666,
              "#ed7953"
             ],
             [
              0.7777777777777778,
              "#fb9f3a"
             ],
             [
              0.8888888888888888,
              "#fdca26"
             ],
             [
              1,
              "#f0f921"
             ]
            ],
            "type": "contour"
           }
          ],
          "contourcarpet": [
           {
            "colorbar": {
             "outlinewidth": 0,
             "ticks": ""
            },
            "type": "contourcarpet"
           }
          ],
          "heatmap": [
           {
            "colorbar": {
             "outlinewidth": 0,
             "ticks": ""
            },
            "colorscale": [
             [
              0,
              "#0d0887"
             ],
             [
              0.1111111111111111,
              "#46039f"
             ],
             [
              0.2222222222222222,
              "#7201a8"
             ],
             [
              0.3333333333333333,
              "#9c179e"
             ],
             [
              0.4444444444444444,
              "#bd3786"
             ],
             [
              0.5555555555555556,
              "#d8576b"
             ],
             [
              0.6666666666666666,
              "#ed7953"
             ],
             [
              0.7777777777777778,
              "#fb9f3a"
             ],
             [
              0.8888888888888888,
              "#fdca26"
             ],
             [
              1,
              "#f0f921"
             ]
            ],
            "type": "heatmap"
           }
          ],
          "heatmapgl": [
           {
            "colorbar": {
             "outlinewidth": 0,
             "ticks": ""
            },
            "colorscale": [
             [
              0,
              "#0d0887"
             ],
             [
              0.1111111111111111,
              "#46039f"
             ],
             [
              0.2222222222222222,
              "#7201a8"
             ],
             [
              0.3333333333333333,
              "#9c179e"
             ],
             [
              0.4444444444444444,
              "#bd3786"
             ],
             [
              0.5555555555555556,
              "#d8576b"
             ],
             [
              0.6666666666666666,
              "#ed7953"
             ],
             [
              0.7777777777777778,
              "#fb9f3a"
             ],
             [
              0.8888888888888888,
              "#fdca26"
             ],
             [
              1,
              "#f0f921"
             ]
            ],
            "type": "heatmapgl"
           }
          ],
          "histogram": [
           {
            "marker": {
             "pattern": {
              "fillmode": "overlay",
              "size": 10,
              "solidity": 0.2
             }
            },
            "type": "histogram"
           }
          ],
          "histogram2d": [
           {
            "colorbar": {
             "outlinewidth": 0,
             "ticks": ""
            },
            "colorscale": [
             [
              0,
              "#0d0887"
             ],
             [
              0.1111111111111111,
              "#46039f"
             ],
             [
              0.2222222222222222,
              "#7201a8"
             ],
             [
              0.3333333333333333,
              "#9c179e"
             ],
             [
              0.4444444444444444,
              "#bd3786"
             ],
             [
              0.5555555555555556,
              "#d8576b"
             ],
             [
              0.6666666666666666,
              "#ed7953"
             ],
             [
              0.7777777777777778,
              "#fb9f3a"
             ],
             [
              0.8888888888888888,
              "#fdca26"
             ],
             [
              1,
              "#f0f921"
             ]
            ],
            "type": "histogram2d"
           }
          ],
          "histogram2dcontour": [
           {
            "colorbar": {
             "outlinewidth": 0,
             "ticks": ""
            },
            "colorscale": [
             [
              0,
              "#0d0887"
             ],
             [
              0.1111111111111111,
              "#46039f"
             ],
             [
              0.2222222222222222,
              "#7201a8"
             ],
             [
              0.3333333333333333,
              "#9c179e"
             ],
             [
              0.4444444444444444,
              "#bd3786"
             ],
             [
              0.5555555555555556,
              "#d8576b"
             ],
             [
              0.6666666666666666,
              "#ed7953"
             ],
             [
              0.7777777777777778,
              "#fb9f3a"
             ],
             [
              0.8888888888888888,
              "#fdca26"
             ],
             [
              1,
              "#f0f921"
             ]
            ],
            "type": "histogram2dcontour"
           }
          ],
          "mesh3d": [
           {
            "colorbar": {
             "outlinewidth": 0,
             "ticks": ""
            },
            "type": "mesh3d"
           }
          ],
          "parcoords": [
           {
            "line": {
             "colorbar": {
              "outlinewidth": 0,
              "ticks": ""
             }
            },
            "type": "parcoords"
           }
          ],
          "pie": [
           {
            "automargin": true,
            "type": "pie"
           }
          ],
          "scatter": [
           {
            "fillpattern": {
             "fillmode": "overlay",
             "size": 10,
             "solidity": 0.2
            },
            "type": "scatter"
           }
          ],
          "scatter3d": [
           {
            "line": {
             "colorbar": {
              "outlinewidth": 0,
              "ticks": ""
             }
            },
            "marker": {
             "colorbar": {
              "outlinewidth": 0,
              "ticks": ""
             }
            },
            "type": "scatter3d"
           }
          ],
          "scattercarpet": [
           {
            "marker": {
             "colorbar": {
              "outlinewidth": 0,
              "ticks": ""
             }
            },
            "type": "scattercarpet"
           }
          ],
          "scattergeo": [
           {
            "marker": {
             "colorbar": {
              "outlinewidth": 0,
              "ticks": ""
             }
            },
            "type": "scattergeo"
           }
          ],
          "scattergl": [
           {
            "marker": {
             "colorbar": {
              "outlinewidth": 0,
              "ticks": ""
             }
            },
            "type": "scattergl"
           }
          ],
          "scattermapbox": [
           {
            "marker": {
             "colorbar": {
              "outlinewidth": 0,
              "ticks": ""
             }
            },
            "type": "scattermapbox"
           }
          ],
          "scatterpolar": [
           {
            "marker": {
             "colorbar": {
              "outlinewidth": 0,
              "ticks": ""
             }
            },
            "type": "scatterpolar"
           }
          ],
          "scatterpolargl": [
           {
            "marker": {
             "colorbar": {
              "outlinewidth": 0,
              "ticks": ""
             }
            },
            "type": "scatterpolargl"
           }
          ],
          "scatterternary": [
           {
            "marker": {
             "colorbar": {
              "outlinewidth": 0,
              "ticks": ""
             }
            },
            "type": "scatterternary"
           }
          ],
          "surface": [
           {
            "colorbar": {
             "outlinewidth": 0,
             "ticks": ""
            },
            "colorscale": [
             [
              0,
              "#0d0887"
             ],
             [
              0.1111111111111111,
              "#46039f"
             ],
             [
              0.2222222222222222,
              "#7201a8"
             ],
             [
              0.3333333333333333,
              "#9c179e"
             ],
             [
              0.4444444444444444,
              "#bd3786"
             ],
             [
              0.5555555555555556,
              "#d8576b"
             ],
             [
              0.6666666666666666,
              "#ed7953"
             ],
             [
              0.7777777777777778,
              "#fb9f3a"
             ],
             [
              0.8888888888888888,
              "#fdca26"
             ],
             [
              1,
              "#f0f921"
             ]
            ],
            "type": "surface"
           }
          ],
          "table": [
           {
            "cells": {
             "fill": {
              "color": "#EBF0F8"
             },
             "line": {
              "color": "white"
             }
            },
            "header": {
             "fill": {
              "color": "#C8D4E3"
             },
             "line": {
              "color": "white"
             }
            },
            "type": "table"
           }
          ]
         },
         "layout": {
          "annotationdefaults": {
           "arrowcolor": "#2a3f5f",
           "arrowhead": 0,
           "arrowwidth": 1
          },
          "autotypenumbers": "strict",
          "coloraxis": {
           "colorbar": {
            "outlinewidth": 0,
            "ticks": ""
           }
          },
          "colorscale": {
           "diverging": [
            [
             0,
             "#8e0152"
            ],
            [
             0.1,
             "#c51b7d"
            ],
            [
             0.2,
             "#de77ae"
            ],
            [
             0.3,
             "#f1b6da"
            ],
            [
             0.4,
             "#fde0ef"
            ],
            [
             0.5,
             "#f7f7f7"
            ],
            [
             0.6,
             "#e6f5d0"
            ],
            [
             0.7,
             "#b8e186"
            ],
            [
             0.8,
             "#7fbc41"
            ],
            [
             0.9,
             "#4d9221"
            ],
            [
             1,
             "#276419"
            ]
           ],
           "sequential": [
            [
             0,
             "#0d0887"
            ],
            [
             0.1111111111111111,
             "#46039f"
            ],
            [
             0.2222222222222222,
             "#7201a8"
            ],
            [
             0.3333333333333333,
             "#9c179e"
            ],
            [
             0.4444444444444444,
             "#bd3786"
            ],
            [
             0.5555555555555556,
             "#d8576b"
            ],
            [
             0.6666666666666666,
             "#ed7953"
            ],
            [
             0.7777777777777778,
             "#fb9f3a"
            ],
            [
             0.8888888888888888,
             "#fdca26"
            ],
            [
             1,
             "#f0f921"
            ]
           ],
           "sequentialminus": [
            [
             0,
             "#0d0887"
            ],
            [
             0.1111111111111111,
             "#46039f"
            ],
            [
             0.2222222222222222,
             "#7201a8"
            ],
            [
             0.3333333333333333,
             "#9c179e"
            ],
            [
             0.4444444444444444,
             "#bd3786"
            ],
            [
             0.5555555555555556,
             "#d8576b"
            ],
            [
             0.6666666666666666,
             "#ed7953"
            ],
            [
             0.7777777777777778,
             "#fb9f3a"
            ],
            [
             0.8888888888888888,
             "#fdca26"
            ],
            [
             1,
             "#f0f921"
            ]
           ]
          },
          "colorway": [
           "#636efa",
           "#EF553B",
           "#00cc96",
           "#ab63fa",
           "#FFA15A",
           "#19d3f3",
           "#FF6692",
           "#B6E880",
           "#FF97FF",
           "#FECB52"
          ],
          "font": {
           "color": "#2a3f5f"
          },
          "geo": {
           "bgcolor": "white",
           "lakecolor": "white",
           "landcolor": "#E5ECF6",
           "showlakes": true,
           "showland": true,
           "subunitcolor": "white"
          },
          "hoverlabel": {
           "align": "left"
          },
          "hovermode": "closest",
          "mapbox": {
           "style": "light"
          },
          "paper_bgcolor": "white",
          "plot_bgcolor": "#E5ECF6",
          "polar": {
           "angularaxis": {
            "gridcolor": "white",
            "linecolor": "white",
            "ticks": ""
           },
           "bgcolor": "#E5ECF6",
           "radialaxis": {
            "gridcolor": "white",
            "linecolor": "white",
            "ticks": ""
           }
          },
          "scene": {
           "xaxis": {
            "backgroundcolor": "#E5ECF6",
            "gridcolor": "white",
            "gridwidth": 2,
            "linecolor": "white",
            "showbackground": true,
            "ticks": "",
            "zerolinecolor": "white"
           },
           "yaxis": {
            "backgroundcolor": "#E5ECF6",
            "gridcolor": "white",
            "gridwidth": 2,
            "linecolor": "white",
            "showbackground": true,
            "ticks": "",
            "zerolinecolor": "white"
           },
           "zaxis": {
            "backgroundcolor": "#E5ECF6",
            "gridcolor": "white",
            "gridwidth": 2,
            "linecolor": "white",
            "showbackground": true,
            "ticks": "",
            "zerolinecolor": "white"
           }
          },
          "shapedefaults": {
           "line": {
            "color": "#2a3f5f"
           }
          },
          "ternary": {
           "aaxis": {
            "gridcolor": "white",
            "linecolor": "white",
            "ticks": ""
           },
           "baxis": {
            "gridcolor": "white",
            "linecolor": "white",
            "ticks": ""
           },
           "bgcolor": "#E5ECF6",
           "caxis": {
            "gridcolor": "white",
            "linecolor": "white",
            "ticks": ""
           }
          },
          "title": {
           "x": 0.05
          },
          "xaxis": {
           "automargin": true,
           "gridcolor": "white",
           "linecolor": "white",
           "ticks": "",
           "title": {
            "standoff": 15
           },
           "zerolinecolor": "white",
           "zerolinewidth": 2
          },
          "yaxis": {
           "automargin": true,
           "gridcolor": "white",
           "linecolor": "white",
           "ticks": "",
           "title": {
            "standoff": 15
           },
           "zerolinecolor": "white",
           "zerolinewidth": 2
          }
         }
        },
        "title": {
         "text": "Residuals Plot"
        },
        "xaxis": {
         "anchor": "y",
         "domain": [
          0,
          1
         ],
         "title": {
          "text": "index"
         }
        },
        "yaxis": {
         "anchor": "x",
         "domain": [
          0,
          1
         ],
         "title": {
          "text": "value"
         }
        }
       }
      }
     },
     "metadata": {},
     "output_type": "display_data"
    }
   ],
   "source": [
    "fig = px.line(residuals, title=\"Residuals Plot\")\n",
    "fig.show()"
   ]
  },
  {
   "cell_type": "code",
   "execution_count": 57,
   "metadata": {},
   "outputs": [
    {
     "data": {
      "text/html": [
       "<div>\n",
       "<style scoped>\n",
       "    .dataframe tbody tr th:only-of-type {\n",
       "        vertical-align: middle;\n",
       "    }\n",
       "\n",
       "    .dataframe tbody tr th {\n",
       "        vertical-align: top;\n",
       "    }\n",
       "\n",
       "    .dataframe thead th {\n",
       "        text-align: right;\n",
       "    }\n",
       "</style>\n",
       "<table border=\"1\" class=\"dataframe\">\n",
       "  <thead>\n",
       "    <tr style=\"text-align: right;\">\n",
       "      <th></th>\n",
       "      <th>lb_stat</th>\n",
       "      <th>lb_pvalue</th>\n",
       "    </tr>\n",
       "  </thead>\n",
       "  <tbody>\n",
       "    <tr>\n",
       "      <th>1</th>\n",
       "      <td>0.039255</td>\n",
       "      <td>0.842944</td>\n",
       "    </tr>\n",
       "    <tr>\n",
       "      <th>2</th>\n",
       "      <td>0.124259</td>\n",
       "      <td>0.939761</td>\n",
       "    </tr>\n",
       "    <tr>\n",
       "      <th>3</th>\n",
       "      <td>0.641166</td>\n",
       "      <td>0.886947</td>\n",
       "    </tr>\n",
       "    <tr>\n",
       "      <th>4</th>\n",
       "      <td>0.960512</td>\n",
       "      <td>0.915723</td>\n",
       "    </tr>\n",
       "    <tr>\n",
       "      <th>5</th>\n",
       "      <td>1.686319</td>\n",
       "      <td>0.890619</td>\n",
       "    </tr>\n",
       "    <tr>\n",
       "      <th>6</th>\n",
       "      <td>2.866922</td>\n",
       "      <td>0.825355</td>\n",
       "    </tr>\n",
       "    <tr>\n",
       "      <th>7</th>\n",
       "      <td>6.264828</td>\n",
       "      <td>0.509190</td>\n",
       "    </tr>\n",
       "    <tr>\n",
       "      <th>8</th>\n",
       "      <td>6.505402</td>\n",
       "      <td>0.590808</td>\n",
       "    </tr>\n",
       "    <tr>\n",
       "      <th>9</th>\n",
       "      <td>6.844115</td>\n",
       "      <td>0.653345</td>\n",
       "    </tr>\n",
       "    <tr>\n",
       "      <th>10</th>\n",
       "      <td>7.111619</td>\n",
       "      <td>0.714867</td>\n",
       "    </tr>\n",
       "    <tr>\n",
       "      <th>11</th>\n",
       "      <td>7.111635</td>\n",
       "      <td>0.789972</td>\n",
       "    </tr>\n",
       "    <tr>\n",
       "      <th>12</th>\n",
       "      <td>7.487296</td>\n",
       "      <td>0.823805</td>\n",
       "    </tr>\n",
       "  </tbody>\n",
       "</table>\n",
       "</div>"
      ],
      "text/plain": [
       "     lb_stat  lb_pvalue\n",
       "1   0.039255   0.842944\n",
       "2   0.124259   0.939761\n",
       "3   0.641166   0.886947\n",
       "4   0.960512   0.915723\n",
       "5   1.686319   0.890619\n",
       "6   2.866922   0.825355\n",
       "7   6.264828   0.509190\n",
       "8   6.505402   0.590808\n",
       "9   6.844115   0.653345\n",
       "10  7.111619   0.714867\n",
       "11  7.111635   0.789972\n",
       "12  7.487296   0.823805"
      ]
     },
     "execution_count": 57,
     "metadata": {},
     "output_type": "execute_result"
    }
   ],
   "source": [
    "# acorr_ljungbox test for autocorrelation and plot the p-values, x-axis the lag\n",
    "lb_test = acorr_ljungbox(residuals, lags=12)\n",
    "lb_test\n"
   ]
  },
  {
   "cell_type": "code",
   "execution_count": 61,
   "metadata": {},
   "outputs": [
    {
     "data": {
      "application/vnd.plotly.v1+json": {
       "config": {
        "plotlyServerURL": "https://plot.ly"
       },
       "data": [
        {
         "hovertemplate": "index=%{x}<br>lb_pvalue=%{y}<extra></extra>",
         "legendgroup": "",
         "line": {
          "color": "#636efa",
          "dash": "solid"
         },
         "marker": {
          "symbol": "circle"
         },
         "mode": "lines",
         "name": "",
         "orientation": "v",
         "showlegend": false,
         "type": "scatter",
         "x": [
          1,
          2,
          3,
          4,
          5,
          6,
          7,
          8,
          9,
          10,
          11,
          12
         ],
         "xaxis": "x",
         "y": [
          0.8429437970089478,
          0.9397613200744579,
          0.8869470862762908,
          0.9157233971398221,
          0.8906188070620836,
          0.8253546745777246,
          0.5091895099750675,
          0.5908084815447754,
          0.6533454176575816,
          0.7148670731202239,
          0.7899723125650715,
          0.8238050012321511
         ],
         "yaxis": "y"
        }
       ],
       "layout": {
        "legend": {
         "tracegroupgap": 0
        },
        "template": {
         "data": {
          "bar": [
           {
            "error_x": {
             "color": "#2a3f5f"
            },
            "error_y": {
             "color": "#2a3f5f"
            },
            "marker": {
             "line": {
              "color": "#E5ECF6",
              "width": 0.5
             },
             "pattern": {
              "fillmode": "overlay",
              "size": 10,
              "solidity": 0.2
             }
            },
            "type": "bar"
           }
          ],
          "barpolar": [
           {
            "marker": {
             "line": {
              "color": "#E5ECF6",
              "width": 0.5
             },
             "pattern": {
              "fillmode": "overlay",
              "size": 10,
              "solidity": 0.2
             }
            },
            "type": "barpolar"
           }
          ],
          "carpet": [
           {
            "aaxis": {
             "endlinecolor": "#2a3f5f",
             "gridcolor": "white",
             "linecolor": "white",
             "minorgridcolor": "white",
             "startlinecolor": "#2a3f5f"
            },
            "baxis": {
             "endlinecolor": "#2a3f5f",
             "gridcolor": "white",
             "linecolor": "white",
             "minorgridcolor": "white",
             "startlinecolor": "#2a3f5f"
            },
            "type": "carpet"
           }
          ],
          "choropleth": [
           {
            "colorbar": {
             "outlinewidth": 0,
             "ticks": ""
            },
            "type": "choropleth"
           }
          ],
          "contour": [
           {
            "colorbar": {
             "outlinewidth": 0,
             "ticks": ""
            },
            "colorscale": [
             [
              0,
              "#0d0887"
             ],
             [
              0.1111111111111111,
              "#46039f"
             ],
             [
              0.2222222222222222,
              "#7201a8"
             ],
             [
              0.3333333333333333,
              "#9c179e"
             ],
             [
              0.4444444444444444,
              "#bd3786"
             ],
             [
              0.5555555555555556,
              "#d8576b"
             ],
             [
              0.6666666666666666,
              "#ed7953"
             ],
             [
              0.7777777777777778,
              "#fb9f3a"
             ],
             [
              0.8888888888888888,
              "#fdca26"
             ],
             [
              1,
              "#f0f921"
             ]
            ],
            "type": "contour"
           }
          ],
          "contourcarpet": [
           {
            "colorbar": {
             "outlinewidth": 0,
             "ticks": ""
            },
            "type": "contourcarpet"
           }
          ],
          "heatmap": [
           {
            "colorbar": {
             "outlinewidth": 0,
             "ticks": ""
            },
            "colorscale": [
             [
              0,
              "#0d0887"
             ],
             [
              0.1111111111111111,
              "#46039f"
             ],
             [
              0.2222222222222222,
              "#7201a8"
             ],
             [
              0.3333333333333333,
              "#9c179e"
             ],
             [
              0.4444444444444444,
              "#bd3786"
             ],
             [
              0.5555555555555556,
              "#d8576b"
             ],
             [
              0.6666666666666666,
              "#ed7953"
             ],
             [
              0.7777777777777778,
              "#fb9f3a"
             ],
             [
              0.8888888888888888,
              "#fdca26"
             ],
             [
              1,
              "#f0f921"
             ]
            ],
            "type": "heatmap"
           }
          ],
          "heatmapgl": [
           {
            "colorbar": {
             "outlinewidth": 0,
             "ticks": ""
            },
            "colorscale": [
             [
              0,
              "#0d0887"
             ],
             [
              0.1111111111111111,
              "#46039f"
             ],
             [
              0.2222222222222222,
              "#7201a8"
             ],
             [
              0.3333333333333333,
              "#9c179e"
             ],
             [
              0.4444444444444444,
              "#bd3786"
             ],
             [
              0.5555555555555556,
              "#d8576b"
             ],
             [
              0.6666666666666666,
              "#ed7953"
             ],
             [
              0.7777777777777778,
              "#fb9f3a"
             ],
             [
              0.8888888888888888,
              "#fdca26"
             ],
             [
              1,
              "#f0f921"
             ]
            ],
            "type": "heatmapgl"
           }
          ],
          "histogram": [
           {
            "marker": {
             "pattern": {
              "fillmode": "overlay",
              "size": 10,
              "solidity": 0.2
             }
            },
            "type": "histogram"
           }
          ],
          "histogram2d": [
           {
            "colorbar": {
             "outlinewidth": 0,
             "ticks": ""
            },
            "colorscale": [
             [
              0,
              "#0d0887"
             ],
             [
              0.1111111111111111,
              "#46039f"
             ],
             [
              0.2222222222222222,
              "#7201a8"
             ],
             [
              0.3333333333333333,
              "#9c179e"
             ],
             [
              0.4444444444444444,
              "#bd3786"
             ],
             [
              0.5555555555555556,
              "#d8576b"
             ],
             [
              0.6666666666666666,
              "#ed7953"
             ],
             [
              0.7777777777777778,
              "#fb9f3a"
             ],
             [
              0.8888888888888888,
              "#fdca26"
             ],
             [
              1,
              "#f0f921"
             ]
            ],
            "type": "histogram2d"
           }
          ],
          "histogram2dcontour": [
           {
            "colorbar": {
             "outlinewidth": 0,
             "ticks": ""
            },
            "colorscale": [
             [
              0,
              "#0d0887"
             ],
             [
              0.1111111111111111,
              "#46039f"
             ],
             [
              0.2222222222222222,
              "#7201a8"
             ],
             [
              0.3333333333333333,
              "#9c179e"
             ],
             [
              0.4444444444444444,
              "#bd3786"
             ],
             [
              0.5555555555555556,
              "#d8576b"
             ],
             [
              0.6666666666666666,
              "#ed7953"
             ],
             [
              0.7777777777777778,
              "#fb9f3a"
             ],
             [
              0.8888888888888888,
              "#fdca26"
             ],
             [
              1,
              "#f0f921"
             ]
            ],
            "type": "histogram2dcontour"
           }
          ],
          "mesh3d": [
           {
            "colorbar": {
             "outlinewidth": 0,
             "ticks": ""
            },
            "type": "mesh3d"
           }
          ],
          "parcoords": [
           {
            "line": {
             "colorbar": {
              "outlinewidth": 0,
              "ticks": ""
             }
            },
            "type": "parcoords"
           }
          ],
          "pie": [
           {
            "automargin": true,
            "type": "pie"
           }
          ],
          "scatter": [
           {
            "fillpattern": {
             "fillmode": "overlay",
             "size": 10,
             "solidity": 0.2
            },
            "type": "scatter"
           }
          ],
          "scatter3d": [
           {
            "line": {
             "colorbar": {
              "outlinewidth": 0,
              "ticks": ""
             }
            },
            "marker": {
             "colorbar": {
              "outlinewidth": 0,
              "ticks": ""
             }
            },
            "type": "scatter3d"
           }
          ],
          "scattercarpet": [
           {
            "marker": {
             "colorbar": {
              "outlinewidth": 0,
              "ticks": ""
             }
            },
            "type": "scattercarpet"
           }
          ],
          "scattergeo": [
           {
            "marker": {
             "colorbar": {
              "outlinewidth": 0,
              "ticks": ""
             }
            },
            "type": "scattergeo"
           }
          ],
          "scattergl": [
           {
            "marker": {
             "colorbar": {
              "outlinewidth": 0,
              "ticks": ""
             }
            },
            "type": "scattergl"
           }
          ],
          "scattermapbox": [
           {
            "marker": {
             "colorbar": {
              "outlinewidth": 0,
              "ticks": ""
             }
            },
            "type": "scattermapbox"
           }
          ],
          "scatterpolar": [
           {
            "marker": {
             "colorbar": {
              "outlinewidth": 0,
              "ticks": ""
             }
            },
            "type": "scatterpolar"
           }
          ],
          "scatterpolargl": [
           {
            "marker": {
             "colorbar": {
              "outlinewidth": 0,
              "ticks": ""
             }
            },
            "type": "scatterpolargl"
           }
          ],
          "scatterternary": [
           {
            "marker": {
             "colorbar": {
              "outlinewidth": 0,
              "ticks": ""
             }
            },
            "type": "scatterternary"
           }
          ],
          "surface": [
           {
            "colorbar": {
             "outlinewidth": 0,
             "ticks": ""
            },
            "colorscale": [
             [
              0,
              "#0d0887"
             ],
             [
              0.1111111111111111,
              "#46039f"
             ],
             [
              0.2222222222222222,
              "#7201a8"
             ],
             [
              0.3333333333333333,
              "#9c179e"
             ],
             [
              0.4444444444444444,
              "#bd3786"
             ],
             [
              0.5555555555555556,
              "#d8576b"
             ],
             [
              0.6666666666666666,
              "#ed7953"
             ],
             [
              0.7777777777777778,
              "#fb9f3a"
             ],
             [
              0.8888888888888888,
              "#fdca26"
             ],
             [
              1,
              "#f0f921"
             ]
            ],
            "type": "surface"
           }
          ],
          "table": [
           {
            "cells": {
             "fill": {
              "color": "#EBF0F8"
             },
             "line": {
              "color": "white"
             }
            },
            "header": {
             "fill": {
              "color": "#C8D4E3"
             },
             "line": {
              "color": "white"
             }
            },
            "type": "table"
           }
          ]
         },
         "layout": {
          "annotationdefaults": {
           "arrowcolor": "#2a3f5f",
           "arrowhead": 0,
           "arrowwidth": 1
          },
          "autotypenumbers": "strict",
          "coloraxis": {
           "colorbar": {
            "outlinewidth": 0,
            "ticks": ""
           }
          },
          "colorscale": {
           "diverging": [
            [
             0,
             "#8e0152"
            ],
            [
             0.1,
             "#c51b7d"
            ],
            [
             0.2,
             "#de77ae"
            ],
            [
             0.3,
             "#f1b6da"
            ],
            [
             0.4,
             "#fde0ef"
            ],
            [
             0.5,
             "#f7f7f7"
            ],
            [
             0.6,
             "#e6f5d0"
            ],
            [
             0.7,
             "#b8e186"
            ],
            [
             0.8,
             "#7fbc41"
            ],
            [
             0.9,
             "#4d9221"
            ],
            [
             1,
             "#276419"
            ]
           ],
           "sequential": [
            [
             0,
             "#0d0887"
            ],
            [
             0.1111111111111111,
             "#46039f"
            ],
            [
             0.2222222222222222,
             "#7201a8"
            ],
            [
             0.3333333333333333,
             "#9c179e"
            ],
            [
             0.4444444444444444,
             "#bd3786"
            ],
            [
             0.5555555555555556,
             "#d8576b"
            ],
            [
             0.6666666666666666,
             "#ed7953"
            ],
            [
             0.7777777777777778,
             "#fb9f3a"
            ],
            [
             0.8888888888888888,
             "#fdca26"
            ],
            [
             1,
             "#f0f921"
            ]
           ],
           "sequentialminus": [
            [
             0,
             "#0d0887"
            ],
            [
             0.1111111111111111,
             "#46039f"
            ],
            [
             0.2222222222222222,
             "#7201a8"
            ],
            [
             0.3333333333333333,
             "#9c179e"
            ],
            [
             0.4444444444444444,
             "#bd3786"
            ],
            [
             0.5555555555555556,
             "#d8576b"
            ],
            [
             0.6666666666666666,
             "#ed7953"
            ],
            [
             0.7777777777777778,
             "#fb9f3a"
            ],
            [
             0.8888888888888888,
             "#fdca26"
            ],
            [
             1,
             "#f0f921"
            ]
           ]
          },
          "colorway": [
           "#636efa",
           "#EF553B",
           "#00cc96",
           "#ab63fa",
           "#FFA15A",
           "#19d3f3",
           "#FF6692",
           "#B6E880",
           "#FF97FF",
           "#FECB52"
          ],
          "font": {
           "color": "#2a3f5f"
          },
          "geo": {
           "bgcolor": "white",
           "lakecolor": "white",
           "landcolor": "#E5ECF6",
           "showlakes": true,
           "showland": true,
           "subunitcolor": "white"
          },
          "hoverlabel": {
           "align": "left"
          },
          "hovermode": "closest",
          "mapbox": {
           "style": "light"
          },
          "paper_bgcolor": "white",
          "plot_bgcolor": "#E5ECF6",
          "polar": {
           "angularaxis": {
            "gridcolor": "white",
            "linecolor": "white",
            "ticks": ""
           },
           "bgcolor": "#E5ECF6",
           "radialaxis": {
            "gridcolor": "white",
            "linecolor": "white",
            "ticks": ""
           }
          },
          "scene": {
           "xaxis": {
            "backgroundcolor": "#E5ECF6",
            "gridcolor": "white",
            "gridwidth": 2,
            "linecolor": "white",
            "showbackground": true,
            "ticks": "",
            "zerolinecolor": "white"
           },
           "yaxis": {
            "backgroundcolor": "#E5ECF6",
            "gridcolor": "white",
            "gridwidth": 2,
            "linecolor": "white",
            "showbackground": true,
            "ticks": "",
            "zerolinecolor": "white"
           },
           "zaxis": {
            "backgroundcolor": "#E5ECF6",
            "gridcolor": "white",
            "gridwidth": 2,
            "linecolor": "white",
            "showbackground": true,
            "ticks": "",
            "zerolinecolor": "white"
           }
          },
          "shapedefaults": {
           "line": {
            "color": "#2a3f5f"
           }
          },
          "ternary": {
           "aaxis": {
            "gridcolor": "white",
            "linecolor": "white",
            "ticks": ""
           },
           "baxis": {
            "gridcolor": "white",
            "linecolor": "white",
            "ticks": ""
           },
           "bgcolor": "#E5ECF6",
           "caxis": {
            "gridcolor": "white",
            "linecolor": "white",
            "ticks": ""
           }
          },
          "title": {
           "x": 0.05
          },
          "xaxis": {
           "automargin": true,
           "gridcolor": "white",
           "linecolor": "white",
           "ticks": "",
           "title": {
            "standoff": 15
           },
           "zerolinecolor": "white",
           "zerolinewidth": 2
          },
          "yaxis": {
           "automargin": true,
           "gridcolor": "white",
           "linecolor": "white",
           "ticks": "",
           "title": {
            "standoff": 15
           },
           "zerolinecolor": "white",
           "zerolinewidth": 2
          }
         }
        },
        "title": {
         "text": "Ljung-Box Test"
        },
        "xaxis": {
         "anchor": "y",
         "domain": [
          0,
          1
         ],
         "title": {
          "text": "index"
         }
        },
        "yaxis": {
         "anchor": "x",
         "domain": [
          0,
          1
         ],
         "title": {
          "text": "lb_pvalue"
         }
        }
       }
      }
     },
     "metadata": {},
     "output_type": "display_data"
    }
   ],
   "source": [
    "# lb_test is df, plot the column lb_pvalue and x axis is lag\n",
    "fig = px.line(lb_test, x=lb_test.index, y='lb_pvalue', title=\"Ljung-Box Test\")\n",
    "fig.show()"
   ]
  },
  {
   "cell_type": "code",
   "execution_count": 68,
   "metadata": {},
   "outputs": [
    {
     "name": "stdout",
     "output_type": "stream",
     "text": [
      "The Ljung-Box test result suggests that the residuals are not autocorrelated.\n"
     ]
    }
   ],
   "source": [
    "# print interpretation of the test\n",
    "if lb_test['lb_pvalue'].values[0] < 0.05:\n",
    "    print('The Ljung-Box test result suggests that the residuals are autocorrelated.')\n",
    "else:\n",
    "    print('The Ljung-Box test result suggests that the residuals are not autocorrelated.')"
   ]
  },
  {
   "cell_type": "code",
   "execution_count": 70,
   "metadata": {},
   "outputs": [
    {
     "name": "stdout",
     "output_type": "stream",
     "text": [
      "The Jarque-Bera test result suggests that the residuals are not normally distributed.\n"
     ]
    }
   ],
   "source": [
    "# test normailty of residuals using Jarque-Bera test\n",
    "jb_test = sm.stats.stattools.jarque_bera(residuals)\n",
    "\n",
    "# print interpretation of the test\n",
    "if jb_test[1] < 0.05:\n",
    "    print('The Jarque-Bera test result suggests that the residuals are not normally distributed.')\n",
    "else:\n",
    "    print('The Jarque-Bera test result suggests that the residuals are normally distributed.')"
   ]
  },
  {
   "attachments": {},
   "cell_type": "markdown",
   "metadata": {},
   "source": [
    "## Question 7 (2 points)"
   ]
  },
  {
   "attachments": {},
   "cell_type": "markdown",
   "metadata": {},
   "source": [
    "Take the first difference of yt. Denote the new series as ∆yt. \n",
    "\n",
    "Plot the time series \n",
    "\n",
    "and discuss all key properties of time series data for ∆yt based on visual inspection."
   ]
  },
  {
   "cell_type": "code",
   "execution_count": 71,
   "metadata": {},
   "outputs": [
    {
     "data": {
      "text/plain": [
       "1      -16.705\n",
       "2       -5.925\n",
       "3       37.823\n",
       "4       23.936\n",
       "5       15.918\n",
       "        ...   \n",
       "300     50.709\n",
       "301   -145.507\n",
       "302    -93.123\n",
       "303     40.278\n",
       "304   -121.050\n",
       "Name: DI, Length: 304, dtype: float64"
      ]
     },
     "execution_count": 71,
     "metadata": {},
     "output_type": "execute_result"
    }
   ],
   "source": [
    "dyt = df['DI'].diff().dropna()\n",
    "dyt"
   ]
  },
  {
   "cell_type": "code",
   "execution_count": 76,
   "metadata": {},
   "outputs": [
    {
     "data": {
      "application/vnd.plotly.v1+json": {
       "config": {
        "plotlyServerURL": "https://plot.ly"
       },
       "data": [
        {
         "hovertemplate": "index=%{x}<br>y=%{y}<extra></extra>",
         "legendgroup": "",
         "marker": {
          "color": "#636efa",
          "symbol": "circle"
         },
         "mode": "markers",
         "name": "",
         "orientation": "v",
         "showlegend": false,
         "type": "scatter",
         "x": [
          1,
          2,
          3,
          4,
          5,
          6,
          7,
          8,
          9,
          10,
          11,
          12,
          13,
          14,
          15,
          16,
          17,
          18,
          19,
          20,
          21,
          22,
          23,
          24,
          25,
          26,
          27,
          28,
          29,
          30,
          31,
          32,
          33,
          34,
          35,
          36,
          37,
          38,
          39,
          40,
          41,
          42,
          43,
          44,
          45,
          46,
          47,
          48,
          49,
          50,
          51,
          52,
          53,
          54,
          55,
          56,
          57,
          58,
          59,
          60,
          61,
          62,
          63,
          64,
          65,
          66,
          67,
          68,
          69,
          70,
          71,
          72,
          73,
          74,
          75,
          76,
          77,
          78,
          79,
          80,
          81,
          82,
          83,
          84,
          85,
          86,
          87,
          88,
          89,
          90,
          91,
          92,
          93,
          94,
          95,
          96,
          97,
          98,
          99,
          100,
          101,
          102,
          103,
          104,
          105,
          106,
          107,
          108,
          109,
          110,
          111,
          112,
          113,
          114,
          115,
          116,
          117,
          118,
          119,
          120,
          121,
          122,
          123,
          124,
          125,
          126,
          127,
          128,
          129,
          130,
          131,
          132,
          133,
          134,
          135,
          136,
          137,
          138,
          139,
          140,
          141,
          142,
          143,
          144,
          145,
          146,
          147,
          148,
          149,
          150,
          151,
          152,
          153,
          154,
          155,
          156,
          157,
          158,
          159,
          160,
          161,
          162,
          163,
          164,
          165,
          166,
          167,
          168,
          169,
          170,
          171,
          172,
          173,
          174,
          175,
          176,
          177,
          178,
          179,
          180,
          181,
          182,
          183,
          184,
          185,
          186,
          187,
          188,
          189,
          190,
          191,
          192,
          193,
          194,
          195,
          196,
          197,
          198,
          199,
          200,
          201,
          202,
          203,
          204,
          205,
          206,
          207,
          208,
          209,
          210,
          211,
          212,
          213,
          214,
          215,
          216,
          217,
          218,
          219,
          220,
          221,
          222,
          223,
          224,
          225,
          226,
          227,
          228,
          229,
          230,
          231,
          232,
          233,
          234,
          235,
          236,
          237,
          238,
          239,
          240,
          241,
          242,
          243,
          244,
          245,
          246,
          247,
          248,
          249,
          250,
          251,
          252,
          253,
          254,
          255,
          256,
          257,
          258,
          259,
          260,
          261,
          262,
          263,
          264,
          265,
          266,
          267,
          268,
          269,
          270,
          271,
          272,
          273,
          274,
          275,
          276,
          277,
          278,
          279,
          280,
          281,
          282,
          283,
          284,
          285,
          286,
          287,
          288,
          289,
          290,
          291,
          292,
          293,
          294,
          295,
          296,
          297,
          298,
          299,
          300,
          301,
          302,
          303,
          304
         ],
         "xaxis": "x",
         "y": [
          -16.705000000000013,
          -5.924999999999983,
          37.82299999999998,
          23.936000000000035,
          15.91799999999995,
          2.798000000000002,
          -13.194999999999993,
          -39.23399999999998,
          -29.712000000000018,
          16.067000000000007,
          -10.322000000000003,
          47.37100000000001,
          26.423999999999978,
          23.496000000000038,
          37.716999999999985,
          -34.185,
          6.963000000000022,
          -22.62900000000002,
          -22.684000000000026,
          6.837000000000046,
          -20.27000000000001,
          13.325999999999993,
          18.865999999999985,
          6.040999999999997,
          1.632000000000005,
          -6.033999999999992,
          -20.406000000000006,
          -1.877999999999986,
          -0.6140000000000327,
          12.524000000000001,
          11.93100000000004,
          28.36899999999997,
          18.996000000000038,
          5.0849999999999795,
          7.800000000000011,
          -9.828000000000031,
          -2.630999999999972,
          -2.9710000000000036,
          -3.049000000000035,
          -5.0569999999999595,
          -0.32499999999998863,
          7.343999999999994,
          -25.198000000000036,
          -20.406999999999982,
          -5.682999999999993,
          21.214,
          25.37700000000001,
          17.599999999999966,
          26.495000000000005,
          -23.70799999999997,
          11.175999999999988,
          35.64299999999997,
          -36.36899999999997,
          -0.8990000000000009,
          -39.09899999999999,
          8.144999999999982,
          22.56099999999998,
          26.786,
          6.1440000000000055,
          20.352000000000032,
          -3.1370000000000005,
          6.706999999999994,
          -11.744000000000028,
          20.501000000000033,
          6.524999999999977,
          12.829000000000008,
          5.214999999999975,
          16.27000000000004,
          -1.6240000000000236,
          10.488,
          4.367999999999995,
          44.262,
          1.3360000000000127,
          17.750999999999976,
          3.494000000000028,
          42.42999999999995,
          -8.490000000000009,
          -4.167999999999893,
          3.286999999999921,
          -13.845000000000027,
          -19.9079999999999,
          15.551999999999907,
          11.776000000000067,
          11.180999999999926,
          21.760000000000105,
          -16.10800000000006,
          6.25,
          34.200000000000045,
          -3.6230000000000473,
          12.412000000000035,
          -30.119000000000028,
          -17.706000000000017,
          1.2520000000000664,
          9.392999999999915,
          -31.144000000000005,
          64.75800000000004,
          17.599000000000046,
          7.737999999999943,
          -17.384000000000015,
          41.39300000000003,
          38.03100000000006,
          10.048999999999978,
          4.5,
          42.319999999999936,
          32.58600000000001,
          -28.900999999999954,
          27.36099999999999,
          -45.428,
          -2.994000000000028,
          -38.72000000000003,
          4.298999999999978,
          -114.79499999999996,
          -17.798999999999978,
          44.97000000000003,
          17.447000000000003,
          61.990999999999985,
          27.882999999999925,
          2.552000000000021,
          5.498000000000047,
          34.303,
          55.539999999999964,
          42.013000000000034,
          -21.880999999999972,
          16.573999999999955,
          56.30899999999997,
          26.90000000000009,
          21.972999999999956,
          1.615000000000009,
          -0.8770000000000664,
          -16.3839999999999,
          -16.9670000000001,
          -6.4249999999999545,
          -79.34100000000001,
          -56.349000000000046,
          74.322,
          80.68500000000006,
          -39.472999999999956,
          51.455999999999904,
          -33.9609999999999,
          -88.01100000000008,
          -0.6399999999999864,
          -7.713999999999942,
          -64.47300000000007,
          26.663999999999987,
          70.51800000000003,
          54.26700000000005,
          89.60299999999995,
          97.67399999999998,
          36.04300000000012,
          24.764999999999873,
          -15.164999999999964,
          -31.6400000000001,
          19.115999999999985,
          -7.781999999999925,
          41.78500000000008,
          -0.3450000000000273,
          -20.516000000000076,
          -31.057000000000016,
          3.3630000000000564,
          30.411000000000058,
          0.6030000000000655,
          0.16799999999989268,
          78.9090000000001,
          -59.38200000000006,
          28.057999999999993,
          6.697999999999865,
          18.501000000000204,
          41.776999999999816,
          -12.309999999999945,
          -11.316000000000031,
          -9.264999999999873,
          12.310999999999922,
          0.3910000000000764,
          -24.278999999999996,
          -68.70600000000013,
          -38.57999999999993,
          -0.0039999999999054126,
          22.192999999999984,
          40.531999999999925,
          -21.86500000000001,
          65.70000000000005,
          9.756999999999834,
          37.74800000000005,
          30.057999999999993,
          7.508000000000038,
          -8.913999999999987,
          68.5,
          52.26299999999992,
          70.05100000000016,
          -24.412000000000035,
          60.47700000000009,
          16.07199999999989,
          -32.12200000000007,
          -9.027000000000044,
          37.386000000000195,
          24.774999999999864,
          75.32200000000012,
          74.62799999999993,
          -2.2650000000001,
          34.634000000000015,
          107.077,
          25.999000000000024,
          28.093000000000075,
          83.327,
          -12.317000000000007,
          50.95700000000011,
          62.74500000000012,
          57.547999999999774,
          1.344000000000051,
          59.121000000000095,
          59.32199999999966,
          -15.985999999999876,
          133.62400000000025,
          -23.459000000000287,
          4.535000000000309,
          -107.60699999999997,
          3.230999999999767,
          -49.0630000000001,
          -109.86999999999989,
          62.20699999999988,
          35.66800000000012,
          -3.2660000000000764,
          -1.3600000000001273,
          16.93600000000015,
          15.311999999999898,
          81.40200000000004,
          78.00300000000016,
          4.748999999999796,
          95.79400000000032,
          38.690000000000055,
          52.84199999999964,
          72.68600000000015,
          -35.36999999999989,
          34.664999999999964,
          86.38799999999992,
          40.73700000000008,
          -17.954999999999927,
          -10.673999999999978,
          -53.4670000000001,
          -18.59400000000005,
          29.60199999999986,
          -27.38899999999967,
          -33.05000000000018,
          -69.80299999999988,
          -46.850000000000364,
          -50.853999999999814,
          -239.10800000000017,
          -259.5959999999998,
          -114.55799999999999,
          -4.274000000000115,
          172.72300000000018,
          46.43499999999972,
          109.53500000000031,
          97.9659999999999,
          -7.309999999999945,
          -43.121000000000095,
          91.8159999999998,
          7.729000000000269,
          180.64300000000003,
          52.728000000000065,
          59.33799999999974,
          11.963999999999942,
          -23.553999999999633,
          97.87299999999959,
          30.459000000000287,
          106.51400000000012,
          10.375999999999749,
          -31.840000000000146,
          119.7810000000004,
          60.51399999999967,
          3.275000000000091,
          105.41699999999992,
          9.414000000000215,
          -6.334000000000287,
          -37.646999999999935,
          -13.25799999999981,
          -16.115999999999985,
          5.964999999999691,
          78.27800000000025,
          -15.659000000000106,
          55.86400000000003,
          63.04399999999987,
          42.615999999999985,
          49.44300000000021,
          6.163000000000011,
          104.01200000000017,
          -2.451000000000022,
          33.740999999999985,
          20.505999999999858,
          22.338000000000193,
          -72.8390000000004,
          -44.471000000000004,
          -525.6599999999999,
          509.91899999999987,
          143.50300000000016,
          -48.35100000000011,
          7.57300000000032,
          87.18299999999999,
          257.721,
          50.70899999999983,
          -145.50700000000006,
          -93.12300000000005,
          40.27800000000025,
          -121.05000000000018
         ],
         "yaxis": "y"
        }
       ],
       "layout": {
        "legend": {
         "tracegroupgap": 0
        },
        "template": {
         "data": {
          "bar": [
           {
            "error_x": {
             "color": "#2a3f5f"
            },
            "error_y": {
             "color": "#2a3f5f"
            },
            "marker": {
             "line": {
              "color": "#E5ECF6",
              "width": 0.5
             },
             "pattern": {
              "fillmode": "overlay",
              "size": 10,
              "solidity": 0.2
             }
            },
            "type": "bar"
           }
          ],
          "barpolar": [
           {
            "marker": {
             "line": {
              "color": "#E5ECF6",
              "width": 0.5
             },
             "pattern": {
              "fillmode": "overlay",
              "size": 10,
              "solidity": 0.2
             }
            },
            "type": "barpolar"
           }
          ],
          "carpet": [
           {
            "aaxis": {
             "endlinecolor": "#2a3f5f",
             "gridcolor": "white",
             "linecolor": "white",
             "minorgridcolor": "white",
             "startlinecolor": "#2a3f5f"
            },
            "baxis": {
             "endlinecolor": "#2a3f5f",
             "gridcolor": "white",
             "linecolor": "white",
             "minorgridcolor": "white",
             "startlinecolor": "#2a3f5f"
            },
            "type": "carpet"
           }
          ],
          "choropleth": [
           {
            "colorbar": {
             "outlinewidth": 0,
             "ticks": ""
            },
            "type": "choropleth"
           }
          ],
          "contour": [
           {
            "colorbar": {
             "outlinewidth": 0,
             "ticks": ""
            },
            "colorscale": [
             [
              0,
              "#0d0887"
             ],
             [
              0.1111111111111111,
              "#46039f"
             ],
             [
              0.2222222222222222,
              "#7201a8"
             ],
             [
              0.3333333333333333,
              "#9c179e"
             ],
             [
              0.4444444444444444,
              "#bd3786"
             ],
             [
              0.5555555555555556,
              "#d8576b"
             ],
             [
              0.6666666666666666,
              "#ed7953"
             ],
             [
              0.7777777777777778,
              "#fb9f3a"
             ],
             [
              0.8888888888888888,
              "#fdca26"
             ],
             [
              1,
              "#f0f921"
             ]
            ],
            "type": "contour"
           }
          ],
          "contourcarpet": [
           {
            "colorbar": {
             "outlinewidth": 0,
             "ticks": ""
            },
            "type": "contourcarpet"
           }
          ],
          "heatmap": [
           {
            "colorbar": {
             "outlinewidth": 0,
             "ticks": ""
            },
            "colorscale": [
             [
              0,
              "#0d0887"
             ],
             [
              0.1111111111111111,
              "#46039f"
             ],
             [
              0.2222222222222222,
              "#7201a8"
             ],
             [
              0.3333333333333333,
              "#9c179e"
             ],
             [
              0.4444444444444444,
              "#bd3786"
             ],
             [
              0.5555555555555556,
              "#d8576b"
             ],
             [
              0.6666666666666666,
              "#ed7953"
             ],
             [
              0.7777777777777778,
              "#fb9f3a"
             ],
             [
              0.8888888888888888,
              "#fdca26"
             ],
             [
              1,
              "#f0f921"
             ]
            ],
            "type": "heatmap"
           }
          ],
          "heatmapgl": [
           {
            "colorbar": {
             "outlinewidth": 0,
             "ticks": ""
            },
            "colorscale": [
             [
              0,
              "#0d0887"
             ],
             [
              0.1111111111111111,
              "#46039f"
             ],
             [
              0.2222222222222222,
              "#7201a8"
             ],
             [
              0.3333333333333333,
              "#9c179e"
             ],
             [
              0.4444444444444444,
              "#bd3786"
             ],
             [
              0.5555555555555556,
              "#d8576b"
             ],
             [
              0.6666666666666666,
              "#ed7953"
             ],
             [
              0.7777777777777778,
              "#fb9f3a"
             ],
             [
              0.8888888888888888,
              "#fdca26"
             ],
             [
              1,
              "#f0f921"
             ]
            ],
            "type": "heatmapgl"
           }
          ],
          "histogram": [
           {
            "marker": {
             "pattern": {
              "fillmode": "overlay",
              "size": 10,
              "solidity": 0.2
             }
            },
            "type": "histogram"
           }
          ],
          "histogram2d": [
           {
            "colorbar": {
             "outlinewidth": 0,
             "ticks": ""
            },
            "colorscale": [
             [
              0,
              "#0d0887"
             ],
             [
              0.1111111111111111,
              "#46039f"
             ],
             [
              0.2222222222222222,
              "#7201a8"
             ],
             [
              0.3333333333333333,
              "#9c179e"
             ],
             [
              0.4444444444444444,
              "#bd3786"
             ],
             [
              0.5555555555555556,
              "#d8576b"
             ],
             [
              0.6666666666666666,
              "#ed7953"
             ],
             [
              0.7777777777777778,
              "#fb9f3a"
             ],
             [
              0.8888888888888888,
              "#fdca26"
             ],
             [
              1,
              "#f0f921"
             ]
            ],
            "type": "histogram2d"
           }
          ],
          "histogram2dcontour": [
           {
            "colorbar": {
             "outlinewidth": 0,
             "ticks": ""
            },
            "colorscale": [
             [
              0,
              "#0d0887"
             ],
             [
              0.1111111111111111,
              "#46039f"
             ],
             [
              0.2222222222222222,
              "#7201a8"
             ],
             [
              0.3333333333333333,
              "#9c179e"
             ],
             [
              0.4444444444444444,
              "#bd3786"
             ],
             [
              0.5555555555555556,
              "#d8576b"
             ],
             [
              0.6666666666666666,
              "#ed7953"
             ],
             [
              0.7777777777777778,
              "#fb9f3a"
             ],
             [
              0.8888888888888888,
              "#fdca26"
             ],
             [
              1,
              "#f0f921"
             ]
            ],
            "type": "histogram2dcontour"
           }
          ],
          "mesh3d": [
           {
            "colorbar": {
             "outlinewidth": 0,
             "ticks": ""
            },
            "type": "mesh3d"
           }
          ],
          "parcoords": [
           {
            "line": {
             "colorbar": {
              "outlinewidth": 0,
              "ticks": ""
             }
            },
            "type": "parcoords"
           }
          ],
          "pie": [
           {
            "automargin": true,
            "type": "pie"
           }
          ],
          "scatter": [
           {
            "fillpattern": {
             "fillmode": "overlay",
             "size": 10,
             "solidity": 0.2
            },
            "type": "scatter"
           }
          ],
          "scatter3d": [
           {
            "line": {
             "colorbar": {
              "outlinewidth": 0,
              "ticks": ""
             }
            },
            "marker": {
             "colorbar": {
              "outlinewidth": 0,
              "ticks": ""
             }
            },
            "type": "scatter3d"
           }
          ],
          "scattercarpet": [
           {
            "marker": {
             "colorbar": {
              "outlinewidth": 0,
              "ticks": ""
             }
            },
            "type": "scattercarpet"
           }
          ],
          "scattergeo": [
           {
            "marker": {
             "colorbar": {
              "outlinewidth": 0,
              "ticks": ""
             }
            },
            "type": "scattergeo"
           }
          ],
          "scattergl": [
           {
            "marker": {
             "colorbar": {
              "outlinewidth": 0,
              "ticks": ""
             }
            },
            "type": "scattergl"
           }
          ],
          "scattermapbox": [
           {
            "marker": {
             "colorbar": {
              "outlinewidth": 0,
              "ticks": ""
             }
            },
            "type": "scattermapbox"
           }
          ],
          "scatterpolar": [
           {
            "marker": {
             "colorbar": {
              "outlinewidth": 0,
              "ticks": ""
             }
            },
            "type": "scatterpolar"
           }
          ],
          "scatterpolargl": [
           {
            "marker": {
             "colorbar": {
              "outlinewidth": 0,
              "ticks": ""
             }
            },
            "type": "scatterpolargl"
           }
          ],
          "scatterternary": [
           {
            "marker": {
             "colorbar": {
              "outlinewidth": 0,
              "ticks": ""
             }
            },
            "type": "scatterternary"
           }
          ],
          "surface": [
           {
            "colorbar": {
             "outlinewidth": 0,
             "ticks": ""
            },
            "colorscale": [
             [
              0,
              "#0d0887"
             ],
             [
              0.1111111111111111,
              "#46039f"
             ],
             [
              0.2222222222222222,
              "#7201a8"
             ],
             [
              0.3333333333333333,
              "#9c179e"
             ],
             [
              0.4444444444444444,
              "#bd3786"
             ],
             [
              0.5555555555555556,
              "#d8576b"
             ],
             [
              0.6666666666666666,
              "#ed7953"
             ],
             [
              0.7777777777777778,
              "#fb9f3a"
             ],
             [
              0.8888888888888888,
              "#fdca26"
             ],
             [
              1,
              "#f0f921"
             ]
            ],
            "type": "surface"
           }
          ],
          "table": [
           {
            "cells": {
             "fill": {
              "color": "#EBF0F8"
             },
             "line": {
              "color": "white"
             }
            },
            "header": {
             "fill": {
              "color": "#C8D4E3"
             },
             "line": {
              "color": "white"
             }
            },
            "type": "table"
           }
          ]
         },
         "layout": {
          "annotationdefaults": {
           "arrowcolor": "#2a3f5f",
           "arrowhead": 0,
           "arrowwidth": 1
          },
          "autotypenumbers": "strict",
          "coloraxis": {
           "colorbar": {
            "outlinewidth": 0,
            "ticks": ""
           }
          },
          "colorscale": {
           "diverging": [
            [
             0,
             "#8e0152"
            ],
            [
             0.1,
             "#c51b7d"
            ],
            [
             0.2,
             "#de77ae"
            ],
            [
             0.3,
             "#f1b6da"
            ],
            [
             0.4,
             "#fde0ef"
            ],
            [
             0.5,
             "#f7f7f7"
            ],
            [
             0.6,
             "#e6f5d0"
            ],
            [
             0.7,
             "#b8e186"
            ],
            [
             0.8,
             "#7fbc41"
            ],
            [
             0.9,
             "#4d9221"
            ],
            [
             1,
             "#276419"
            ]
           ],
           "sequential": [
            [
             0,
             "#0d0887"
            ],
            [
             0.1111111111111111,
             "#46039f"
            ],
            [
             0.2222222222222222,
             "#7201a8"
            ],
            [
             0.3333333333333333,
             "#9c179e"
            ],
            [
             0.4444444444444444,
             "#bd3786"
            ],
            [
             0.5555555555555556,
             "#d8576b"
            ],
            [
             0.6666666666666666,
             "#ed7953"
            ],
            [
             0.7777777777777778,
             "#fb9f3a"
            ],
            [
             0.8888888888888888,
             "#fdca26"
            ],
            [
             1,
             "#f0f921"
            ]
           ],
           "sequentialminus": [
            [
             0,
             "#0d0887"
            ],
            [
             0.1111111111111111,
             "#46039f"
            ],
            [
             0.2222222222222222,
             "#7201a8"
            ],
            [
             0.3333333333333333,
             "#9c179e"
            ],
            [
             0.4444444444444444,
             "#bd3786"
            ],
            [
             0.5555555555555556,
             "#d8576b"
            ],
            [
             0.6666666666666666,
             "#ed7953"
            ],
            [
             0.7777777777777778,
             "#fb9f3a"
            ],
            [
             0.8888888888888888,
             "#fdca26"
            ],
            [
             1,
             "#f0f921"
            ]
           ]
          },
          "colorway": [
           "#636efa",
           "#EF553B",
           "#00cc96",
           "#ab63fa",
           "#FFA15A",
           "#19d3f3",
           "#FF6692",
           "#B6E880",
           "#FF97FF",
           "#FECB52"
          ],
          "font": {
           "color": "#2a3f5f"
          },
          "geo": {
           "bgcolor": "white",
           "lakecolor": "white",
           "landcolor": "#E5ECF6",
           "showlakes": true,
           "showland": true,
           "subunitcolor": "white"
          },
          "hoverlabel": {
           "align": "left"
          },
          "hovermode": "closest",
          "mapbox": {
           "style": "light"
          },
          "paper_bgcolor": "white",
          "plot_bgcolor": "#E5ECF6",
          "polar": {
           "angularaxis": {
            "gridcolor": "white",
            "linecolor": "white",
            "ticks": ""
           },
           "bgcolor": "#E5ECF6",
           "radialaxis": {
            "gridcolor": "white",
            "linecolor": "white",
            "ticks": ""
           }
          },
          "scene": {
           "xaxis": {
            "backgroundcolor": "#E5ECF6",
            "gridcolor": "white",
            "gridwidth": 2,
            "linecolor": "white",
            "showbackground": true,
            "ticks": "",
            "zerolinecolor": "white"
           },
           "yaxis": {
            "backgroundcolor": "#E5ECF6",
            "gridcolor": "white",
            "gridwidth": 2,
            "linecolor": "white",
            "showbackground": true,
            "ticks": "",
            "zerolinecolor": "white"
           },
           "zaxis": {
            "backgroundcolor": "#E5ECF6",
            "gridcolor": "white",
            "gridwidth": 2,
            "linecolor": "white",
            "showbackground": true,
            "ticks": "",
            "zerolinecolor": "white"
           }
          },
          "shapedefaults": {
           "line": {
            "color": "#2a3f5f"
           }
          },
          "ternary": {
           "aaxis": {
            "gridcolor": "white",
            "linecolor": "white",
            "ticks": ""
           },
           "baxis": {
            "gridcolor": "white",
            "linecolor": "white",
            "ticks": ""
           },
           "bgcolor": "#E5ECF6",
           "caxis": {
            "gridcolor": "white",
            "linecolor": "white",
            "ticks": ""
           }
          },
          "title": {
           "x": 0.05
          },
          "xaxis": {
           "automargin": true,
           "gridcolor": "white",
           "linecolor": "white",
           "ticks": "",
           "title": {
            "standoff": 15
           },
           "zerolinecolor": "white",
           "zerolinewidth": 2
          },
          "yaxis": {
           "automargin": true,
           "gridcolor": "white",
           "linecolor": "white",
           "ticks": "",
           "title": {
            "standoff": 15
           },
           "zerolinecolor": "white",
           "zerolinewidth": 2
          }
         }
        },
        "title": {
         "text": "Scatter plot of ∆yt"
        },
        "xaxis": {
         "anchor": "y",
         "domain": [
          0,
          1
         ],
         "title": {
          "text": "Date"
         }
        },
        "yaxis": {
         "anchor": "x",
         "domain": [
          0,
          1
         ],
         "title": {
          "text": "∆yt"
         }
        }
       }
      }
     },
     "metadata": {},
     "output_type": "display_data"
    },
    {
     "data": {
      "application/vnd.plotly.v1+json": {
       "config": {
        "plotlyServerURL": "https://plot.ly"
       },
       "data": [
        {
         "alignmentgroup": "True",
         "bingroup": "x",
         "hovertemplate": "x=%{x}<br>count=%{y}<extra></extra>",
         "legendgroup": "",
         "marker": {
          "color": "#636efa",
          "pattern": {
           "shape": ""
          }
         },
         "name": "",
         "nbinsx": 30,
         "offsetgroup": "",
         "orientation": "v",
         "showlegend": false,
         "type": "histogram",
         "x": [
          -16.705000000000013,
          -5.924999999999983,
          37.82299999999998,
          23.936000000000035,
          15.91799999999995,
          2.798000000000002,
          -13.194999999999993,
          -39.23399999999998,
          -29.712000000000018,
          16.067000000000007,
          -10.322000000000003,
          47.37100000000001,
          26.423999999999978,
          23.496000000000038,
          37.716999999999985,
          -34.185,
          6.963000000000022,
          -22.62900000000002,
          -22.684000000000026,
          6.837000000000046,
          -20.27000000000001,
          13.325999999999993,
          18.865999999999985,
          6.040999999999997,
          1.632000000000005,
          -6.033999999999992,
          -20.406000000000006,
          -1.877999999999986,
          -0.6140000000000327,
          12.524000000000001,
          11.93100000000004,
          28.36899999999997,
          18.996000000000038,
          5.0849999999999795,
          7.800000000000011,
          -9.828000000000031,
          -2.630999999999972,
          -2.9710000000000036,
          -3.049000000000035,
          -5.0569999999999595,
          -0.32499999999998863,
          7.343999999999994,
          -25.198000000000036,
          -20.406999999999982,
          -5.682999999999993,
          21.214,
          25.37700000000001,
          17.599999999999966,
          26.495000000000005,
          -23.70799999999997,
          11.175999999999988,
          35.64299999999997,
          -36.36899999999997,
          -0.8990000000000009,
          -39.09899999999999,
          8.144999999999982,
          22.56099999999998,
          26.786,
          6.1440000000000055,
          20.352000000000032,
          -3.1370000000000005,
          6.706999999999994,
          -11.744000000000028,
          20.501000000000033,
          6.524999999999977,
          12.829000000000008,
          5.214999999999975,
          16.27000000000004,
          -1.6240000000000236,
          10.488,
          4.367999999999995,
          44.262,
          1.3360000000000127,
          17.750999999999976,
          3.494000000000028,
          42.42999999999995,
          -8.490000000000009,
          -4.167999999999893,
          3.286999999999921,
          -13.845000000000027,
          -19.9079999999999,
          15.551999999999907,
          11.776000000000067,
          11.180999999999926,
          21.760000000000105,
          -16.10800000000006,
          6.25,
          34.200000000000045,
          -3.6230000000000473,
          12.412000000000035,
          -30.119000000000028,
          -17.706000000000017,
          1.2520000000000664,
          9.392999999999915,
          -31.144000000000005,
          64.75800000000004,
          17.599000000000046,
          7.737999999999943,
          -17.384000000000015,
          41.39300000000003,
          38.03100000000006,
          10.048999999999978,
          4.5,
          42.319999999999936,
          32.58600000000001,
          -28.900999999999954,
          27.36099999999999,
          -45.428,
          -2.994000000000028,
          -38.72000000000003,
          4.298999999999978,
          -114.79499999999996,
          -17.798999999999978,
          44.97000000000003,
          17.447000000000003,
          61.990999999999985,
          27.882999999999925,
          2.552000000000021,
          5.498000000000047,
          34.303,
          55.539999999999964,
          42.013000000000034,
          -21.880999999999972,
          16.573999999999955,
          56.30899999999997,
          26.90000000000009,
          21.972999999999956,
          1.615000000000009,
          -0.8770000000000664,
          -16.3839999999999,
          -16.9670000000001,
          -6.4249999999999545,
          -79.34100000000001,
          -56.349000000000046,
          74.322,
          80.68500000000006,
          -39.472999999999956,
          51.455999999999904,
          -33.9609999999999,
          -88.01100000000008,
          -0.6399999999999864,
          -7.713999999999942,
          -64.47300000000007,
          26.663999999999987,
          70.51800000000003,
          54.26700000000005,
          89.60299999999995,
          97.67399999999998,
          36.04300000000012,
          24.764999999999873,
          -15.164999999999964,
          -31.6400000000001,
          19.115999999999985,
          -7.781999999999925,
          41.78500000000008,
          -0.3450000000000273,
          -20.516000000000076,
          -31.057000000000016,
          3.3630000000000564,
          30.411000000000058,
          0.6030000000000655,
          0.16799999999989268,
          78.9090000000001,
          -59.38200000000006,
          28.057999999999993,
          6.697999999999865,
          18.501000000000204,
          41.776999999999816,
          -12.309999999999945,
          -11.316000000000031,
          -9.264999999999873,
          12.310999999999922,
          0.3910000000000764,
          -24.278999999999996,
          -68.70600000000013,
          -38.57999999999993,
          -0.0039999999999054126,
          22.192999999999984,
          40.531999999999925,
          -21.86500000000001,
          65.70000000000005,
          9.756999999999834,
          37.74800000000005,
          30.057999999999993,
          7.508000000000038,
          -8.913999999999987,
          68.5,
          52.26299999999992,
          70.05100000000016,
          -24.412000000000035,
          60.47700000000009,
          16.07199999999989,
          -32.12200000000007,
          -9.027000000000044,
          37.386000000000195,
          24.774999999999864,
          75.32200000000012,
          74.62799999999993,
          -2.2650000000001,
          34.634000000000015,
          107.077,
          25.999000000000024,
          28.093000000000075,
          83.327,
          -12.317000000000007,
          50.95700000000011,
          62.74500000000012,
          57.547999999999774,
          1.344000000000051,
          59.121000000000095,
          59.32199999999966,
          -15.985999999999876,
          133.62400000000025,
          -23.459000000000287,
          4.535000000000309,
          -107.60699999999997,
          3.230999999999767,
          -49.0630000000001,
          -109.86999999999989,
          62.20699999999988,
          35.66800000000012,
          -3.2660000000000764,
          -1.3600000000001273,
          16.93600000000015,
          15.311999999999898,
          81.40200000000004,
          78.00300000000016,
          4.748999999999796,
          95.79400000000032,
          38.690000000000055,
          52.84199999999964,
          72.68600000000015,
          -35.36999999999989,
          34.664999999999964,
          86.38799999999992,
          40.73700000000008,
          -17.954999999999927,
          -10.673999999999978,
          -53.4670000000001,
          -18.59400000000005,
          29.60199999999986,
          -27.38899999999967,
          -33.05000000000018,
          -69.80299999999988,
          -46.850000000000364,
          -50.853999999999814,
          -239.10800000000017,
          -259.5959999999998,
          -114.55799999999999,
          -4.274000000000115,
          172.72300000000018,
          46.43499999999972,
          109.53500000000031,
          97.9659999999999,
          -7.309999999999945,
          -43.121000000000095,
          91.8159999999998,
          7.729000000000269,
          180.64300000000003,
          52.728000000000065,
          59.33799999999974,
          11.963999999999942,
          -23.553999999999633,
          97.87299999999959,
          30.459000000000287,
          106.51400000000012,
          10.375999999999749,
          -31.840000000000146,
          119.7810000000004,
          60.51399999999967,
          3.275000000000091,
          105.41699999999992,
          9.414000000000215,
          -6.334000000000287,
          -37.646999999999935,
          -13.25799999999981,
          -16.115999999999985,
          5.964999999999691,
          78.27800000000025,
          -15.659000000000106,
          55.86400000000003,
          63.04399999999987,
          42.615999999999985,
          49.44300000000021,
          6.163000000000011,
          104.01200000000017,
          -2.451000000000022,
          33.740999999999985,
          20.505999999999858,
          22.338000000000193,
          -72.8390000000004,
          -44.471000000000004,
          -525.6599999999999,
          509.91899999999987,
          143.50300000000016,
          -48.35100000000011,
          7.57300000000032,
          87.18299999999999,
          257.721,
          50.70899999999983,
          -145.50700000000006,
          -93.12300000000005,
          40.27800000000025,
          -121.05000000000018
         ],
         "xaxis": "x",
         "yaxis": "y"
        }
       ],
       "layout": {
        "barmode": "relative",
        "legend": {
         "tracegroupgap": 0
        },
        "template": {
         "data": {
          "bar": [
           {
            "error_x": {
             "color": "#2a3f5f"
            },
            "error_y": {
             "color": "#2a3f5f"
            },
            "marker": {
             "line": {
              "color": "#E5ECF6",
              "width": 0.5
             },
             "pattern": {
              "fillmode": "overlay",
              "size": 10,
              "solidity": 0.2
             }
            },
            "type": "bar"
           }
          ],
          "barpolar": [
           {
            "marker": {
             "line": {
              "color": "#E5ECF6",
              "width": 0.5
             },
             "pattern": {
              "fillmode": "overlay",
              "size": 10,
              "solidity": 0.2
             }
            },
            "type": "barpolar"
           }
          ],
          "carpet": [
           {
            "aaxis": {
             "endlinecolor": "#2a3f5f",
             "gridcolor": "white",
             "linecolor": "white",
             "minorgridcolor": "white",
             "startlinecolor": "#2a3f5f"
            },
            "baxis": {
             "endlinecolor": "#2a3f5f",
             "gridcolor": "white",
             "linecolor": "white",
             "minorgridcolor": "white",
             "startlinecolor": "#2a3f5f"
            },
            "type": "carpet"
           }
          ],
          "choropleth": [
           {
            "colorbar": {
             "outlinewidth": 0,
             "ticks": ""
            },
            "type": "choropleth"
           }
          ],
          "contour": [
           {
            "colorbar": {
             "outlinewidth": 0,
             "ticks": ""
            },
            "colorscale": [
             [
              0,
              "#0d0887"
             ],
             [
              0.1111111111111111,
              "#46039f"
             ],
             [
              0.2222222222222222,
              "#7201a8"
             ],
             [
              0.3333333333333333,
              "#9c179e"
             ],
             [
              0.4444444444444444,
              "#bd3786"
             ],
             [
              0.5555555555555556,
              "#d8576b"
             ],
             [
              0.6666666666666666,
              "#ed7953"
             ],
             [
              0.7777777777777778,
              "#fb9f3a"
             ],
             [
              0.8888888888888888,
              "#fdca26"
             ],
             [
              1,
              "#f0f921"
             ]
            ],
            "type": "contour"
           }
          ],
          "contourcarpet": [
           {
            "colorbar": {
             "outlinewidth": 0,
             "ticks": ""
            },
            "type": "contourcarpet"
           }
          ],
          "heatmap": [
           {
            "colorbar": {
             "outlinewidth": 0,
             "ticks": ""
            },
            "colorscale": [
             [
              0,
              "#0d0887"
             ],
             [
              0.1111111111111111,
              "#46039f"
             ],
             [
              0.2222222222222222,
              "#7201a8"
             ],
             [
              0.3333333333333333,
              "#9c179e"
             ],
             [
              0.4444444444444444,
              "#bd3786"
             ],
             [
              0.5555555555555556,
              "#d8576b"
             ],
             [
              0.6666666666666666,
              "#ed7953"
             ],
             [
              0.7777777777777778,
              "#fb9f3a"
             ],
             [
              0.8888888888888888,
              "#fdca26"
             ],
             [
              1,
              "#f0f921"
             ]
            ],
            "type": "heatmap"
           }
          ],
          "heatmapgl": [
           {
            "colorbar": {
             "outlinewidth": 0,
             "ticks": ""
            },
            "colorscale": [
             [
              0,
              "#0d0887"
             ],
             [
              0.1111111111111111,
              "#46039f"
             ],
             [
              0.2222222222222222,
              "#7201a8"
             ],
             [
              0.3333333333333333,
              "#9c179e"
             ],
             [
              0.4444444444444444,
              "#bd3786"
             ],
             [
              0.5555555555555556,
              "#d8576b"
             ],
             [
              0.6666666666666666,
              "#ed7953"
             ],
             [
              0.7777777777777778,
              "#fb9f3a"
             ],
             [
              0.8888888888888888,
              "#fdca26"
             ],
             [
              1,
              "#f0f921"
             ]
            ],
            "type": "heatmapgl"
           }
          ],
          "histogram": [
           {
            "marker": {
             "pattern": {
              "fillmode": "overlay",
              "size": 10,
              "solidity": 0.2
             }
            },
            "type": "histogram"
           }
          ],
          "histogram2d": [
           {
            "colorbar": {
             "outlinewidth": 0,
             "ticks": ""
            },
            "colorscale": [
             [
              0,
              "#0d0887"
             ],
             [
              0.1111111111111111,
              "#46039f"
             ],
             [
              0.2222222222222222,
              "#7201a8"
             ],
             [
              0.3333333333333333,
              "#9c179e"
             ],
             [
              0.4444444444444444,
              "#bd3786"
             ],
             [
              0.5555555555555556,
              "#d8576b"
             ],
             [
              0.6666666666666666,
              "#ed7953"
             ],
             [
              0.7777777777777778,
              "#fb9f3a"
             ],
             [
              0.8888888888888888,
              "#fdca26"
             ],
             [
              1,
              "#f0f921"
             ]
            ],
            "type": "histogram2d"
           }
          ],
          "histogram2dcontour": [
           {
            "colorbar": {
             "outlinewidth": 0,
             "ticks": ""
            },
            "colorscale": [
             [
              0,
              "#0d0887"
             ],
             [
              0.1111111111111111,
              "#46039f"
             ],
             [
              0.2222222222222222,
              "#7201a8"
             ],
             [
              0.3333333333333333,
              "#9c179e"
             ],
             [
              0.4444444444444444,
              "#bd3786"
             ],
             [
              0.5555555555555556,
              "#d8576b"
             ],
             [
              0.6666666666666666,
              "#ed7953"
             ],
             [
              0.7777777777777778,
              "#fb9f3a"
             ],
             [
              0.8888888888888888,
              "#fdca26"
             ],
             [
              1,
              "#f0f921"
             ]
            ],
            "type": "histogram2dcontour"
           }
          ],
          "mesh3d": [
           {
            "colorbar": {
             "outlinewidth": 0,
             "ticks": ""
            },
            "type": "mesh3d"
           }
          ],
          "parcoords": [
           {
            "line": {
             "colorbar": {
              "outlinewidth": 0,
              "ticks": ""
             }
            },
            "type": "parcoords"
           }
          ],
          "pie": [
           {
            "automargin": true,
            "type": "pie"
           }
          ],
          "scatter": [
           {
            "fillpattern": {
             "fillmode": "overlay",
             "size": 10,
             "solidity": 0.2
            },
            "type": "scatter"
           }
          ],
          "scatter3d": [
           {
            "line": {
             "colorbar": {
              "outlinewidth": 0,
              "ticks": ""
             }
            },
            "marker": {
             "colorbar": {
              "outlinewidth": 0,
              "ticks": ""
             }
            },
            "type": "scatter3d"
           }
          ],
          "scattercarpet": [
           {
            "marker": {
             "colorbar": {
              "outlinewidth": 0,
              "ticks": ""
             }
            },
            "type": "scattercarpet"
           }
          ],
          "scattergeo": [
           {
            "marker": {
             "colorbar": {
              "outlinewidth": 0,
              "ticks": ""
             }
            },
            "type": "scattergeo"
           }
          ],
          "scattergl": [
           {
            "marker": {
             "colorbar": {
              "outlinewidth": 0,
              "ticks": ""
             }
            },
            "type": "scattergl"
           }
          ],
          "scattermapbox": [
           {
            "marker": {
             "colorbar": {
              "outlinewidth": 0,
              "ticks": ""
             }
            },
            "type": "scattermapbox"
           }
          ],
          "scatterpolar": [
           {
            "marker": {
             "colorbar": {
              "outlinewidth": 0,
              "ticks": ""
             }
            },
            "type": "scatterpolar"
           }
          ],
          "scatterpolargl": [
           {
            "marker": {
             "colorbar": {
              "outlinewidth": 0,
              "ticks": ""
             }
            },
            "type": "scatterpolargl"
           }
          ],
          "scatterternary": [
           {
            "marker": {
             "colorbar": {
              "outlinewidth": 0,
              "ticks": ""
             }
            },
            "type": "scatterternary"
           }
          ],
          "surface": [
           {
            "colorbar": {
             "outlinewidth": 0,
             "ticks": ""
            },
            "colorscale": [
             [
              0,
              "#0d0887"
             ],
             [
              0.1111111111111111,
              "#46039f"
             ],
             [
              0.2222222222222222,
              "#7201a8"
             ],
             [
              0.3333333333333333,
              "#9c179e"
             ],
             [
              0.4444444444444444,
              "#bd3786"
             ],
             [
              0.5555555555555556,
              "#d8576b"
             ],
             [
              0.6666666666666666,
              "#ed7953"
             ],
             [
              0.7777777777777778,
              "#fb9f3a"
             ],
             [
              0.8888888888888888,
              "#fdca26"
             ],
             [
              1,
              "#f0f921"
             ]
            ],
            "type": "surface"
           }
          ],
          "table": [
           {
            "cells": {
             "fill": {
              "color": "#EBF0F8"
             },
             "line": {
              "color": "white"
             }
            },
            "header": {
             "fill": {
              "color": "#C8D4E3"
             },
             "line": {
              "color": "white"
             }
            },
            "type": "table"
           }
          ]
         },
         "layout": {
          "annotationdefaults": {
           "arrowcolor": "#2a3f5f",
           "arrowhead": 0,
           "arrowwidth": 1
          },
          "autotypenumbers": "strict",
          "coloraxis": {
           "colorbar": {
            "outlinewidth": 0,
            "ticks": ""
           }
          },
          "colorscale": {
           "diverging": [
            [
             0,
             "#8e0152"
            ],
            [
             0.1,
             "#c51b7d"
            ],
            [
             0.2,
             "#de77ae"
            ],
            [
             0.3,
             "#f1b6da"
            ],
            [
             0.4,
             "#fde0ef"
            ],
            [
             0.5,
             "#f7f7f7"
            ],
            [
             0.6,
             "#e6f5d0"
            ],
            [
             0.7,
             "#b8e186"
            ],
            [
             0.8,
             "#7fbc41"
            ],
            [
             0.9,
             "#4d9221"
            ],
            [
             1,
             "#276419"
            ]
           ],
           "sequential": [
            [
             0,
             "#0d0887"
            ],
            [
             0.1111111111111111,
             "#46039f"
            ],
            [
             0.2222222222222222,
             "#7201a8"
            ],
            [
             0.3333333333333333,
             "#9c179e"
            ],
            [
             0.4444444444444444,
             "#bd3786"
            ],
            [
             0.5555555555555556,
             "#d8576b"
            ],
            [
             0.6666666666666666,
             "#ed7953"
            ],
            [
             0.7777777777777778,
             "#fb9f3a"
            ],
            [
             0.8888888888888888,
             "#fdca26"
            ],
            [
             1,
             "#f0f921"
            ]
           ],
           "sequentialminus": [
            [
             0,
             "#0d0887"
            ],
            [
             0.1111111111111111,
             "#46039f"
            ],
            [
             0.2222222222222222,
             "#7201a8"
            ],
            [
             0.3333333333333333,
             "#9c179e"
            ],
            [
             0.4444444444444444,
             "#bd3786"
            ],
            [
             0.5555555555555556,
             "#d8576b"
            ],
            [
             0.6666666666666666,
             "#ed7953"
            ],
            [
             0.7777777777777778,
             "#fb9f3a"
            ],
            [
             0.8888888888888888,
             "#fdca26"
            ],
            [
             1,
             "#f0f921"
            ]
           ]
          },
          "colorway": [
           "#636efa",
           "#EF553B",
           "#00cc96",
           "#ab63fa",
           "#FFA15A",
           "#19d3f3",
           "#FF6692",
           "#B6E880",
           "#FF97FF",
           "#FECB52"
          ],
          "font": {
           "color": "#2a3f5f"
          },
          "geo": {
           "bgcolor": "white",
           "lakecolor": "white",
           "landcolor": "#E5ECF6",
           "showlakes": true,
           "showland": true,
           "subunitcolor": "white"
          },
          "hoverlabel": {
           "align": "left"
          },
          "hovermode": "closest",
          "mapbox": {
           "style": "light"
          },
          "paper_bgcolor": "white",
          "plot_bgcolor": "#E5ECF6",
          "polar": {
           "angularaxis": {
            "gridcolor": "white",
            "linecolor": "white",
            "ticks": ""
           },
           "bgcolor": "#E5ECF6",
           "radialaxis": {
            "gridcolor": "white",
            "linecolor": "white",
            "ticks": ""
           }
          },
          "scene": {
           "xaxis": {
            "backgroundcolor": "#E5ECF6",
            "gridcolor": "white",
            "gridwidth": 2,
            "linecolor": "white",
            "showbackground": true,
            "ticks": "",
            "zerolinecolor": "white"
           },
           "yaxis": {
            "backgroundcolor": "#E5ECF6",
            "gridcolor": "white",
            "gridwidth": 2,
            "linecolor": "white",
            "showbackground": true,
            "ticks": "",
            "zerolinecolor": "white"
           },
           "zaxis": {
            "backgroundcolor": "#E5ECF6",
            "gridcolor": "white",
            "gridwidth": 2,
            "linecolor": "white",
            "showbackground": true,
            "ticks": "",
            "zerolinecolor": "white"
           }
          },
          "shapedefaults": {
           "line": {
            "color": "#2a3f5f"
           }
          },
          "ternary": {
           "aaxis": {
            "gridcolor": "white",
            "linecolor": "white",
            "ticks": ""
           },
           "baxis": {
            "gridcolor": "white",
            "linecolor": "white",
            "ticks": ""
           },
           "bgcolor": "#E5ECF6",
           "caxis": {
            "gridcolor": "white",
            "linecolor": "white",
            "ticks": ""
           }
          },
          "title": {
           "x": 0.05
          },
          "xaxis": {
           "automargin": true,
           "gridcolor": "white",
           "linecolor": "white",
           "ticks": "",
           "title": {
            "standoff": 15
           },
           "zerolinecolor": "white",
           "zerolinewidth": 2
          },
          "yaxis": {
           "automargin": true,
           "gridcolor": "white",
           "linecolor": "white",
           "ticks": "",
           "title": {
            "standoff": 15
           },
           "zerolinecolor": "white",
           "zerolinewidth": 2
          }
         }
        },
        "title": {
         "text": "Histogram of ∆yt"
        },
        "xaxis": {
         "anchor": "y",
         "domain": [
          0,
          1
         ],
         "title": {
          "text": "∆yt"
         }
        },
        "yaxis": {
         "anchor": "x",
         "domain": [
          0,
          1
         ],
         "title": {
          "text": "Frequency"
         }
        }
       }
      }
     },
     "metadata": {},
     "output_type": "display_data"
    }
   ],
   "source": [
    "# Create a scatter plot of ∆yt\n",
    "scatter_fig = px.scatter(dyt, x=dyt.index, y=dyt, title='Scatter plot of ∆yt')\n",
    "scatter_fig.update_xaxes(title_text='Date')\n",
    "scatter_fig.update_yaxes(title_text='∆yt')\n",
    "\n",
    "# Create a histogram of ∆yt\n",
    "hist_fig = px.histogram(dyt, x=dyt, nbins=30, title='Histogram of ∆yt')\n",
    "hist_fig.update_xaxes(title_text='∆yt')\n",
    "hist_fig.update_yaxes(title_text='Frequency')\n",
    "\n",
    "# Show the plots\n",
    "scatter_fig.show()\n",
    "hist_fig.show()\n"
   ]
  },
  {
   "attachments": {},
   "cell_type": "markdown",
   "metadata": {},
   "source": [
    "## Question 8 (1 point)"
   ]
  },
  {
   "attachments": {},
   "cell_type": "markdown",
   "metadata": {},
   "source": [
    "Apply the ADF test to examine the presence of a unit root in the ∆yt. \n",
    "\n",
    "Given the properties of the time series, \n",
    "\n",
    "which deterministic components do you include in the test regression? \n",
    "\n",
    "How do you interpret your test results?"
   ]
  },
  {
   "cell_type": "code",
   "execution_count": 78,
   "metadata": {},
   "outputs": [
    {
     "name": "stdout",
     "output_type": "stream",
     "text": [
      "ADF test statistic: -16.373\n",
      "p-value: 0.000\n",
      "The ADF test result suggests that the time series is stationary.\n"
     ]
    }
   ],
   "source": [
    "# Perform ADF test on first difference of yt\n",
    "result = adfuller(dyt, maxlag=None, regression='c')\n",
    "\n",
    "# Extract the test statistic and p-value from the result\n",
    "test_statistic = result[0]\n",
    "p_value = result[1]\n",
    "\n",
    "# Print the results\n",
    "print(f\"ADF test statistic: {test_statistic:.3f}\")\n",
    "print(f\"p-value: {p_value:.3f}\")\n",
    "\n",
    "if p_value < 0.05:\n",
    "    print('The ADF test result suggests that the time series is stationary.')\n",
    "else:\n",
    "    print('The ADF test result suggests that the time series is non-stationary.')"
   ]
  },
  {
   "attachments": {},
   "cell_type": "markdown",
   "metadata": {},
   "source": [
    "## Question 9 (1 point)"
   ]
  },
  {
   "attachments": {},
   "cell_type": "markdown",
   "metadata": {},
   "source": [
    "Compute a Kwiatkowski-Phillips-Schmidt-Shin (KPSS) test \n",
    "\n",
    "for the null hypothesis that yt is level or trend stationary. \n",
    "\n",
    "Then, compute the KPSS test for the null hypothesis that ∆yt is level stationary. \n",
    "\n",
    "How do you interpret your test results?"
   ]
  },
  {
   "cell_type": "code",
   "execution_count": 82,
   "metadata": {},
   "outputs": [
    {
     "name": "stdout",
     "output_type": "stream",
     "text": [
      "KPSS test statistic: 0.5556\n",
      "p-value: 0.0100\n",
      "The KPSS test result suggests that the time series is non-stationary.\n"
     ]
    },
    {
     "name": "stderr",
     "output_type": "stream",
     "text": [
      "/var/folders/df/ss33svv50gq79h_yy76phkq80000gn/T/ipykernel_30671/2821065592.py:3: InterpolationWarning:\n",
      "\n",
      "The test statistic is outside of the range of p-values available in the\n",
      "look-up table. The actual p-value is smaller than the p-value returned.\n",
      "\n",
      "\n"
     ]
    }
   ],
   "source": [
    "### KPSS TREND STATIONARY TEST ###\n",
    "\n",
    "kpss_result = kpss(df['DI'], regression='ct')\n",
    "print(f'KPSS test statistic: {kpss_result[0]:.4f}')\n",
    "print(f'p-value: {kpss_result[1]:.4f}')\n",
    "\n",
    "# interpret the results\n",
    "if kpss_result[1] < 0.05:\n",
    "    print('The KPSS test result suggests that the time series is non-stationary.')\n",
    "else:\n",
    "    print('The KPSS test result suggests that the time series is stationary.')"
   ]
  },
  {
   "cell_type": "code",
   "execution_count": 83,
   "metadata": {},
   "outputs": [
    {
     "name": "stdout",
     "output_type": "stream",
     "text": [
      "KPSS test statistic: 0.2269\n",
      "p-value: 0.1000\n",
      "The KPSS test result suggests that the time series is stationary.\n"
     ]
    },
    {
     "name": "stderr",
     "output_type": "stream",
     "text": [
      "/var/folders/df/ss33svv50gq79h_yy76phkq80000gn/T/ipykernel_30671/1294734364.py:3: InterpolationWarning:\n",
      "\n",
      "The test statistic is outside of the range of p-values available in the\n",
      "look-up table. The actual p-value is greater than the p-value returned.\n",
      "\n",
      "\n"
     ]
    }
   ],
   "source": [
    "### KPSS LEVEL STATIONARY TEST ###\n",
    "\n",
    "kpss_result_diff = kpss(dyt, regression='c')\n",
    "print(f'KPSS test statistic: {kpss_result_diff[0]:.4f}')\n",
    "print(f'p-value: {kpss_result_diff[1]:.4f}')\n",
    "\n",
    "# interpret the results\n",
    "if kpss_result_diff[1] < 0.05:\n",
    "    print('The KPSS test result suggests that the time series is non-stationary.')\n",
    "else:\n",
    "    print('The KPSS test result suggests that the time series is stationary.')"
   ]
  },
  {
   "attachments": {},
   "cell_type": "markdown",
   "metadata": {},
   "source": [
    "# Question 10-12 Seasonality"
   ]
  },
  {
   "cell_type": "code",
   "execution_count": 127,
   "metadata": {},
   "outputs": [
    {
     "data": {
      "text/html": [
       "<div>\n",
       "<style scoped>\n",
       "    .dataframe tbody tr th:only-of-type {\n",
       "        vertical-align: middle;\n",
       "    }\n",
       "\n",
       "    .dataframe tbody tr th {\n",
       "        vertical-align: top;\n",
       "    }\n",
       "\n",
       "    .dataframe thead th {\n",
       "        text-align: right;\n",
       "    }\n",
       "</style>\n",
       "<table border=\"1\" class=\"dataframe\">\n",
       "  <thead>\n",
       "    <tr style=\"text-align: right;\">\n",
       "      <th></th>\n",
       "      <th>DATE</th>\n",
       "      <th>DIS</th>\n",
       "    </tr>\n",
       "  </thead>\n",
       "  <tbody>\n",
       "    <tr>\n",
       "      <th>0</th>\n",
       "      <td>2003-04-01</td>\n",
       "      <td>557.658</td>\n",
       "    </tr>\n",
       "    <tr>\n",
       "      <th>1</th>\n",
       "      <td>2003-07-01</td>\n",
       "      <td>599.846</td>\n",
       "    </tr>\n",
       "    <tr>\n",
       "      <th>2</th>\n",
       "      <td>2003-10-01</td>\n",
       "      <td>588.230</td>\n",
       "    </tr>\n",
       "    <tr>\n",
       "      <th>3</th>\n",
       "      <td>2004-01-01</td>\n",
       "      <td>582.144</td>\n",
       "    </tr>\n",
       "    <tr>\n",
       "      <th>4</th>\n",
       "      <td>2004-04-01</td>\n",
       "      <td>631.168</td>\n",
       "    </tr>\n",
       "    <tr>\n",
       "      <th>...</th>\n",
       "      <td>...</td>\n",
       "      <td>...</td>\n",
       "    </tr>\n",
       "    <tr>\n",
       "      <th>75</th>\n",
       "      <td>2022-01-01</td>\n",
       "      <td>935.515</td>\n",
       "    </tr>\n",
       "    <tr>\n",
       "      <th>76</th>\n",
       "      <td>2022-04-01</td>\n",
       "      <td>930.582</td>\n",
       "    </tr>\n",
       "    <tr>\n",
       "      <th>77</th>\n",
       "      <td>2022-07-01</td>\n",
       "      <td>950.800</td>\n",
       "    </tr>\n",
       "    <tr>\n",
       "      <th>78</th>\n",
       "      <td>2022-10-01</td>\n",
       "      <td>915.562</td>\n",
       "    </tr>\n",
       "    <tr>\n",
       "      <th>79</th>\n",
       "      <td>2023-01-01</td>\n",
       "      <td>871.142</td>\n",
       "    </tr>\n",
       "  </tbody>\n",
       "</table>\n",
       "<p>80 rows × 2 columns</p>\n",
       "</div>"
      ],
      "text/plain": [
       "          DATE      DIS\n",
       "0   2003-04-01  557.658\n",
       "1   2003-07-01  599.846\n",
       "2   2003-10-01  588.230\n",
       "3   2004-01-01  582.144\n",
       "4   2004-04-01  631.168\n",
       "..         ...      ...\n",
       "75  2022-01-01  935.515\n",
       "76  2022-04-01  930.582\n",
       "77  2022-07-01  950.800\n",
       "78  2022-10-01  915.562\n",
       "79  2023-01-01  871.142\n",
       "\n",
       "[80 rows x 2 columns]"
      ]
     },
     "execution_count": 127,
     "metadata": {},
     "output_type": "execute_result"
    }
   ],
   "source": [
    "# load RGDICnoSA.csv file\n",
    "df_ns = pd.read_csv('RGPDICnoSA.csv')\n",
    "df_ns"
   ]
  },
  {
   "attachments": {},
   "cell_type": "markdown",
   "metadata": {},
   "source": [
    "## Question 10 (2 points)"
   ]
  },
  {
   "attachments": {},
   "cell_type": "markdown",
   "metadata": {},
   "source": [
    "The CSV file RGPDICnoSA contains quarterly observations \n",
    "\n",
    "on real gross private domestic investment for the United States \n",
    "\n",
    "over the period Q2 2003 until Q1 2023 \n",
    "\n",
    "which are not seasonally adjusted. We denote the series by yt∗.\n",
    "\n",
    "Import the new time series and plot the data. \n",
    "\n",
    "Does this time series exhibit a seasonal pattern? \n",
    "\n",
    "Regress yt∗ on a time trend and four seasonal dummy variables. \n",
    "\n",
    "Discuss the regression output."
   ]
  },
  {
   "cell_type": "code",
   "execution_count": 128,
   "metadata": {},
   "outputs": [
    {
     "data": {
      "application/vnd.plotly.v1+json": {
       "config": {
        "plotlyServerURL": "https://plot.ly"
       },
       "data": [
        {
         "mode": "lines",
         "name": "yt*",
         "type": "scatter",
         "x": [
          "2003-04-01",
          "2003-07-01",
          "2003-10-01",
          "2004-01-01",
          "2004-04-01",
          "2004-07-01",
          "2004-10-01",
          "2005-01-01",
          "2005-04-01",
          "2005-07-01",
          "2005-10-01",
          "2006-01-01",
          "2006-04-01",
          "2006-07-01",
          "2006-10-01",
          "2007-01-01",
          "2007-04-01",
          "2007-07-01",
          "2007-10-01",
          "2008-01-01",
          "2008-04-01",
          "2008-07-01",
          "2008-10-01",
          "2009-01-01",
          "2009-04-01",
          "2009-07-01",
          "2009-10-01",
          "2010-01-01",
          "2010-04-01",
          "2010-07-01",
          "2010-10-01",
          "2011-01-01",
          "2011-04-01",
          "2011-07-01",
          "2011-10-01",
          "2012-01-01",
          "2012-04-01",
          "2012-07-01",
          "2012-10-01",
          "2013-01-01",
          "2013-04-01",
          "2013-07-01",
          "2013-10-01",
          "2014-01-01",
          "2014-04-01",
          "2014-07-01",
          "2014-10-01",
          "2015-01-01",
          "2015-04-01",
          "2015-07-01",
          "2015-10-01",
          "2016-01-01",
          "2016-04-01",
          "2016-07-01",
          "2016-10-01",
          "2017-01-01",
          "2017-04-01",
          "2017-07-01",
          "2017-10-01",
          "2018-01-01",
          "2018-04-01",
          "2018-07-01",
          "2018-10-01",
          "2019-01-01",
          "2019-04-01",
          "2019-07-01",
          "2019-10-01",
          "2020-01-01",
          "2020-04-01",
          "2020-07-01",
          "2020-10-01",
          "2021-01-01",
          "2021-04-01",
          "2021-07-01",
          "2021-10-01",
          "2022-01-01",
          "2022-04-01",
          "2022-07-01",
          "2022-10-01",
          "2023-01-01"
         ],
         "y": [
          557.658,
          599.846,
          588.23,
          582.144,
          631.168,
          656.865,
          632.375,
          635.268,
          662.007,
          705.288,
          668.002,
          675.109,
          707.268,
          713.201,
          656.834,
          646.864,
          681.801,
          700.022,
          655.45,
          649.914,
          626.352,
          636.633,
          550.012,
          474.572,
          454.691,
          500.238,
          512.468,
          495.672,
          547.546,
          605.714,
          567.545,
          556.714,
          568.702,
          620.52,
          616.192,
          637.435,
          644.378,
          697.988,
          641.953,
          659.182,
          679.22,
          752.936,
          710.135,
          693.143,
          724.014,
          795.722,
          746.32,
          751.503,
          787.302,
          823.664,
          759.285,
          745.358,
          773.161,
          801.621,
          769.774,
          736.242,
          807.973,
          853.607,
          818.169,
          802.699,
          838.865,
          896.454,
          860.881,
          843.663,
          880.136,
          916.195,
          852.694,
          832.364,
          711.158,
          888.216,
          874.734,
          845.101,
          862.05,
          933.952,
          961.893,
          935.515,
          930.582,
          950.8,
          915.562,
          871.142
         ]
        }
       ],
       "layout": {
        "template": {
         "data": {
          "bar": [
           {
            "error_x": {
             "color": "#2a3f5f"
            },
            "error_y": {
             "color": "#2a3f5f"
            },
            "marker": {
             "line": {
              "color": "#E5ECF6",
              "width": 0.5
             },
             "pattern": {
              "fillmode": "overlay",
              "size": 10,
              "solidity": 0.2
             }
            },
            "type": "bar"
           }
          ],
          "barpolar": [
           {
            "marker": {
             "line": {
              "color": "#E5ECF6",
              "width": 0.5
             },
             "pattern": {
              "fillmode": "overlay",
              "size": 10,
              "solidity": 0.2
             }
            },
            "type": "barpolar"
           }
          ],
          "carpet": [
           {
            "aaxis": {
             "endlinecolor": "#2a3f5f",
             "gridcolor": "white",
             "linecolor": "white",
             "minorgridcolor": "white",
             "startlinecolor": "#2a3f5f"
            },
            "baxis": {
             "endlinecolor": "#2a3f5f",
             "gridcolor": "white",
             "linecolor": "white",
             "minorgridcolor": "white",
             "startlinecolor": "#2a3f5f"
            },
            "type": "carpet"
           }
          ],
          "choropleth": [
           {
            "colorbar": {
             "outlinewidth": 0,
             "ticks": ""
            },
            "type": "choropleth"
           }
          ],
          "contour": [
           {
            "colorbar": {
             "outlinewidth": 0,
             "ticks": ""
            },
            "colorscale": [
             [
              0,
              "#0d0887"
             ],
             [
              0.1111111111111111,
              "#46039f"
             ],
             [
              0.2222222222222222,
              "#7201a8"
             ],
             [
              0.3333333333333333,
              "#9c179e"
             ],
             [
              0.4444444444444444,
              "#bd3786"
             ],
             [
              0.5555555555555556,
              "#d8576b"
             ],
             [
              0.6666666666666666,
              "#ed7953"
             ],
             [
              0.7777777777777778,
              "#fb9f3a"
             ],
             [
              0.8888888888888888,
              "#fdca26"
             ],
             [
              1,
              "#f0f921"
             ]
            ],
            "type": "contour"
           }
          ],
          "contourcarpet": [
           {
            "colorbar": {
             "outlinewidth": 0,
             "ticks": ""
            },
            "type": "contourcarpet"
           }
          ],
          "heatmap": [
           {
            "colorbar": {
             "outlinewidth": 0,
             "ticks": ""
            },
            "colorscale": [
             [
              0,
              "#0d0887"
             ],
             [
              0.1111111111111111,
              "#46039f"
             ],
             [
              0.2222222222222222,
              "#7201a8"
             ],
             [
              0.3333333333333333,
              "#9c179e"
             ],
             [
              0.4444444444444444,
              "#bd3786"
             ],
             [
              0.5555555555555556,
              "#d8576b"
             ],
             [
              0.6666666666666666,
              "#ed7953"
             ],
             [
              0.7777777777777778,
              "#fb9f3a"
             ],
             [
              0.8888888888888888,
              "#fdca26"
             ],
             [
              1,
              "#f0f921"
             ]
            ],
            "type": "heatmap"
           }
          ],
          "heatmapgl": [
           {
            "colorbar": {
             "outlinewidth": 0,
             "ticks": ""
            },
            "colorscale": [
             [
              0,
              "#0d0887"
             ],
             [
              0.1111111111111111,
              "#46039f"
             ],
             [
              0.2222222222222222,
              "#7201a8"
             ],
             [
              0.3333333333333333,
              "#9c179e"
             ],
             [
              0.4444444444444444,
              "#bd3786"
             ],
             [
              0.5555555555555556,
              "#d8576b"
             ],
             [
              0.6666666666666666,
              "#ed7953"
             ],
             [
              0.7777777777777778,
              "#fb9f3a"
             ],
             [
              0.8888888888888888,
              "#fdca26"
             ],
             [
              1,
              "#f0f921"
             ]
            ],
            "type": "heatmapgl"
           }
          ],
          "histogram": [
           {
            "marker": {
             "pattern": {
              "fillmode": "overlay",
              "size": 10,
              "solidity": 0.2
             }
            },
            "type": "histogram"
           }
          ],
          "histogram2d": [
           {
            "colorbar": {
             "outlinewidth": 0,
             "ticks": ""
            },
            "colorscale": [
             [
              0,
              "#0d0887"
             ],
             [
              0.1111111111111111,
              "#46039f"
             ],
             [
              0.2222222222222222,
              "#7201a8"
             ],
             [
              0.3333333333333333,
              "#9c179e"
             ],
             [
              0.4444444444444444,
              "#bd3786"
             ],
             [
              0.5555555555555556,
              "#d8576b"
             ],
             [
              0.6666666666666666,
              "#ed7953"
             ],
             [
              0.7777777777777778,
              "#fb9f3a"
             ],
             [
              0.8888888888888888,
              "#fdca26"
             ],
             [
              1,
              "#f0f921"
             ]
            ],
            "type": "histogram2d"
           }
          ],
          "histogram2dcontour": [
           {
            "colorbar": {
             "outlinewidth": 0,
             "ticks": ""
            },
            "colorscale": [
             [
              0,
              "#0d0887"
             ],
             [
              0.1111111111111111,
              "#46039f"
             ],
             [
              0.2222222222222222,
              "#7201a8"
             ],
             [
              0.3333333333333333,
              "#9c179e"
             ],
             [
              0.4444444444444444,
              "#bd3786"
             ],
             [
              0.5555555555555556,
              "#d8576b"
             ],
             [
              0.6666666666666666,
              "#ed7953"
             ],
             [
              0.7777777777777778,
              "#fb9f3a"
             ],
             [
              0.8888888888888888,
              "#fdca26"
             ],
             [
              1,
              "#f0f921"
             ]
            ],
            "type": "histogram2dcontour"
           }
          ],
          "mesh3d": [
           {
            "colorbar": {
             "outlinewidth": 0,
             "ticks": ""
            },
            "type": "mesh3d"
           }
          ],
          "parcoords": [
           {
            "line": {
             "colorbar": {
              "outlinewidth": 0,
              "ticks": ""
             }
            },
            "type": "parcoords"
           }
          ],
          "pie": [
           {
            "automargin": true,
            "type": "pie"
           }
          ],
          "scatter": [
           {
            "fillpattern": {
             "fillmode": "overlay",
             "size": 10,
             "solidity": 0.2
            },
            "type": "scatter"
           }
          ],
          "scatter3d": [
           {
            "line": {
             "colorbar": {
              "outlinewidth": 0,
              "ticks": ""
             }
            },
            "marker": {
             "colorbar": {
              "outlinewidth": 0,
              "ticks": ""
             }
            },
            "type": "scatter3d"
           }
          ],
          "scattercarpet": [
           {
            "marker": {
             "colorbar": {
              "outlinewidth": 0,
              "ticks": ""
             }
            },
            "type": "scattercarpet"
           }
          ],
          "scattergeo": [
           {
            "marker": {
             "colorbar": {
              "outlinewidth": 0,
              "ticks": ""
             }
            },
            "type": "scattergeo"
           }
          ],
          "scattergl": [
           {
            "marker": {
             "colorbar": {
              "outlinewidth": 0,
              "ticks": ""
             }
            },
            "type": "scattergl"
           }
          ],
          "scattermapbox": [
           {
            "marker": {
             "colorbar": {
              "outlinewidth": 0,
              "ticks": ""
             }
            },
            "type": "scattermapbox"
           }
          ],
          "scatterpolar": [
           {
            "marker": {
             "colorbar": {
              "outlinewidth": 0,
              "ticks": ""
             }
            },
            "type": "scatterpolar"
           }
          ],
          "scatterpolargl": [
           {
            "marker": {
             "colorbar": {
              "outlinewidth": 0,
              "ticks": ""
             }
            },
            "type": "scatterpolargl"
           }
          ],
          "scatterternary": [
           {
            "marker": {
             "colorbar": {
              "outlinewidth": 0,
              "ticks": ""
             }
            },
            "type": "scatterternary"
           }
          ],
          "surface": [
           {
            "colorbar": {
             "outlinewidth": 0,
             "ticks": ""
            },
            "colorscale": [
             [
              0,
              "#0d0887"
             ],
             [
              0.1111111111111111,
              "#46039f"
             ],
             [
              0.2222222222222222,
              "#7201a8"
             ],
             [
              0.3333333333333333,
              "#9c179e"
             ],
             [
              0.4444444444444444,
              "#bd3786"
             ],
             [
              0.5555555555555556,
              "#d8576b"
             ],
             [
              0.6666666666666666,
              "#ed7953"
             ],
             [
              0.7777777777777778,
              "#fb9f3a"
             ],
             [
              0.8888888888888888,
              "#fdca26"
             ],
             [
              1,
              "#f0f921"
             ]
            ],
            "type": "surface"
           }
          ],
          "table": [
           {
            "cells": {
             "fill": {
              "color": "#EBF0F8"
             },
             "line": {
              "color": "white"
             }
            },
            "header": {
             "fill": {
              "color": "#C8D4E3"
             },
             "line": {
              "color": "white"
             }
            },
            "type": "table"
           }
          ]
         },
         "layout": {
          "annotationdefaults": {
           "arrowcolor": "#2a3f5f",
           "arrowhead": 0,
           "arrowwidth": 1
          },
          "autotypenumbers": "strict",
          "coloraxis": {
           "colorbar": {
            "outlinewidth": 0,
            "ticks": ""
           }
          },
          "colorscale": {
           "diverging": [
            [
             0,
             "#8e0152"
            ],
            [
             0.1,
             "#c51b7d"
            ],
            [
             0.2,
             "#de77ae"
            ],
            [
             0.3,
             "#f1b6da"
            ],
            [
             0.4,
             "#fde0ef"
            ],
            [
             0.5,
             "#f7f7f7"
            ],
            [
             0.6,
             "#e6f5d0"
            ],
            [
             0.7,
             "#b8e186"
            ],
            [
             0.8,
             "#7fbc41"
            ],
            [
             0.9,
             "#4d9221"
            ],
            [
             1,
             "#276419"
            ]
           ],
           "sequential": [
            [
             0,
             "#0d0887"
            ],
            [
             0.1111111111111111,
             "#46039f"
            ],
            [
             0.2222222222222222,
             "#7201a8"
            ],
            [
             0.3333333333333333,
             "#9c179e"
            ],
            [
             0.4444444444444444,
             "#bd3786"
            ],
            [
             0.5555555555555556,
             "#d8576b"
            ],
            [
             0.6666666666666666,
             "#ed7953"
            ],
            [
             0.7777777777777778,
             "#fb9f3a"
            ],
            [
             0.8888888888888888,
             "#fdca26"
            ],
            [
             1,
             "#f0f921"
            ]
           ],
           "sequentialminus": [
            [
             0,
             "#0d0887"
            ],
            [
             0.1111111111111111,
             "#46039f"
            ],
            [
             0.2222222222222222,
             "#7201a8"
            ],
            [
             0.3333333333333333,
             "#9c179e"
            ],
            [
             0.4444444444444444,
             "#bd3786"
            ],
            [
             0.5555555555555556,
             "#d8576b"
            ],
            [
             0.6666666666666666,
             "#ed7953"
            ],
            [
             0.7777777777777778,
             "#fb9f3a"
            ],
            [
             0.8888888888888888,
             "#fdca26"
            ],
            [
             1,
             "#f0f921"
            ]
           ]
          },
          "colorway": [
           "#636efa",
           "#EF553B",
           "#00cc96",
           "#ab63fa",
           "#FFA15A",
           "#19d3f3",
           "#FF6692",
           "#B6E880",
           "#FF97FF",
           "#FECB52"
          ],
          "font": {
           "color": "#2a3f5f"
          },
          "geo": {
           "bgcolor": "white",
           "lakecolor": "white",
           "landcolor": "#E5ECF6",
           "showlakes": true,
           "showland": true,
           "subunitcolor": "white"
          },
          "hoverlabel": {
           "align": "left"
          },
          "hovermode": "closest",
          "mapbox": {
           "style": "light"
          },
          "paper_bgcolor": "white",
          "plot_bgcolor": "#E5ECF6",
          "polar": {
           "angularaxis": {
            "gridcolor": "white",
            "linecolor": "white",
            "ticks": ""
           },
           "bgcolor": "#E5ECF6",
           "radialaxis": {
            "gridcolor": "white",
            "linecolor": "white",
            "ticks": ""
           }
          },
          "scene": {
           "xaxis": {
            "backgroundcolor": "#E5ECF6",
            "gridcolor": "white",
            "gridwidth": 2,
            "linecolor": "white",
            "showbackground": true,
            "ticks": "",
            "zerolinecolor": "white"
           },
           "yaxis": {
            "backgroundcolor": "#E5ECF6",
            "gridcolor": "white",
            "gridwidth": 2,
            "linecolor": "white",
            "showbackground": true,
            "ticks": "",
            "zerolinecolor": "white"
           },
           "zaxis": {
            "backgroundcolor": "#E5ECF6",
            "gridcolor": "white",
            "gridwidth": 2,
            "linecolor": "white",
            "showbackground": true,
            "ticks": "",
            "zerolinecolor": "white"
           }
          },
          "shapedefaults": {
           "line": {
            "color": "#2a3f5f"
           }
          },
          "ternary": {
           "aaxis": {
            "gridcolor": "white",
            "linecolor": "white",
            "ticks": ""
           },
           "baxis": {
            "gridcolor": "white",
            "linecolor": "white",
            "ticks": ""
           },
           "bgcolor": "#E5ECF6",
           "caxis": {
            "gridcolor": "white",
            "linecolor": "white",
            "ticks": ""
           }
          },
          "title": {
           "x": 0.05
          },
          "xaxis": {
           "automargin": true,
           "gridcolor": "white",
           "linecolor": "white",
           "ticks": "",
           "title": {
            "standoff": 15
           },
           "zerolinecolor": "white",
           "zerolinewidth": 2
          },
          "yaxis": {
           "automargin": true,
           "gridcolor": "white",
           "linecolor": "white",
           "ticks": "",
           "title": {
            "standoff": 15
           },
           "zerolinecolor": "white",
           "zerolinewidth": 2
          }
         }
        },
        "title": {
         "text": "Real Gross Private Domestic Investment"
        },
        "xaxis": {
         "title": {
          "text": "Date"
         }
        },
        "yaxis": {
         "title": {
          "text": "Value"
         }
        }
       }
      }
     },
     "metadata": {},
     "output_type": "display_data"
    }
   ],
   "source": [
    "# Plot the data\n",
    "fig = go.Figure()\n",
    "fig.add_trace(go.Scatter(x=df_ns['DATE'], y=df_ns['DIS'], mode='lines', name='yt*'))\n",
    "fig.update_layout(title='Real Gross Private Domestic Investment',\n",
    "                  xaxis_title='Date', yaxis_title='Value')\n",
    "fig.show()"
   ]
  },
  {
   "cell_type": "code",
   "execution_count": 129,
   "metadata": {},
   "outputs": [
    {
     "data": {
      "text/html": [
       "<div>\n",
       "<style scoped>\n",
       "    .dataframe tbody tr th:only-of-type {\n",
       "        vertical-align: middle;\n",
       "    }\n",
       "\n",
       "    .dataframe tbody tr th {\n",
       "        vertical-align: top;\n",
       "    }\n",
       "\n",
       "    .dataframe thead th {\n",
       "        text-align: right;\n",
       "    }\n",
       "</style>\n",
       "<table border=\"1\" class=\"dataframe\">\n",
       "  <thead>\n",
       "    <tr style=\"text-align: right;\">\n",
       "      <th></th>\n",
       "      <th>DATE</th>\n",
       "      <th>DIS</th>\n",
       "      <th>Trend</th>\n",
       "      <th>Season_1</th>\n",
       "      <th>Season_2</th>\n",
       "      <th>Season_3</th>\n",
       "      <th>Season_4</th>\n",
       "    </tr>\n",
       "  </thead>\n",
       "  <tbody>\n",
       "    <tr>\n",
       "      <th>0</th>\n",
       "      <td>2003-04-01</td>\n",
       "      <td>557.658</td>\n",
       "      <td>1</td>\n",
       "      <td>0</td>\n",
       "      <td>1</td>\n",
       "      <td>0</td>\n",
       "      <td>0</td>\n",
       "    </tr>\n",
       "    <tr>\n",
       "      <th>1</th>\n",
       "      <td>2003-07-01</td>\n",
       "      <td>599.846</td>\n",
       "      <td>2</td>\n",
       "      <td>0</td>\n",
       "      <td>0</td>\n",
       "      <td>1</td>\n",
       "      <td>0</td>\n",
       "    </tr>\n",
       "    <tr>\n",
       "      <th>2</th>\n",
       "      <td>2003-10-01</td>\n",
       "      <td>588.230</td>\n",
       "      <td>3</td>\n",
       "      <td>0</td>\n",
       "      <td>0</td>\n",
       "      <td>0</td>\n",
       "      <td>1</td>\n",
       "    </tr>\n",
       "    <tr>\n",
       "      <th>3</th>\n",
       "      <td>2004-01-01</td>\n",
       "      <td>582.144</td>\n",
       "      <td>4</td>\n",
       "      <td>1</td>\n",
       "      <td>0</td>\n",
       "      <td>0</td>\n",
       "      <td>0</td>\n",
       "    </tr>\n",
       "    <tr>\n",
       "      <th>4</th>\n",
       "      <td>2004-04-01</td>\n",
       "      <td>631.168</td>\n",
       "      <td>5</td>\n",
       "      <td>0</td>\n",
       "      <td>1</td>\n",
       "      <td>0</td>\n",
       "      <td>0</td>\n",
       "    </tr>\n",
       "    <tr>\n",
       "      <th>...</th>\n",
       "      <td>...</td>\n",
       "      <td>...</td>\n",
       "      <td>...</td>\n",
       "      <td>...</td>\n",
       "      <td>...</td>\n",
       "      <td>...</td>\n",
       "      <td>...</td>\n",
       "    </tr>\n",
       "    <tr>\n",
       "      <th>75</th>\n",
       "      <td>2022-01-01</td>\n",
       "      <td>935.515</td>\n",
       "      <td>76</td>\n",
       "      <td>1</td>\n",
       "      <td>0</td>\n",
       "      <td>0</td>\n",
       "      <td>0</td>\n",
       "    </tr>\n",
       "    <tr>\n",
       "      <th>76</th>\n",
       "      <td>2022-04-01</td>\n",
       "      <td>930.582</td>\n",
       "      <td>77</td>\n",
       "      <td>0</td>\n",
       "      <td>1</td>\n",
       "      <td>0</td>\n",
       "      <td>0</td>\n",
       "    </tr>\n",
       "    <tr>\n",
       "      <th>77</th>\n",
       "      <td>2022-07-01</td>\n",
       "      <td>950.800</td>\n",
       "      <td>78</td>\n",
       "      <td>0</td>\n",
       "      <td>0</td>\n",
       "      <td>1</td>\n",
       "      <td>0</td>\n",
       "    </tr>\n",
       "    <tr>\n",
       "      <th>78</th>\n",
       "      <td>2022-10-01</td>\n",
       "      <td>915.562</td>\n",
       "      <td>79</td>\n",
       "      <td>0</td>\n",
       "      <td>0</td>\n",
       "      <td>0</td>\n",
       "      <td>1</td>\n",
       "    </tr>\n",
       "    <tr>\n",
       "      <th>79</th>\n",
       "      <td>2023-01-01</td>\n",
       "      <td>871.142</td>\n",
       "      <td>80</td>\n",
       "      <td>1</td>\n",
       "      <td>0</td>\n",
       "      <td>0</td>\n",
       "      <td>0</td>\n",
       "    </tr>\n",
       "  </tbody>\n",
       "</table>\n",
       "<p>80 rows × 7 columns</p>\n",
       "</div>"
      ],
      "text/plain": [
       "          DATE      DIS  Trend  Season_1  Season_2  Season_3  Season_4\n",
       "0   2003-04-01  557.658      1         0         1         0         0\n",
       "1   2003-07-01  599.846      2         0         0         1         0\n",
       "2   2003-10-01  588.230      3         0         0         0         1\n",
       "3   2004-01-01  582.144      4         1         0         0         0\n",
       "4   2004-04-01  631.168      5         0         1         0         0\n",
       "..         ...      ...    ...       ...       ...       ...       ...\n",
       "75  2022-01-01  935.515     76         1         0         0         0\n",
       "76  2022-04-01  930.582     77         0         1         0         0\n",
       "77  2022-07-01  950.800     78         0         0         1         0\n",
       "78  2022-10-01  915.562     79         0         0         0         1\n",
       "79  2023-01-01  871.142     80         1         0         0         0\n",
       "\n",
       "[80 rows x 7 columns]"
      ]
     },
     "execution_count": 129,
     "metadata": {},
     "output_type": "execute_result"
    }
   ],
   "source": [
    "# Create the time trend variable\n",
    "df_ns['Trend'] = range(1, len(df_ns) + 1)\n",
    "\n",
    "# Create the seasonal dummy variables\n",
    "seasonal_dummies = pd.get_dummies(df_ns['DATE'].apply(lambda x: pd.Period(x, freq='Q')).apply(lambda x: x.quarter), prefix='Season')\n",
    "seasonal_dummies = seasonal_dummies.astype(int)\n",
    "\n",
    "# Concatenate the original DataFrame with the trend and seasonal dummies\n",
    "df_regress = pd.concat([df_ns, seasonal_dummies], axis=1)\n",
    "\n",
    "df_regress"
   ]
  },
  {
   "cell_type": "code",
   "execution_count": 130,
   "metadata": {},
   "outputs": [
    {
     "name": "stdout",
     "output_type": "stream",
     "text": [
      "                            OLS Regression Results                            \n",
      "==============================================================================\n",
      "Dep. Variable:                    DIS   R-squared:                       0.696\n",
      "Model:                            OLS   Adj. R-squared:                  0.679\n",
      "Method:                 Least Squares   F-statistic:                     42.85\n",
      "Date:                Thu, 18 May 2023   Prob (F-statistic):           1.15e-18\n",
      "Time:                        20:59:16   Log-Likelihood:                -452.64\n",
      "No. Observations:                  80   AIC:                             915.3\n",
      "Df Residuals:                      75   BIC:                             927.2\n",
      "Df Model:                           4                                         \n",
      "Covariance Type:            nonrobust                                         \n",
      "==============================================================================\n",
      "                 coef    std err          t      P>|t|      [0.025      0.975]\n",
      "------------------------------------------------------------------------------\n",
      "Trend          4.4617      0.347     12.852      0.000       3.770       5.153\n",
      "Season_1     516.0881     21.657     23.830      0.000     472.945     559.232\n",
      "Season_2     529.7947     20.970     25.264      0.000     488.020     571.570\n",
      "Season_3     574.0054     21.196     27.081      0.000     531.781     616.230\n",
      "Season_4     534.9950     21.425     24.970      0.000     492.314     577.676\n",
      "==============================================================================\n",
      "Omnibus:                        9.791   Durbin-Watson:                   0.202\n",
      "Prob(Omnibus):                  0.007   Jarque-Bera (JB):               10.151\n",
      "Skew:                          -0.867   Prob(JB):                      0.00625\n",
      "Kurtosis:                       3.189   Cond. No.                         188.\n",
      "==============================================================================\n",
      "\n",
      "Notes:\n",
      "[1] Standard Errors assume that the covariance matrix of the errors is correctly specified.\n"
     ]
    }
   ],
   "source": [
    "# Perform the regression\n",
    "X = df_regress[['Trend'] + list(seasonal_dummies.columns)]\n",
    "y = df_regress['DIS']\n",
    "model = sm.OLS(y, X)\n",
    "results = model.fit()\n",
    "\n",
    "# Print the regression output\n",
    "print(results.summary())"
   ]
  },
  {
   "attachments": {},
   "cell_type": "markdown",
   "metadata": {},
   "source": [
    "## Question 11 (2 points)"
   ]
  },
  {
   "attachments": {},
   "cell_type": "markdown",
   "metadata": {},
   "source": [
    "Estimate an AR(4) model including an intercept and deterministic trend for yt∗. \n",
    "\n",
    "Compute the fitted values obtained from the AR(4) model. \n",
    "\n",
    "How accurate are the fitted values compared to the actual data yt∗? \n",
    "\n",
    "You can answer this by inspecting a plot of the fitted values and actual data.\n"
   ]
  },
  {
   "cell_type": "code",
   "execution_count": 131,
   "metadata": {},
   "outputs": [],
   "source": [
    "# add first lag till fourth lag till df_ns\n",
    "df_ns['DIS_lag1'] = df_ns['DIS'].shift(1)\n",
    "df_ns['DIS_lag2'] = df_ns['DIS'].shift(2)\n",
    "df_ns['DIS_lag3'] = df_ns['DIS'].shift(3)\n",
    "df_ns['DIS_lag4'] = df_ns['DIS'].shift(4)\n",
    "\n",
    "# drop the first 4 rows\n",
    "df_ns = df_ns.dropna()\n",
    "\n",
    "# Perform the regression with trend\n",
    "X = df_ns[['DIS_lag1', 'DIS_lag2', 'DIS_lag3', 'DIS_lag4', 'Trend']]\n",
    "X = sm.add_constant(X)\n",
    "y = df_ns['DIS']\n",
    "model = sm.OLS(y, X)\n",
    "results = model.fit()\n",
    "\n",
    "# Compute the fitted values\n",
    "fitted_values = results.fittedvalues\n"
   ]
  },
  {
   "cell_type": "code",
   "execution_count": 132,
   "metadata": {},
   "outputs": [
    {
     "data": {
      "application/vnd.plotly.v1+json": {
       "config": {
        "plotlyServerURL": "https://plot.ly"
       },
       "data": [
        {
         "mode": "lines",
         "name": "Actual Data",
         "type": "scatter",
         "x": [
          "2004-04-01",
          "2004-07-01",
          "2004-10-01",
          "2005-01-01",
          "2005-04-01",
          "2005-07-01",
          "2005-10-01",
          "2006-01-01",
          "2006-04-01",
          "2006-07-01",
          "2006-10-01",
          "2007-01-01",
          "2007-04-01",
          "2007-07-01",
          "2007-10-01",
          "2008-01-01",
          "2008-04-01",
          "2008-07-01",
          "2008-10-01",
          "2009-01-01",
          "2009-04-01",
          "2009-07-01",
          "2009-10-01",
          "2010-01-01",
          "2010-04-01",
          "2010-07-01",
          "2010-10-01",
          "2011-01-01",
          "2011-04-01",
          "2011-07-01",
          "2011-10-01",
          "2012-01-01",
          "2012-04-01",
          "2012-07-01",
          "2012-10-01",
          "2013-01-01",
          "2013-04-01",
          "2013-07-01",
          "2013-10-01",
          "2014-01-01",
          "2014-04-01",
          "2014-07-01",
          "2014-10-01",
          "2015-01-01",
          "2015-04-01",
          "2015-07-01",
          "2015-10-01",
          "2016-01-01",
          "2016-04-01",
          "2016-07-01",
          "2016-10-01",
          "2017-01-01",
          "2017-04-01",
          "2017-07-01",
          "2017-10-01",
          "2018-01-01",
          "2018-04-01",
          "2018-07-01",
          "2018-10-01",
          "2019-01-01",
          "2019-04-01",
          "2019-07-01",
          "2019-10-01",
          "2020-01-01",
          "2020-04-01",
          "2020-07-01",
          "2020-10-01",
          "2021-01-01",
          "2021-04-01",
          "2021-07-01",
          "2021-10-01",
          "2022-01-01",
          "2022-04-01",
          "2022-07-01",
          "2022-10-01",
          "2023-01-01"
         ],
         "y": [
          631.168,
          656.865,
          632.375,
          635.268,
          662.007,
          705.288,
          668.002,
          675.109,
          707.268,
          713.201,
          656.834,
          646.864,
          681.801,
          700.022,
          655.45,
          649.914,
          626.352,
          636.633,
          550.012,
          474.572,
          454.691,
          500.238,
          512.468,
          495.672,
          547.546,
          605.714,
          567.545,
          556.714,
          568.702,
          620.52,
          616.192,
          637.435,
          644.378,
          697.988,
          641.953,
          659.182,
          679.22,
          752.936,
          710.135,
          693.143,
          724.014,
          795.722,
          746.32,
          751.503,
          787.302,
          823.664,
          759.285,
          745.358,
          773.161,
          801.621,
          769.774,
          736.242,
          807.973,
          853.607,
          818.169,
          802.699,
          838.865,
          896.454,
          860.881,
          843.663,
          880.136,
          916.195,
          852.694,
          832.364,
          711.158,
          888.216,
          874.734,
          845.101,
          862.05,
          933.952,
          961.893,
          935.515,
          930.582,
          950.8,
          915.562,
          871.142
         ]
        },
        {
         "mode": "lines",
         "name": "Fitted Values",
         "type": "scatter",
         "x": [
          "2004-04-01",
          "2004-07-01",
          "2004-10-01",
          "2005-01-01",
          "2005-04-01",
          "2005-07-01",
          "2005-10-01",
          "2006-01-01",
          "2006-04-01",
          "2006-07-01",
          "2006-10-01",
          "2007-01-01",
          "2007-04-01",
          "2007-07-01",
          "2007-10-01",
          "2008-01-01",
          "2008-04-01",
          "2008-07-01",
          "2008-10-01",
          "2009-01-01",
          "2009-04-01",
          "2009-07-01",
          "2009-10-01",
          "2010-01-01",
          "2010-04-01",
          "2010-07-01",
          "2010-10-01",
          "2011-01-01",
          "2011-04-01",
          "2011-07-01",
          "2011-10-01",
          "2012-01-01",
          "2012-04-01",
          "2012-07-01",
          "2012-10-01",
          "2013-01-01",
          "2013-04-01",
          "2013-07-01",
          "2013-10-01",
          "2014-01-01",
          "2014-04-01",
          "2014-07-01",
          "2014-10-01",
          "2015-01-01",
          "2015-04-01",
          "2015-07-01",
          "2015-10-01",
          "2016-01-01",
          "2016-04-01",
          "2016-07-01",
          "2016-10-01",
          "2017-01-01",
          "2017-04-01",
          "2017-07-01",
          "2017-10-01",
          "2018-01-01",
          "2018-04-01",
          "2018-07-01",
          "2018-10-01",
          "2019-01-01",
          "2019-04-01",
          "2019-07-01",
          "2019-10-01",
          "2020-01-01",
          "2020-04-01",
          "2020-07-01",
          "2020-10-01",
          "2021-01-01",
          "2021-04-01",
          "2021-07-01",
          "2021-10-01",
          "2022-01-01",
          "2022-04-01",
          "2022-07-01",
          "2022-10-01",
          "2023-01-01"
         ],
         "y": [
          580.0077618730758,
          623.4391498028659,
          631.7771999837114,
          616.1133340244659,
          635.5271791134707,
          656.5405108610614,
          679.8242302875669,
          650.8526228419004,
          673.4302448576581,
          699.3318284149329,
          692.9176532328343,
          657.5937940620548,
          666.8085844669022,
          687.6307996202718,
          683.6613448117039,
          652.0153786791576,
          664.7802436514103,
          646.642381169911,
          649.0123499591073,
          581.1594961981291,
          537.7583150916922,
          526.0297742845931,
          535.6925721219428,
          520.717145726754,
          509.6020811493393,
          560.6633619268698,
          595.1178683440759,
          562.8019272017908,
          579.4237379300764,
          596.3268112805594,
          623.5987272967038,
          612.432238911092,
          638.3563339966165,
          649.9541289655664,
          690.1769057816557,
          646.880591548018,
          677.3147841289441,
          692.309835278893,
          734.5053583955818,
          698.6088171105839,
          707.5090156751552,
          741.3694991665895,
          778.3010360564629,
          732.8531173412458,
          760.6071221779613,
          793.2534263214994,
          805.6422629194551,
          759.873856643165,
          772.3296603947026,
          793.3818863981336,
          795.8480868920341,
          770.0467329517909,
          760.6226034972503,
          819.3734561613513,
          830.9119795188697,
          802.0233860836761,
          816.9779874621167,
          850.0267022395915,
          877.5552571529454,
          845.3231326620437,
          853.829212634871,
          889.6532112172429,
          901.3283898835732,
          852.0288657118635,
          859.8128540463786,
          774.3711009524447,
          906.8394637709962,
          849.4285862518985,
          831.5053360479815,
          881.1478963022386,
          924.3238938741304,
          930.3535949753792,
          920.5108742386941,
          939.273491632111,
          956.9850712287333,
          923.1885451318583
         ]
        }
       ],
       "layout": {
        "template": {
         "data": {
          "bar": [
           {
            "error_x": {
             "color": "#2a3f5f"
            },
            "error_y": {
             "color": "#2a3f5f"
            },
            "marker": {
             "line": {
              "color": "#E5ECF6",
              "width": 0.5
             },
             "pattern": {
              "fillmode": "overlay",
              "size": 10,
              "solidity": 0.2
             }
            },
            "type": "bar"
           }
          ],
          "barpolar": [
           {
            "marker": {
             "line": {
              "color": "#E5ECF6",
              "width": 0.5
             },
             "pattern": {
              "fillmode": "overlay",
              "size": 10,
              "solidity": 0.2
             }
            },
            "type": "barpolar"
           }
          ],
          "carpet": [
           {
            "aaxis": {
             "endlinecolor": "#2a3f5f",
             "gridcolor": "white",
             "linecolor": "white",
             "minorgridcolor": "white",
             "startlinecolor": "#2a3f5f"
            },
            "baxis": {
             "endlinecolor": "#2a3f5f",
             "gridcolor": "white",
             "linecolor": "white",
             "minorgridcolor": "white",
             "startlinecolor": "#2a3f5f"
            },
            "type": "carpet"
           }
          ],
          "choropleth": [
           {
            "colorbar": {
             "outlinewidth": 0,
             "ticks": ""
            },
            "type": "choropleth"
           }
          ],
          "contour": [
           {
            "colorbar": {
             "outlinewidth": 0,
             "ticks": ""
            },
            "colorscale": [
             [
              0,
              "#0d0887"
             ],
             [
              0.1111111111111111,
              "#46039f"
             ],
             [
              0.2222222222222222,
              "#7201a8"
             ],
             [
              0.3333333333333333,
              "#9c179e"
             ],
             [
              0.4444444444444444,
              "#bd3786"
             ],
             [
              0.5555555555555556,
              "#d8576b"
             ],
             [
              0.6666666666666666,
              "#ed7953"
             ],
             [
              0.7777777777777778,
              "#fb9f3a"
             ],
             [
              0.8888888888888888,
              "#fdca26"
             ],
             [
              1,
              "#f0f921"
             ]
            ],
            "type": "contour"
           }
          ],
          "contourcarpet": [
           {
            "colorbar": {
             "outlinewidth": 0,
             "ticks": ""
            },
            "type": "contourcarpet"
           }
          ],
          "heatmap": [
           {
            "colorbar": {
             "outlinewidth": 0,
             "ticks": ""
            },
            "colorscale": [
             [
              0,
              "#0d0887"
             ],
             [
              0.1111111111111111,
              "#46039f"
             ],
             [
              0.2222222222222222,
              "#7201a8"
             ],
             [
              0.3333333333333333,
              "#9c179e"
             ],
             [
              0.4444444444444444,
              "#bd3786"
             ],
             [
              0.5555555555555556,
              "#d8576b"
             ],
             [
              0.6666666666666666,
              "#ed7953"
             ],
             [
              0.7777777777777778,
              "#fb9f3a"
             ],
             [
              0.8888888888888888,
              "#fdca26"
             ],
             [
              1,
              "#f0f921"
             ]
            ],
            "type": "heatmap"
           }
          ],
          "heatmapgl": [
           {
            "colorbar": {
             "outlinewidth": 0,
             "ticks": ""
            },
            "colorscale": [
             [
              0,
              "#0d0887"
             ],
             [
              0.1111111111111111,
              "#46039f"
             ],
             [
              0.2222222222222222,
              "#7201a8"
             ],
             [
              0.3333333333333333,
              "#9c179e"
             ],
             [
              0.4444444444444444,
              "#bd3786"
             ],
             [
              0.5555555555555556,
              "#d8576b"
             ],
             [
              0.6666666666666666,
              "#ed7953"
             ],
             [
              0.7777777777777778,
              "#fb9f3a"
             ],
             [
              0.8888888888888888,
              "#fdca26"
             ],
             [
              1,
              "#f0f921"
             ]
            ],
            "type": "heatmapgl"
           }
          ],
          "histogram": [
           {
            "marker": {
             "pattern": {
              "fillmode": "overlay",
              "size": 10,
              "solidity": 0.2
             }
            },
            "type": "histogram"
           }
          ],
          "histogram2d": [
           {
            "colorbar": {
             "outlinewidth": 0,
             "ticks": ""
            },
            "colorscale": [
             [
              0,
              "#0d0887"
             ],
             [
              0.1111111111111111,
              "#46039f"
             ],
             [
              0.2222222222222222,
              "#7201a8"
             ],
             [
              0.3333333333333333,
              "#9c179e"
             ],
             [
              0.4444444444444444,
              "#bd3786"
             ],
             [
              0.5555555555555556,
              "#d8576b"
             ],
             [
              0.6666666666666666,
              "#ed7953"
             ],
             [
              0.7777777777777778,
              "#fb9f3a"
             ],
             [
              0.8888888888888888,
              "#fdca26"
             ],
             [
              1,
              "#f0f921"
             ]
            ],
            "type": "histogram2d"
           }
          ],
          "histogram2dcontour": [
           {
            "colorbar": {
             "outlinewidth": 0,
             "ticks": ""
            },
            "colorscale": [
             [
              0,
              "#0d0887"
             ],
             [
              0.1111111111111111,
              "#46039f"
             ],
             [
              0.2222222222222222,
              "#7201a8"
             ],
             [
              0.3333333333333333,
              "#9c179e"
             ],
             [
              0.4444444444444444,
              "#bd3786"
             ],
             [
              0.5555555555555556,
              "#d8576b"
             ],
             [
              0.6666666666666666,
              "#ed7953"
             ],
             [
              0.7777777777777778,
              "#fb9f3a"
             ],
             [
              0.8888888888888888,
              "#fdca26"
             ],
             [
              1,
              "#f0f921"
             ]
            ],
            "type": "histogram2dcontour"
           }
          ],
          "mesh3d": [
           {
            "colorbar": {
             "outlinewidth": 0,
             "ticks": ""
            },
            "type": "mesh3d"
           }
          ],
          "parcoords": [
           {
            "line": {
             "colorbar": {
              "outlinewidth": 0,
              "ticks": ""
             }
            },
            "type": "parcoords"
           }
          ],
          "pie": [
           {
            "automargin": true,
            "type": "pie"
           }
          ],
          "scatter": [
           {
            "fillpattern": {
             "fillmode": "overlay",
             "size": 10,
             "solidity": 0.2
            },
            "type": "scatter"
           }
          ],
          "scatter3d": [
           {
            "line": {
             "colorbar": {
              "outlinewidth": 0,
              "ticks": ""
             }
            },
            "marker": {
             "colorbar": {
              "outlinewidth": 0,
              "ticks": ""
             }
            },
            "type": "scatter3d"
           }
          ],
          "scattercarpet": [
           {
            "marker": {
             "colorbar": {
              "outlinewidth": 0,
              "ticks": ""
             }
            },
            "type": "scattercarpet"
           }
          ],
          "scattergeo": [
           {
            "marker": {
             "colorbar": {
              "outlinewidth": 0,
              "ticks": ""
             }
            },
            "type": "scattergeo"
           }
          ],
          "scattergl": [
           {
            "marker": {
             "colorbar": {
              "outlinewidth": 0,
              "ticks": ""
             }
            },
            "type": "scattergl"
           }
          ],
          "scattermapbox": [
           {
            "marker": {
             "colorbar": {
              "outlinewidth": 0,
              "ticks": ""
             }
            },
            "type": "scattermapbox"
           }
          ],
          "scatterpolar": [
           {
            "marker": {
             "colorbar": {
              "outlinewidth": 0,
              "ticks": ""
             }
            },
            "type": "scatterpolar"
           }
          ],
          "scatterpolargl": [
           {
            "marker": {
             "colorbar": {
              "outlinewidth": 0,
              "ticks": ""
             }
            },
            "type": "scatterpolargl"
           }
          ],
          "scatterternary": [
           {
            "marker": {
             "colorbar": {
              "outlinewidth": 0,
              "ticks": ""
             }
            },
            "type": "scatterternary"
           }
          ],
          "surface": [
           {
            "colorbar": {
             "outlinewidth": 0,
             "ticks": ""
            },
            "colorscale": [
             [
              0,
              "#0d0887"
             ],
             [
              0.1111111111111111,
              "#46039f"
             ],
             [
              0.2222222222222222,
              "#7201a8"
             ],
             [
              0.3333333333333333,
              "#9c179e"
             ],
             [
              0.4444444444444444,
              "#bd3786"
             ],
             [
              0.5555555555555556,
              "#d8576b"
             ],
             [
              0.6666666666666666,
              "#ed7953"
             ],
             [
              0.7777777777777778,
              "#fb9f3a"
             ],
             [
              0.8888888888888888,
              "#fdca26"
             ],
             [
              1,
              "#f0f921"
             ]
            ],
            "type": "surface"
           }
          ],
          "table": [
           {
            "cells": {
             "fill": {
              "color": "#EBF0F8"
             },
             "line": {
              "color": "white"
             }
            },
            "header": {
             "fill": {
              "color": "#C8D4E3"
             },
             "line": {
              "color": "white"
             }
            },
            "type": "table"
           }
          ]
         },
         "layout": {
          "annotationdefaults": {
           "arrowcolor": "#2a3f5f",
           "arrowhead": 0,
           "arrowwidth": 1
          },
          "autotypenumbers": "strict",
          "coloraxis": {
           "colorbar": {
            "outlinewidth": 0,
            "ticks": ""
           }
          },
          "colorscale": {
           "diverging": [
            [
             0,
             "#8e0152"
            ],
            [
             0.1,
             "#c51b7d"
            ],
            [
             0.2,
             "#de77ae"
            ],
            [
             0.3,
             "#f1b6da"
            ],
            [
             0.4,
             "#fde0ef"
            ],
            [
             0.5,
             "#f7f7f7"
            ],
            [
             0.6,
             "#e6f5d0"
            ],
            [
             0.7,
             "#b8e186"
            ],
            [
             0.8,
             "#7fbc41"
            ],
            [
             0.9,
             "#4d9221"
            ],
            [
             1,
             "#276419"
            ]
           ],
           "sequential": [
            [
             0,
             "#0d0887"
            ],
            [
             0.1111111111111111,
             "#46039f"
            ],
            [
             0.2222222222222222,
             "#7201a8"
            ],
            [
             0.3333333333333333,
             "#9c179e"
            ],
            [
             0.4444444444444444,
             "#bd3786"
            ],
            [
             0.5555555555555556,
             "#d8576b"
            ],
            [
             0.6666666666666666,
             "#ed7953"
            ],
            [
             0.7777777777777778,
             "#fb9f3a"
            ],
            [
             0.8888888888888888,
             "#fdca26"
            ],
            [
             1,
             "#f0f921"
            ]
           ],
           "sequentialminus": [
            [
             0,
             "#0d0887"
            ],
            [
             0.1111111111111111,
             "#46039f"
            ],
            [
             0.2222222222222222,
             "#7201a8"
            ],
            [
             0.3333333333333333,
             "#9c179e"
            ],
            [
             0.4444444444444444,
             "#bd3786"
            ],
            [
             0.5555555555555556,
             "#d8576b"
            ],
            [
             0.6666666666666666,
             "#ed7953"
            ],
            [
             0.7777777777777778,
             "#fb9f3a"
            ],
            [
             0.8888888888888888,
             "#fdca26"
            ],
            [
             1,
             "#f0f921"
            ]
           ]
          },
          "colorway": [
           "#636efa",
           "#EF553B",
           "#00cc96",
           "#ab63fa",
           "#FFA15A",
           "#19d3f3",
           "#FF6692",
           "#B6E880",
           "#FF97FF",
           "#FECB52"
          ],
          "font": {
           "color": "#2a3f5f"
          },
          "geo": {
           "bgcolor": "white",
           "lakecolor": "white",
           "landcolor": "#E5ECF6",
           "showlakes": true,
           "showland": true,
           "subunitcolor": "white"
          },
          "hoverlabel": {
           "align": "left"
          },
          "hovermode": "closest",
          "mapbox": {
           "style": "light"
          },
          "paper_bgcolor": "white",
          "plot_bgcolor": "#E5ECF6",
          "polar": {
           "angularaxis": {
            "gridcolor": "white",
            "linecolor": "white",
            "ticks": ""
           },
           "bgcolor": "#E5ECF6",
           "radialaxis": {
            "gridcolor": "white",
            "linecolor": "white",
            "ticks": ""
           }
          },
          "scene": {
           "xaxis": {
            "backgroundcolor": "#E5ECF6",
            "gridcolor": "white",
            "gridwidth": 2,
            "linecolor": "white",
            "showbackground": true,
            "ticks": "",
            "zerolinecolor": "white"
           },
           "yaxis": {
            "backgroundcolor": "#E5ECF6",
            "gridcolor": "white",
            "gridwidth": 2,
            "linecolor": "white",
            "showbackground": true,
            "ticks": "",
            "zerolinecolor": "white"
           },
           "zaxis": {
            "backgroundcolor": "#E5ECF6",
            "gridcolor": "white",
            "gridwidth": 2,
            "linecolor": "white",
            "showbackground": true,
            "ticks": "",
            "zerolinecolor": "white"
           }
          },
          "shapedefaults": {
           "line": {
            "color": "#2a3f5f"
           }
          },
          "ternary": {
           "aaxis": {
            "gridcolor": "white",
            "linecolor": "white",
            "ticks": ""
           },
           "baxis": {
            "gridcolor": "white",
            "linecolor": "white",
            "ticks": ""
           },
           "bgcolor": "#E5ECF6",
           "caxis": {
            "gridcolor": "white",
            "linecolor": "white",
            "ticks": ""
           }
          },
          "title": {
           "x": 0.05
          },
          "xaxis": {
           "automargin": true,
           "gridcolor": "white",
           "linecolor": "white",
           "ticks": "",
           "title": {
            "standoff": 15
           },
           "zerolinecolor": "white",
           "zerolinewidth": 2
          },
          "yaxis": {
           "automargin": true,
           "gridcolor": "white",
           "linecolor": "white",
           "ticks": "",
           "title": {
            "standoff": 15
           },
           "zerolinecolor": "white",
           "zerolinewidth": 2
          }
         }
        },
        "title": {
         "text": "AR(4) Model Fitted Values vs Actual Data"
        },
        "xaxis": {
         "title": {
          "text": "Date"
         }
        },
        "yaxis": {
         "title": {
          "text": "Value"
         }
        }
       }
      }
     },
     "metadata": {},
     "output_type": "display_data"
    }
   ],
   "source": [
    "fig = go.Figure()\n",
    "fig.add_trace(go.Scatter(x=df_ns['DATE'], y=y, mode='lines', name='Actual Data'))\n",
    "fig.add_trace(go.Scatter(x=df_ns['DATE'], y=fitted_values, mode='lines', name='Fitted Values'))\n",
    "fig.update_layout(title='AR(4) Model Fitted Values vs Actual Data',\n",
    "                  xaxis_title='Date', yaxis_title='Value')\n",
    "fig.show()"
   ]
  },
  {
   "attachments": {},
   "cell_type": "markdown",
   "metadata": {},
   "source": [
    "## Question 12 (3 points)"
   ]
  },
  {
   "attachments": {},
   "cell_type": "markdown",
   "metadata": {},
   "source": [
    "Compare the out-of sample forecasting performance of the AR(4) model \n",
    "\n",
    "for yt∗ to a random walk model with a deterministic trend \n",
    "\n",
    "based on the mean squared forecast errors. \n",
    "\n",
    "Compute one-step ahead forecast for the last 50 observations based on a rolling window. \n",
    "\n",
    "Test whether the difference in forecast performance of the two models is statistically significant. \n",
    "\n",
    "Which of the models is preferable in terms of forecasting accuracy?"
   ]
  },
  {
   "cell_type": "code",
   "execution_count": 136,
   "metadata": {},
   "outputs": [
    {
     "name": "stdout",
     "output_type": "stream",
     "text": [
      "ARIMA(4, 0, 0) Forecasts: [26    614.175931\n",
      "dtype: float64, 27    552.437557\n",
      "dtype: float64, 28    587.271837\n",
      "dtype: float64, 29    574.350426\n",
      "dtype: float64, 30    631.586014\n",
      "dtype: float64, 31    599.969733\n",
      "dtype: float64, 32    650.05567\n",
      "dtype: float64, 33    636.201138\n",
      "dtype: float64, 34    704.293478\n",
      "dtype: float64, 35    615.422361\n",
      "dtype: float64, 36    667.69355\n",
      "dtype: float64, 37    667.242827\n",
      "dtype: float64, 38    745.653014\n",
      "dtype: float64, 39    683.615807\n",
      "dtype: float64, 40    685.532367\n",
      "dtype: float64, 41    719.918332\n",
      "dtype: float64, 42    784.373931\n",
      "dtype: float64, 43    715.364752\n",
      "dtype: float64, 44    747.070159\n",
      "dtype: float64, 45    778.292529\n",
      "dtype: float64, 46    806.55374\n",
      "dtype: float64, 47    739.026841\n",
      "dtype: float64, 48    752.158372\n",
      "dtype: float64, 49    773.365216\n",
      "dtype: float64, 50    787.382338\n",
      "dtype: float64, 51    752.922316\n",
      "dtype: float64, 52    737.767511\n",
      "dtype: float64, 53    812.159357\n",
      "dtype: float64, 54    824.043161\n",
      "dtype: float64, 55    789.990213\n",
      "dtype: float64, 56    806.120044\n",
      "dtype: float64, 57    840.313274\n",
      "dtype: float64, 58    878.284071\n",
      "dtype: float64, 59    830.808779\n",
      "dtype: float64, 60    848.148807\n",
      "dtype: float64, 61    882.628559\n",
      "dtype: float64, 62    897.838611\n",
      "dtype: float64, 63    832.239834\n",
      "dtype: float64, 64    851.885306\n",
      "dtype: float64, 65    720.126901\n",
      "dtype: float64, 66    886.079087\n",
      "dtype: float64, 67    849.143498\n",
      "dtype: float64, 68    800.294742\n",
      "dtype: float64, 69    864.632816\n",
      "dtype: float64, 70    910.557174\n",
      "dtype: float64, 71    921.946108\n",
      "dtype: float64, 72    910.324675\n",
      "dtype: float64, 73    930.019188\n",
      "dtype: float64, 74    948.447869\n",
      "dtype: float64, 75    912.652421\n",
      "dtype: float64]\n",
      "Random Walk Forecasts: [635.714, 598.545, 588.714, 601.702, 654.52, 651.192, 673.435, 681.378, 735.988, 680.953, 699.182, 720.22, 794.936, 753.135, 737.143, 769.014, 841.722, 793.32, 799.503, 836.302, 873.664, 810.285, 797.358, 826.161, 855.621, 824.774, 792.242, 864.973, 911.607, 877.169, 862.699, 899.865, 958.454, 923.881, 907.663, 945.136, 982.195, 919.694, 900.364, 780.158, 958.216, 945.734, 917.101, 935.05, 1007.952, 1036.893, 1011.515, 1007.582, 1028.8, 994.562]\n"
     ]
    }
   ],
   "source": [
    "# Set the window size\n",
    "window_size = len(df_ns) - 50\n",
    "\n",
    "# Initialize lists to store the forecasts\n",
    "forecasts_ar4 = []\n",
    "forecasts_rw = []\n",
    "\n",
    "# Iterate over the last 50 observations\n",
    "for i in range(window_size, len(df_ns)):\n",
    "    # Extract the current window\n",
    "    window = df_ns[:i]\n",
    "\n",
    "    # Fit the ARIMA(4, 0, 0) model on the window\n",
    "    arima_model = ARIMA(window['DIS'], order=(4, 0, 0))\n",
    "    arima_results = arima_model.fit()\n",
    "\n",
    "    # Compute the forecast for the next observation using ARIMA(4, 0, 0)\n",
    "    forecast_ar4 = arima_results.forecast(steps=1)\n",
    "    forecasts_ar4.append(forecast_ar4)\n",
    "\n",
    "    # Compute the forecast for the next observation using random walk with a deterministic trend\n",
    "    forecast_rw = window['DIS'].iloc[-1] + window['Trend'].iloc[-1]\n",
    "    forecasts_rw.append(forecast_rw)\n",
    "\n",
    "# clear output\n",
    "clear_output()\n",
    "\n",
    "# Print the forecasts\n",
    "print(\"ARIMA(4, 0, 0) Forecasts:\", forecasts_ar4)\n",
    "print(\"Random Walk Forecasts:\", forecasts_rw)\n"
   ]
  },
  {
   "cell_type": "code",
   "execution_count": 137,
   "metadata": {},
   "outputs": [
    {
     "name": "stdout",
     "output_type": "stream",
     "text": [
      "ARIMA(4, 0, 0) MSE: 2431.219\n",
      "Random Walk MSE: 5045.122\n"
     ]
    }
   ],
   "source": [
    "# calculate the MSE for ARIMA(4,0,0) and random walk\n",
    "mse_ar4 = mean_squared_error(df_ns['DIS'].iloc[window_size:], forecasts_ar4)\n",
    "mse_rw = mean_squared_error(df_ns['DIS'].iloc[window_size:], forecasts_rw)\n",
    "\n",
    "# Print the MSE values\n",
    "print(f\"ARIMA(4, 0, 0) MSE: {mse_ar4:.3f}\")\n",
    "print(f\"Random Walk MSE: {mse_rw:.3f}\")"
   ]
  },
  {
   "cell_type": "code",
   "execution_count": 139,
   "metadata": {},
   "outputs": [
    {
     "name": "stdout",
     "output_type": "stream",
     "text": [
      "Test statistic: 73.1096\n",
      "P-value: 0.0000\n",
      "The MSE of ARIMA(4, 0, 0) is significantly lower than the MSE of random walk.\n"
     ]
    }
   ],
   "source": [
    "# test whether the MSE of ARIMA(4,0,0) is significantly lower than the MSE of random walk\n",
    "# Compute the test statistic\n",
    "test_statistic = (mse_rw - mse_ar4) / (mse_ar4 / (len(df_ns) - 8))\n",
    "\n",
    "# Compute the p-value\n",
    "p_value = 1 - chi2.cdf(test_statistic, df=4)\n",
    "\n",
    "# Print the test statistic and the p-value\n",
    "print(f\"Test statistic: {test_statistic:.4f}\")\n",
    "print(f\"P-value: {p_value:.4f}\")\n",
    "\n",
    "if p_value < 0.05:\n",
    "    print(\"The MSE of ARIMA(4, 0, 0) is significantly lower than the MSE of random walk.\")\n",
    "else:\n",
    "    print(\"The MSE of ARIMA(4, 0, 0) is not significantly lower than the MSE of random walk.\")"
   ]
  },
  {
   "attachments": {},
   "cell_type": "markdown",
   "metadata": {},
   "source": []
  },
  {
   "attachments": {},
   "cell_type": "markdown",
   "metadata": {},
   "source": [
    "# Question 13-14 ADF-test"
   ]
  },
  {
   "attachments": {},
   "cell_type": "markdown",
   "metadata": {},
   "source": [
    "## Question 13 (4 points)"
   ]
  },
  {
   "attachments": {},
   "cell_type": "markdown",
   "metadata": {},
   "source": [
    "In order to understand the behavior of the ADF test \n",
    "\n",
    "better conduct a small simulation to see the dependence of rejection/no-rejection decision \n",
    "\n",
    "on the value of the autoregressive parameter in an AR(1) model. \n",
    "\n",
    "To do so, run 1000 simulations in which you simulate a time-series with 100 observations \n",
    "\n",
    "based on the following data generating process (DGP):\n",
    "\n",
    "yt = φyt−1 + εt y0 = 0\n",
    "\n",
    "εt ∼N(0,1).\n",
    "\n",
    "Repeat the 1000 simulations for three different values of φ. \n",
    "\n",
    "Set (1) φ = 0.5, then (2) φ = 0.9, and finally (3) φ = 0.99. \n",
    "\n",
    "Hence, you perform 3 times 1000 simulations and in each simulation you generate a time series of length 100 according to the DGP with a specific φ. \n",
    "\n",
    "In each simulation draw, calculate the value of the ADF test statistic. \n",
    "\n",
    "Select the setting of the ADF test accordingly based on the knowledge of the DGP. Plot the values of the test statistics for all simulation draws in a histogram.\n",
    "\n",
    "Compare those to the critical values. \n",
    "\n",
    "What do you conclude regarding the performance of the ADF test based on the value of\n",
    "the autoregressive parameter in an AR(1) model?"
   ]
  },
  {
   "cell_type": "code",
   "execution_count": 140,
   "metadata": {},
   "outputs": [],
   "source": [
    "n_simulations = 1000\n",
    "n_obs = 100\n",
    "phi_values = [0.5, 0.9, 0.99]\n",
    "adf_stats = np.zeros((n_simulations, len(phi_values)))"
   ]
  },
  {
   "cell_type": "code",
   "execution_count": 141,
   "metadata": {},
   "outputs": [],
   "source": [
    "for sim in range(n_simulations):\n",
    "    for i, phi in enumerate(phi_values):\n",
    "        # Generate the time series\n",
    "        epsilon = np.random.normal(size=n_obs)\n",
    "        y = np.zeros(n_obs)\n",
    "        for t in range(1, n_obs):\n",
    "            y[t] = phi * y[t-1] + epsilon[t]\n",
    "        \n",
    "        # Perform the ADF test\n",
    "        adf_result = adfuller(y, regression='c')\n",
    "        adf_stats[sim, i] = adf_result[0]"
   ]
  },
  {
   "cell_type": "code",
   "execution_count": 142,
   "metadata": {},
   "outputs": [
    {
     "data": {
      "application/vnd.plotly.v1+json": {
       "config": {
        "plotlyServerURL": "https://plot.ly"
       },
       "data": [
        {
         "name": "φ = 0.5",
         "nbinsx": 20,
         "opacity": 0.7,
         "type": "histogram",
         "x": [
          -6.284274264650489,
          -4.939906192983115,
          -4.101350409231273,
          -5.553119328825042,
          -6.220910530733358,
          -6.373805484730989,
          -4.778895881436059,
          -5.210963299616777,
          -6.033357575974663,
          -6.099291297068766,
          -6.171636288166168,
          -5.680099336721509,
          -4.965289917220809,
          -6.023809230780109,
          -2.6416737485135977,
          -4.754500991196523,
          -3.086543532103865,
          -5.305670854644653,
          -2.8084810778215457,
          -6.053568006396656,
          -6.487671117004722,
          -6.83291000482121,
          -6.654766499522634,
          -6.492608845240579,
          -6.205706113883359,
          -5.2858729469754575,
          -5.801992466880682,
          -6.540052227606557,
          -5.916360371523263,
          -5.68196057929597,
          -4.0991537307971955,
          -5.1430384837243555,
          -5.496186611190133,
          -6.206531129395573,
          -5.687046025923121,
          -2.970431901859312,
          -5.8359295657506305,
          -5.005414668895133,
          -6.200229971171,
          -6.559444351591924,
          -6.631805725732553,
          -5.192976032398881,
          -5.704447249623095,
          -6.627926768791559,
          -4.584276608840398,
          -3.053973293103402,
          -5.528281013402683,
          -6.253865429530871,
          -5.420874520182677,
          -5.180309750087663,
          -6.2282166030999395,
          -6.394239079866697,
          -6.792533096974818,
          -5.545700635095624,
          -5.7479205504894,
          -6.429916312600061,
          -5.129173019513923,
          -6.758168939919411,
          -5.773529336694487,
          -6.040448509370255,
          -6.294483934375637,
          -5.910092558319757,
          -5.73382430550289,
          -6.2462028833395555,
          -7.378448349551732,
          -6.125087728997997,
          -5.907844797625189,
          -5.387909118432999,
          -6.74919303536902,
          -5.821207731207387,
          -4.479102553860305,
          -5.886569039842297,
          -6.124709478649573,
          -5.307405169511327,
          -2.422145844489481,
          -5.43267057200215,
          -5.21852464053245,
          -5.8280164422287735,
          -5.926909531111849,
          -5.736502050534961,
          -5.345143307317646,
          -4.662557407615323,
          -3.83573887157223,
          -5.655470309842824,
          -5.9972087661644435,
          -5.242576622328223,
          -4.483158856102681,
          -6.32974355597546,
          -5.349181909461343,
          -3.5630182584682593,
          -5.223149908870551,
          -5.193680521708022,
          -3.6859384231134005,
          -4.060404530130194,
          -5.129384305003135,
          -3.691836626447971,
          -5.2553947392334095,
          -3.2833853001450586,
          -4.979877684874376,
          -5.541625598075903,
          -5.052623849974441,
          -2.456435073939168,
          -5.465541448145163,
          -6.957177265987474,
          -5.578488816735281,
          -5.419456109415533,
          -5.472267651546181,
          -5.6670078116920495,
          -7.004080756175621,
          -6.167216658572435,
          -5.9162002515002055,
          -5.063477513738668,
          -5.377706733217182,
          -6.103848363875408,
          -5.461300255201233,
          -6.321787724467657,
          -3.284002478303394,
          -4.969447777940398,
          -5.687942949573291,
          -5.4127925176421465,
          -5.894835480554853,
          -5.425173801556438,
          -6.478764864864085,
          -4.994366005218358,
          -5.393899436608732,
          -6.0079397027722035,
          -4.591559325938606,
          -5.77105703921511,
          -5.2722370872587545,
          -6.1780791145898855,
          -5.031523382874681,
          -6.356871419059258,
          -6.271515444626336,
          -5.301089815433764,
          -6.636765239703415,
          -5.095501885358272,
          -4.063608385397223,
          -4.699682186367901,
          -5.395470372707055,
          -6.511426424005452,
          -4.832179368857828,
          -5.494859816551801,
          -6.503523216798913,
          -5.218615030783523,
          -5.407041671332324,
          -7.322649262315822,
          -4.8822061854282355,
          -6.255945482884468,
          -5.044503424701632,
          -5.4857795690699485,
          -6.151126969346693,
          -3.613703022745349,
          -2.866917980297912,
          -5.73498977300104,
          -6.614759927341307,
          -5.708184815487288,
          -3.899299257363268,
          -5.306374550334637,
          -5.698523603243503,
          -7.022376317453108,
          -6.654170118827715,
          -5.536079105521047,
          -6.453259503606104,
          -5.781280674952356,
          -5.376713215640634,
          -4.667497383237698,
          -6.244347140626535,
          -5.266047583469604,
          -5.1307619191779805,
          -5.733152249871608,
          -5.45333392488668,
          -5.558937595349885,
          -5.4529284401694795,
          -3.9239560251081973,
          -6.414627885662111,
          -7.01694229874834,
          -6.542874389060835,
          -7.2592876386924505,
          -5.977625551841311,
          -4.2946991396010565,
          -5.796244110352501,
          -6.220775857159116,
          -6.253641325442943,
          -5.8216482557764175,
          -5.390465131619138,
          -5.015550148619314,
          -7.6396506021755295,
          -2.764166912659162,
          -5.96633773343974,
          -5.981248070273729,
          -5.393478590858451,
          -4.854980191810044,
          -4.335383406543671,
          -2.397770759525664,
          -5.788096510089358,
          -3.1378782462484947,
          -6.953849591632624,
          -5.693634219036003,
          -6.271441511514778,
          -4.320960262484362,
          -6.373177026655509,
          -7.499756841083111,
          -6.271789874088139,
          -3.5588881491958526,
          -5.042579628131849,
          -5.238652766640059,
          -1.2496420079354165,
          -5.911934842444417,
          -3.547568194089928,
          -4.182845465441973,
          -5.039879157640462,
          -5.86985545151723,
          -5.44933599980474,
          -6.214608291738498,
          -6.018126376076667,
          -4.990208173418907,
          -4.719055220915465,
          -5.557881832634223,
          -5.934407123986872,
          -4.909348846548452,
          -5.836806380501943,
          -6.008827971294615,
          -5.295638771243313,
          -5.8633704112986536,
          -4.397933311331378,
          -6.166022363726419,
          -5.496891306143758,
          -5.7445852688662065,
          -4.864703624544494,
          -5.632695704664419,
          -6.287504516661318,
          -5.160288710031859,
          -6.777339604813331,
          -7.102387883779089,
          -5.5074618297508,
          -5.5143557669218435,
          -3.4485322372856553,
          -5.0166953156800185,
          -5.746634287113833,
          -6.904334093677257,
          -4.962466571806547,
          -6.344690827493539,
          -4.671130110985284,
          -5.496140978945951,
          -4.150183997178011,
          -5.457876000454395,
          -6.4885780602501715,
          -6.495705433268844,
          -5.705349796766032,
          -7.414623419716265,
          -5.644372864389957,
          -5.712555675051258,
          -4.067342754505315,
          -5.253285625518339,
          -5.798799378112703,
          -5.733978468227668,
          -6.597147498704943,
          -5.7729217955749625,
          -5.36888841132716,
          -7.209339976083665,
          -7.6489253966690995,
          -5.522404939577178,
          -5.362152444109538,
          -5.319221889390091,
          -5.1880642961031525,
          -6.451431158805456,
          -6.1314928823861505,
          -1.8985029931276782,
          -5.769393499153607,
          -6.629934441677061,
          -6.667254009592823,
          -5.19468951697353,
          -4.46715470068345,
          -6.458378396420356,
          -5.425934403521929,
          -4.894303996290788,
          -4.73354096341724,
          -6.238313741880297,
          -6.994591144729318,
          -5.467818043105423,
          -3.51266324501692,
          -7.217586636186988,
          -7.17922666202083,
          -5.545882739313094,
          -5.083347727664893,
          -6.798344296074223,
          -5.929193508461515,
          -6.916887574732038,
          -6.6593077915583665,
          -4.684478301683066,
          -5.437537623977543,
          -2.859135099346864,
          -6.087905996460912,
          -7.491049335874898,
          -5.336347825252488,
          -6.742490980783854,
          -5.845328815215242,
          -5.460578935477203,
          -7.08420915159962,
          -6.86070301534621,
          -5.018955131692817,
          -5.654486263527622,
          -3.4457019809324594,
          -2.9701380896773744,
          -5.878025009217956,
          -6.7674925222833355,
          -5.332160841579444,
          -6.5163167607889765,
          -6.751333840037823,
          -6.160506848594376,
          -4.426851956538432,
          -5.3421813893332235,
          -6.489812111974096,
          -5.241411603814689,
          -5.945893962947698,
          -6.540577745360549,
          -5.292026177048464,
          -5.520704902714788,
          -6.086130754286454,
          -4.930911423277986,
          -5.553679785755698,
          -5.9652514551581675,
          -5.976531933889106,
          -5.06057984769332,
          -6.15578208505182,
          -4.63303047743876,
          -5.9106708739392,
          -5.48116789097988,
          -5.328516608292272,
          -6.938689735419262,
          -5.5553280335008886,
          -6.576776821179952,
          -3.4209094275235468,
          -5.467354727189732,
          -5.265005114058634,
          -6.525799171770893,
          -6.477927853330316,
          -3.5941559901327507,
          -4.453382705687406,
          -4.828080936210897,
          -6.840166392964615,
          -5.758442651837535,
          -6.093442137388298,
          -4.91332483138319,
          -6.8025185365703935,
          -6.181682001323118,
          -4.450711834269316,
          -5.851731368337389,
          -5.984683892965631,
          -5.871752080800973,
          -4.809399730803573,
          -6.058289215831177,
          -5.336526940774313,
          -5.596786856717092,
          -5.659244599278536,
          -6.541458601309273,
          -6.387991658476781,
          -4.846010596463677,
          -6.523784354589636,
          -5.428411748152054,
          -7.000056372885948,
          -6.087551100580183,
          -6.205761161344861,
          -6.241260767581523,
          -5.225644974697572,
          -5.494388401578459,
          -5.963826839065307,
          -5.937505743651897,
          -5.307212078857751,
          -6.513920744447388,
          -5.784974845248303,
          -5.839229220703481,
          -6.172152375465933,
          -5.662600874798408,
          -6.002475750097584,
          -5.423300735108219,
          -6.500298122397381,
          -5.250726244796575,
          -5.608708089037955,
          -5.800866591328298,
          -6.673381222791879,
          -5.369158485044185,
          -5.091466239282343,
          -5.319938167548906,
          -5.813110455202718,
          -5.244979083043491,
          -6.059417732215302,
          -6.104869010495959,
          -2.9483770517900894,
          -6.880000069246172,
          -7.67786027346261,
          -5.941646811546139,
          -6.086052816310029,
          -5.878878578757247,
          -6.1872354950127475,
          -5.452150799982468,
          -2.8010885658129228,
          -6.231998444671856,
          -5.22016088610716,
          -5.711511317199349,
          -5.606055609662212,
          -5.350448023074029,
          -4.39822082928221,
          -4.556561233216379,
          -3.8862190557111536,
          -6.128725502129718,
          -5.672495876967617,
          -5.767667477691553,
          -4.092821253002781,
          -6.032509017649625,
          -6.414666843290422,
          -6.674583896687556,
          -6.963354618971129,
          -5.799409982611209,
          -6.340579200308647,
          -5.134560395403646,
          -6.0059544780116045,
          -5.863395540465715,
          -1.9289624494929831,
          -6.309393984191089,
          -5.868849313383095,
          -5.825382713544372,
          -5.156898148379512,
          -6.400502495029299,
          -5.549268254902694,
          -5.371788853508695,
          -5.91159972688035,
          -6.747067073435391,
          -5.004480263976472,
          -5.1655407634263435,
          -5.747772347058764,
          -6.397265530878017,
          -6.5070547583045,
          -5.990737048288967,
          -5.790643076178344,
          -5.380870578331104,
          -5.299366529149074,
          -6.401076708850298,
          -6.0933267914536,
          -6.300553983424457,
          -5.633842023191535,
          -7.170938177887041,
          -6.100425415381297,
          -5.316711194836195,
          -3.3940183560443367,
          -6.33937538489241,
          -7.354540490471843,
          -4.688481351071057,
          -4.930093626280946,
          -5.907974878093839,
          -6.15696771596469,
          -6.702062625877001,
          -6.5194018385803325,
          -5.717646782357888,
          -5.961224876670439,
          -5.6572878987660085,
          -6.461967776283466,
          -4.89113951789588,
          -4.602149175520222,
          -5.882890724802727,
          -4.819912353096834,
          -6.007424929594887,
          -5.009788181138454,
          -6.600794929418178,
          -4.9759756377717475,
          -7.143305974797902,
          -4.467060191308771,
          -6.856935740928384,
          -2.150749350795742,
          -7.518626124815768,
          -4.276393794157059,
          -6.165857405999969,
          -6.772094915896955,
          -5.645616362394078,
          -5.632659928172581,
          -5.550686119592585,
          -4.9800819875576385,
          -3.8172236522607514,
          -4.684919046701003,
          -4.63977623408603,
          -4.109197209053974,
          -5.31698919655268,
          -5.9496816499877285,
          -4.967906416840571,
          -5.5648698350078805,
          -6.427129647470675,
          -5.798276246457636,
          -7.447778662914289,
          -5.694878961166593,
          -5.973734006926544,
          -5.594444106366011,
          -6.606844783995298,
          -5.5380944562102465,
          -5.415346877361992,
          -5.13313191817211,
          -5.763029816232398,
          -3.1705068264912826,
          -6.370704270320258,
          -4.443408828560866,
          -6.271552416219872,
          -5.338179960030675,
          -6.8595000021536405,
          -5.658348603027838,
          -4.394915081318986,
          -5.890650955545166,
          -5.5293112132300575,
          -3.7425469727751954,
          -6.186901040794751,
          -5.063484174745216,
          -5.271095615258799,
          -7.256441965763478,
          -5.747574403414408,
          -6.292498363859858,
          -6.549490108348908,
          -5.745662115865423,
          -5.0006998114130825,
          -5.880281322814917,
          -6.362181782887631,
          -4.076261834212266,
          -5.591755772211975,
          -5.682688976624367,
          -4.423396096217363,
          -6.1122484200156855,
          -5.838029472041261,
          -5.664114076572678,
          -4.50798228744697,
          -5.945489771978399,
          -6.154395990309602,
          -6.657711181554148,
          -4.964381261016886,
          -5.245135232540231,
          -5.409612389690166,
          -5.54636073021321,
          -6.342721704778688,
          -5.961862918936314,
          -5.870657275009829,
          -5.024563319308698,
          -4.95904656992012,
          -6.413415549664095,
          -5.577558500823683,
          -5.279953152711868,
          -6.164190410412406,
          -6.0663176650573485,
          -5.47326588868089,
          -5.823681169389466,
          -6.259322370588454,
          -5.718937927422933,
          -6.734867852079424,
          -3.8156725519548975,
          -4.833424460170877,
          -6.350163223268735,
          -5.707877774526731,
          -5.765362126109934,
          -5.044115199207983,
          -6.782829796811827,
          -6.4291101379103335,
          -4.937716523012651,
          -5.6318026482115755,
          -4.686765852730585,
          -5.55016913561595,
          -5.943819900775043,
          -7.059579758906849,
          -6.082930549757103,
          -2.624572396788628,
          -5.1831594399474,
          -2.399022680767486,
          -5.005584116585486,
          -5.412219901898413,
          -5.398134616740211,
          -5.6437896122388365,
          -6.314784300729929,
          -5.932501316827901,
          -7.007881924657809,
          -6.147752737522313,
          -5.322522586471098,
          -3.984615321989249,
          -5.832442076829405,
          -6.066150881304242,
          -5.083001470123098,
          -4.563544266712054,
          -6.185370189443764,
          -5.624970300046941,
          -4.626981741183953,
          -6.304924703880571,
          -2.3941457668398805,
          -2.0368286913583136,
          -5.685183601844785,
          -4.678367399785474,
          -5.82983345363555,
          -3.847602599491631,
          -5.177301838355475,
          -6.323070286493165,
          -4.894957897699189,
          -5.111550923869979,
          -6.435383196168336,
          -4.178071369746516,
          -5.425285982150094,
          -6.14712715584535,
          -5.003944016421876,
          -5.95071218274388,
          -2.814661377532179,
          -5.513151221502052,
          -5.8741182437879775,
          -6.161212122490782,
          -6.224006235928209,
          -7.4196715312360455,
          -6.2864519347174745,
          -5.218399341199264,
          -4.1138389505952455,
          -6.25375865161855,
          -5.69447009836884,
          -4.902420212486191,
          -4.166336265268504,
          -5.580568353291654,
          -6.63255582132334,
          -5.500730274714251,
          -3.3740656438159844,
          -5.871916584492738,
          -6.955182466494294,
          -5.803829947225703,
          -5.963308754882408,
          -6.241691338761124,
          -5.98625617205348,
          -3.0703009671242976,
          -5.885494672862334,
          -4.830518076868972,
          -5.468879350871985,
          -7.179519729465446,
          -5.640331601426594,
          -6.213316573052796,
          -6.5515455886789935,
          -4.565573621267428,
          -6.129570699203333,
          -6.690019692457019,
          -5.445881826468561,
          -4.478098837167216,
          -4.927074931871546,
          -6.8380816614639075,
          -7.001507065329298,
          -4.9288825388627275,
          -5.07157938764531,
          -4.849061604539915,
          -6.167442706926899,
          -7.276167712531473,
          -6.5097511118098765,
          -7.240380875719393,
          -5.0729422194858005,
          -5.1918320078993725,
          -4.978275410308867,
          -6.04715300229602,
          -6.084897347673764,
          -3.6528792792162004,
          -5.083130893712299,
          -5.4865277210539665,
          -6.39021834943904,
          -6.493844898279303,
          -3.823483977230163,
          -4.084667842202867,
          -6.799856885124751,
          -6.824836330262398,
          -4.7336865456329065,
          -5.360646801501522,
          -5.680411215302735,
          -5.1947553489521665,
          -6.698407729474885,
          -5.116651449055097,
          -5.522658792815315,
          -7.0913908228196645,
          -6.151906731317989,
          -5.974790971830897,
          -4.37860420808052,
          -2.9766788985073096,
          -4.925325269790036,
          -5.917541885802721,
          -5.550284665005499,
          -5.7890584722042036,
          -5.858574453703075,
          -5.229491176090518,
          -7.542656679668256,
          -5.95520297254084,
          -7.535772211672054,
          -6.46897622506248,
          -6.682622512868531,
          -5.43017866775993,
          -6.071019833932776,
          -7.357826695136224,
          -6.042046163419226,
          -6.130454160688909,
          -5.855299922051883,
          -7.071507857918992,
          -3.3185455431182644,
          -4.522800308073611,
          -6.039963148010683,
          -4.343693142704173,
          -6.719938067771402,
          -5.219789892826733,
          -6.5272628965133626,
          -5.722730714794154,
          -4.094046526001026,
          -1.9194245964639616,
          -5.125383763477298,
          -5.442463226664973,
          -4.584829620121488,
          -5.078229715382305,
          -6.100573769613248,
          -4.182555113118183,
          -5.447462444419066,
          -4.96497639582878,
          -5.9062382632863795,
          -6.696354530964395,
          -5.901714961072308,
          -6.264801259256532,
          -5.4047079729781045,
          -5.651479414102492,
          -4.826693544476634,
          -6.49058996188129,
          -4.264674369702419,
          -5.107774061541319,
          -4.873845913310605,
          -7.144894607026836,
          -6.123770000622991,
          -2.4158624441693424,
          -5.985076839083031,
          -1.9831499621696154,
          -6.123566706726144,
          -5.872522060495453,
          -5.130478298712373,
          -4.757306869013071,
          -5.6412470881746115,
          -6.0060901632903185,
          -5.469471447028453,
          -6.568392781163639,
          -6.611819112546352,
          -5.336664087165004,
          -5.862601661842793,
          -5.297924332195077,
          -3.8980072622809256,
          -6.271492712989575,
          -5.449833107919007,
          -5.118680507294377,
          -6.2097773108950305,
          -4.809950919539226,
          -5.708720477631752,
          -6.249262240373062,
          -6.022862536594717,
          -5.908861814159094,
          -5.6431340658969145,
          -2.86144215319758,
          -6.837311546537279,
          -8.863573656265226,
          -3.9988844255277702,
          -5.447973666241883,
          -5.384474373201251,
          -5.175730882679767,
          -5.9902443840975454,
          -5.984709697393023,
          -3.5261770582191367,
          -6.363495949802723,
          -5.898738689686776,
          -6.077573000191991,
          -5.185130297710599,
          -2.781218690774002,
          -4.39115670815387,
          -6.91360923002474,
          -5.3148945612612195,
          -5.918815185702019,
          -4.023671344487305,
          -5.509705131600538,
          -4.909395357544697,
          -6.82625406850516,
          -5.123282557287931,
          -5.655202765164486,
          -6.006287378630696,
          -5.352617372245899,
          -5.859587659052883,
          -5.844538377157242,
          -4.840781954353021,
          -7.1362605031508295,
          -5.86756368383827,
          -3.345901869914674,
          -6.805488324753936,
          -5.466150487915138,
          -5.669391532037106,
          -6.020795485751756,
          -7.144039989887082,
          -5.614842172781991,
          -6.603319156430424,
          -6.474792417483462,
          -7.017095533911968,
          -4.819189377046858,
          -5.314852978216074,
          -3.5475252425558623,
          -5.782988053536469,
          -5.734864033584205,
          -5.227035090629379,
          -5.616760431630352,
          -7.474780227952861,
          -4.611223773681182,
          -6.182404099129885,
          -5.707600287236474,
          -4.953948170292417,
          -6.503976719802971,
          -6.438435472314736,
          -5.209802512486563,
          -5.5708187238271965,
          -4.574525836807405,
          -5.98923707280984,
          -5.648287291530493,
          -6.862174941910174,
          -5.625408977429754,
          -3.36007057802643,
          -2.986676067166749,
          -6.700092804338265,
          -5.960236395040606,
          -5.251631527887164,
          -3.192213172131808,
          -6.006484483129072,
          -6.407534625915898,
          -5.117394304164586,
          -5.627553332191247,
          -4.329138497218035,
          -4.889696297233327,
          -5.273906031428003,
          -6.373575533828219,
          -5.438211958265483,
          -5.922209423717302,
          -6.92404725166272,
          -5.420048455175486,
          -4.866911079809823,
          -6.936906053481523,
          -7.9018452228677125,
          -6.310376560152675,
          -6.427069861914207,
          -5.682746281262027,
          -7.164432771783822,
          -6.123964716006313,
          -5.6330666045636715,
          -5.223372590015093,
          -3.8559817793381197,
          -3.1614839835795676,
          -6.383902249969933,
          -6.966485939132096,
          -3.450636790400943,
          -5.487618035228323,
          -6.182235061199211,
          -6.476199408944645,
          -5.643973357945236,
          -3.7219050293754314,
          -5.757012160591099,
          -5.578492713534268,
          -6.089497709430606,
          -5.713410533572043,
          -6.059215250670987,
          -5.9635394424322525,
          -7.3829977989502105,
          -5.047527875923821,
          -5.1131266125522234,
          -5.4816260385111955,
          -5.881196543458228,
          -6.039477992352215,
          -5.456999743548313,
          -5.427869552334758,
          -5.847834240832991,
          -2.657603360074759,
          -5.886397458335207,
          -4.993821203030978,
          -4.622327363377382,
          -6.080664387713746,
          -4.678128075042037,
          -5.4729792708316864,
          -2.786831796528229,
          -5.868259252860901,
          -5.970439720957291,
          -3.3985590612179863,
          -5.930686410953429,
          -5.905060671120906,
          -6.326184636477837,
          -2.2457459395567674,
          -5.465898970645903,
          -4.714202241126041,
          -3.2481693427520977,
          -6.289201382166867,
          -5.348327992827875,
          -7.0263962657142045,
          -5.345841901747274,
          -5.869194804582734,
          -4.5393060249493296,
          -7.070621577961423,
          -5.111254262461784,
          -2.8285538506128716,
          -5.626952993676281,
          -5.74775301428925,
          -6.3882214720030115,
          -6.008490033712239,
          -6.37328487851655,
          -5.705939753962704,
          -6.589303488619757,
          -5.68634199964509,
          -6.25544939620737,
          -4.0883858240808255,
          -4.780971038739503,
          -3.788876871341001,
          -6.64953415183845,
          -5.884190242282553,
          -6.5914870938753065,
          -5.421021134753048,
          -5.997708980586138,
          -5.24799666175152,
          -5.997023251498396,
          -6.064157352605034,
          -4.980771199758035,
          -4.286227110893863,
          -4.083764844971342,
          -6.667184043176433,
          -2.9533467780500637,
          -5.831009658756545,
          -5.576177275518418,
          -6.362819168822632,
          -7.10283388438409,
          -5.6166391188331835,
          -4.775310756827378,
          -4.884533744785921,
          -4.998925144279517,
          -5.230834975889461,
          -5.627925861365175,
          -5.551860078496005,
          -4.680130749622062,
          -5.162887069967844,
          -6.212505348510252,
          -4.217731956332833,
          -6.0348487175656,
          -5.871878021415996,
          -6.5792703489779525,
          -4.712599052901488,
          -6.635589486517851,
          -5.848395706917898,
          -6.245162397839719,
          -5.398144650883786,
          -6.222110219747831,
          -4.430647599701971,
          -6.343617554341852,
          -5.852104084427641,
          -4.4721978617054114,
          -4.6408101146359595,
          -5.045177765358626,
          -5.5655620862539825,
          -6.632628783508117,
          -5.59155995463748,
          -6.046238279822929,
          -4.41136915741095,
          -5.256958130854268,
          -6.732786042727726,
          -5.110487720480471,
          -7.046944876278826,
          -5.784310114576364,
          -5.273078381072108,
          -2.8541944819971223,
          -4.2939880085511835,
          -6.081908661386029,
          -5.985801899532259,
          -6.944416193868369,
          -5.627920566238191,
          -5.655357081394391,
          -3.949541870494846,
          -6.074589648000391,
          -2.709057810048073,
          -5.564028394096747,
          -4.159669840824448,
          -6.476682168535821,
          -4.311324706312649,
          -6.126059919566256,
          -5.499092055082138,
          -4.791259916036152,
          -5.564441633387257,
          -3.99409757336714,
          -4.354805191611873,
          -4.5346885478659615,
          -4.759825935710177,
          -6.41015974998436,
          -5.78400239112317,
          -5.630050545840515,
          -6.107573756597515,
          -4.407987512128947,
          -5.021818290657978,
          -5.723255175639744,
          -6.46533147352736,
          -6.111504115042009,
          -5.819520319503923,
          -2.959707793325695,
          -5.237945383567831,
          -6.482914264547614,
          -5.498582436418689,
          -6.602167869378247,
          -7.580421541758881,
          -5.381968947131111,
          -3.9612546286598147,
          -7.160531740741537,
          -3.818672449766443,
          -4.812271143634153,
          -6.717581555022396
         ]
        },
        {
         "name": "φ = 0.9",
         "nbinsx": 20,
         "opacity": 0.7,
         "type": "histogram",
         "x": [
          -1.543682143356729,
          -2.504127543135797,
          -3.1600959895307676,
          -2.9422708866517633,
          -1.6049320105171714,
          -2.6996356824491676,
          -3.081039881795617,
          -2.2674819485727764,
          -2.24906350997303,
          -3.782347034882246,
          -3.5061423169681745,
          -2.9794500280443197,
          -2.3032969842065625,
          -1.0621312206303195,
          -3.8907124538675246,
          -2.5554954497925157,
          -2.479520087801898,
          -1.4704345766394997,
          -2.1280895271994433,
          -2.8133277125317724,
          -2.112136380172818,
          -2.743547987520207,
          -3.620479949724916,
          -2.286352662998884,
          -3.0825345447506263,
          -1.413255328116905,
          -2.280267769881147,
          -2.495762288813745,
          -2.2674474533580584,
          -2.082676189559829,
          -1.996990916646882,
          -2.1134617993208646,
          -2.0709165340631506,
          -2.4597539905770733,
          -2.190451966381543,
          -2.325289997011547,
          -1.9646345881680536,
          -2.897062915222978,
          -4.180658744478999,
          -5.705006948843916,
          -2.0172672357621573,
          -3.020460906808357,
          -2.286376958999602,
          -2.671305898104017,
          -2.7524444168223163,
          -3.0587412308571826,
          -1.7083393485945377,
          -2.888842346714906,
          -2.959579348672167,
          -2.622347799232443,
          -2.7874180976329344,
          -2.8197589799806795,
          -2.6083015427961675,
          -3.1486833016159537,
          -3.1633544602354706,
          -0.36863563933048554,
          -2.9369659090467404,
          -3.775441797427384,
          -3.566867274329633,
          -2.7076651543022416,
          -3.2155766427162105,
          -2.959459071888062,
          -1.0360089816053115,
          -1.145907742767501,
          -2.9463300994441144,
          -4.778450354719039,
          -2.981978418887378,
          -4.599711373852938,
          -2.520263625921091,
          -2.2699093122412135,
          -1.3693490053524016,
          -2.086933074114972,
          -2.3187125413998135,
          -2.798944551219173,
          -3.197384850570563,
          -2.714485114874805,
          -2.582489352122592,
          -2.1535861866464736,
          -3.637162781574199,
          -3.3384352404510462,
          -2.581987182962862,
          -2.3157357533740015,
          -5.05361006235387,
          -3.1821292997514434,
          -2.9409667551659324,
          -3.1190776840544316,
          -3.689989809333115,
          -1.3869008491305352,
          -3.423391559125575,
          -2.0434856675711184,
          -2.5846719236776834,
          -2.148943006628774,
          -2.365382390653483,
          -2.895831680459994,
          -1.7636817945323118,
          -2.7417126479692215,
          -2.002999918685528,
          -2.560990801670218,
          -2.542600567706728,
          -3.0198299970387357,
          -2.9238711624854656,
          -3.031806481964191,
          -2.5121705773610383,
          -3.0237993702744888,
          -2.011069747785896,
          -2.5398602157072077,
          -1.969773435832164,
          -3.1884656926075023,
          -2.113786228043923,
          -2.407542444850984,
          -2.5591422327603963,
          -2.7211809788553842,
          -2.972736348310386,
          -3.4764879144531675,
          -4.313383584967803,
          -2.414420620587407,
          -2.87587230972595,
          -1.2430440470555584,
          -2.752754251472174,
          -2.462924222424473,
          -2.0547050176982333,
          -2.9589486009477657,
          -2.4740172774170386,
          -1.5715259179519763,
          -2.674361571617441,
          -2.245411853158531,
          -2.7129734957000267,
          -2.4152337772885915,
          -2.548460884066122,
          -1.5600595735992582,
          -2.2699397603795877,
          -2.6937117350347286,
          -2.911789776379566,
          -2.3846052777858127,
          -3.191005198747531,
          -3.052827650546919,
          -3.17149872138873,
          -2.848398827914723,
          -3.1399925832788296,
          -2.127763384835879,
          -3.1260796249879137,
          -2.1967261300684773,
          -3.0075713911014317,
          -2.272136459237925,
          -2.819622440756073,
          -2.8173838745294386,
          -2.6679566384814564,
          -2.462822361805345,
          -1.0987803477772629,
          -2.1994694657582765,
          -2.4143450138815417,
          -2.5787687729648927,
          -3.7788563243285096,
          -2.3906014602527317,
          -2.877507750493471,
          -3.8673319314442214,
          -1.6865303141115395,
          -2.2488851269600345,
          -2.245167029012442,
          -1.336957383519531,
          -2.023946985526953,
          -3.272279342740039,
          -2.2186338967331003,
          -1.2353190476532043,
          -2.83853123977101,
          -1.8592575077614741,
          -2.0752037558061804,
          -2.3865031573151496,
          -2.79529135246932,
          -2.617599617614911,
          -2.029066917674087,
          -2.611174178609875,
          -2.197378610080275,
          -2.809677557766557,
          -2.699735719282277,
          -1.9286910525522953,
          -1.696108114877315,
          -2.939091994935111,
          -3.077019243919612,
          -2.311621252238753,
          -3.5473918128151625,
          -4.443046382419881,
          -2.315765313849239,
          -2.668210856917469,
          -2.0023864628751644,
          -2.130975547456167,
          -1.9290212913381581,
          -2.911151964958994,
          -2.065874300648248,
          -2.7278137099818243,
          -2.764088558477642,
          -2.833184753915672,
          -2.1712180632174767,
          -3.1675622222784865,
          -4.171558683598006,
          -2.861864273333554,
          -2.4315849782161596,
          -3.092535055356016,
          -2.588439311038394,
          -3.0346840903508205,
          -0.6359881989456224,
          -2.516309919168905,
          -1.6737873661124094,
          -2.351506774761261,
          -2.3734176698933274,
          -2.0190920611852947,
          -2.6487535691558923,
          -2.2609993257573744,
          -2.856833185183955,
          -2.283634575607372,
          -2.545253407890729,
          -3.1865500894608556,
          -2.700312507958424,
          -2.2332611506703497,
          -3.3983044377962255,
          -3.0476359689082124,
          -4.30504493907784,
          -2.918672491485637,
          -4.5529132502554175,
          -2.9747661086917834,
          -2.606087769411373,
          -3.1427542170614013,
          -2.060991960392113,
          -1.931977888094064,
          -2.746598519263348,
          -2.1630797208532466,
          -2.8205433222103324,
          -1.7140565463828294,
          -2.800248394450836,
          -2.4800851153574013,
          -2.6932014670924525,
          -2.504710748011276,
          -3.1244345577956865,
          -2.3538206535933774,
          -2.342812271078877,
          -3.661344289065571,
          -2.728367805787644,
          -3.531174965808912,
          -2.252736883955437,
          -3.5632684967281505,
          -3.096875121290905,
          -3.8210317598068295,
          -3.5616338943935646,
          -2.910523130695937,
          -1.5988753202115773,
          -3.091546558610438,
          -3.3100940981044813,
          -2.7856857529285843,
          -2.057455044144196,
          -1.97576824801875,
          -1.9827660981413051,
          -3.2026925812303424,
          -2.5921264270081354,
          -1.8094612969348938,
          -2.6360398432905967,
          -4.0423581736641205,
          -2.3901671712953068,
          -2.2942197340529384,
          -2.896556092241491,
          -0.9747414076303782,
          -2.806775182315257,
          -2.722137939783741,
          -2.3724973583413678,
          -2.713410993504982,
          -3.0547017933274434,
          -3.0971463230082144,
          -2.1191336296137697,
          -2.029358525592014,
          -3.4246894847019793,
          -1.7247446679571594,
          -2.922065886301046,
          -2.0156026864264804,
          -1.7778589223265866,
          -2.934139542692415,
          -1.8542152565755663,
          -2.3777120839875416,
          -3.192990321184245,
          -2.976277268082801,
          -3.666501964356763,
          -3.301607989826529,
          -3.618005416036595,
          -2.195141287885597,
          -2.086963202251895,
          -1.2570093233017,
          -2.886202812895469,
          -1.6870763356428837,
          -2.947511914146619,
          -3.0101291693799594,
          -3.365290171160263,
          -2.615047821464799,
          -2.298355724946046,
          -2.6807939963303897,
          -4.26193809543482,
          -2.307071800391243,
          -2.2756633062953493,
          -3.574891455662688,
          -4.240383185079618,
          -2.38092868668626,
          -1.7121372641711512,
          -2.8311116029063608,
          -2.289164403471681,
          -3.825875358731799,
          -2.9839071877260466,
          -2.4798574460811604,
          -3.1788341772110003,
          -1.3984892355345135,
          -2.537578300371919,
          -2.0567129718520194,
          -3.480004327313375,
          -2.4512790263990425,
          -2.863762848586692,
          -2.412964400071309,
          -2.903862007381845,
          -2.198202471926568,
          -2.748831723257736,
          -3.5322901154330864,
          -3.383625476312788,
          -2.3188232821024446,
          -2.3874809213158286,
          -1.9891709103309276,
          -2.2153819967582393,
          -1.8754458869609814,
          -2.5853255494838137,
          -2.5407217755644775,
          -1.1687056365283433,
          -3.429707294919099,
          -1.8105887301890373,
          -1.6998028164256382,
          -3.3630670499618467,
          -2.423444415479918,
          -2.8603258717788913,
          -2.796040915487456,
          -2.7075423237109972,
          -2.331582628290195,
          -3.575522536053401,
          -1.7778085804291184,
          -2.36510471280604,
          -3.568721583084644,
          -2.363991492808934,
          -2.374417783209326,
          -2.523170292399139,
          -2.530864619107028,
          -1.7383749917515905,
          -2.058490788784627,
          -1.0069669523875182,
          -3.606806930827762,
          -2.5166168235905393,
          -3.986672990850333,
          -4.292091239776947,
          -2.5854098772756333,
          -1.716736732112612,
          -2.9277150007229187,
          -2.48669380366627,
          -2.438684450205587,
          -2.5148484871635035,
          -2.7337546567149604,
          -3.0723799352613104,
          -1.6777247200108816,
          -3.7072310787257288,
          -2.6632672527749643,
          -3.48260639569663,
          -0.9124230243586465,
          -2.3306297749275093,
          -2.3086499949864927,
          -3.426117106034568,
          -3.342800160262539,
          -2.285373554237696,
          -4.151195909002602,
          -3.324139942893443,
          -2.5778177639465247,
          -2.742728328635318,
          -2.754163563321967,
          -2.2321704934005706,
          -2.45498345027782,
          -3.9551512278464487,
          -3.1873455091906595,
          -0.7031481334383717,
          -2.5706839877897987,
          -2.910682619424454,
          -2.086056326478936,
          -4.177597875684272,
          -3.5308146295536806,
          -2.0329110317595895,
          -3.331889068748658,
          -3.5512080228975598,
          -4.033797867516206,
          -2.7469280180269915,
          -2.1301803234934122,
          -2.6813926173619556,
          -4.771364216112002,
          -2.5522560668526353,
          -3.6238295141145884,
          -2.6258749659475904,
          -3.0658460807291203,
          -2.6787740847821886,
          -1.9030948421548877,
          -4.097318235915235,
          -1.977636812033803,
          -2.4307812285635104,
          -1.6995576599732962,
          -2.1588332468049956,
          -2.625900307209467,
          -2.058896234053211,
          -1.759260461378899,
          -2.2349262969940433,
          -2.855979977985962,
          -2.808992559782019,
          0.7238811184324683,
          -1.3865439465027054,
          -2.484855816585546,
          -2.4871965131618925,
          -2.01523454755519,
          -1.8831819424911258,
          -3.342027729032125,
          -2.725726142541865,
          -1.8271368386517504,
          -2.562902899313739,
          -2.5959971377675206,
          -3.8287451397493077,
          -4.087442438124909,
          -1.9387912283180835,
          -2.514497030996975,
          -2.343227478817797,
          -2.9572013494479203,
          -2.8365414165420297,
          -1.6786998557820325,
          -3.134709933173751,
          -3.918197639425086,
          -2.5203581839882503,
          -2.2678072156115503,
          -3.6721789674844953,
          -3.6349849795794875,
          -2.501806464821368,
          -2.0173571143934024,
          -2.7551298587113515,
          -3.4088790330151615,
          -2.283792734005928,
          -1.972582155590535,
          -2.3757924579299843,
          -3.4390640234822505,
          -2.108507640024874,
          -3.368546396773963,
          -3.236003289896248,
          -2.0027838641112568,
          -3.6082398660399395,
          -2.820825465796191,
          -2.8163158781181123,
          -3.0647985581886896,
          -2.28626759503126,
          -2.8133181248121693,
          -2.7741943986831092,
          -3.3179290313634557,
          -1.1534855985744,
          0.4218627674031446,
          -2.819491653013367,
          -2.883634829838141,
          -2.092530227507746,
          -2.3903485651593512,
          -2.907843927946874,
          -2.7600427461755683,
          -2.4362119440166206,
          -1.942100651352507,
          -3.099400991963255,
          -1.590683445296366,
          -2.113333286099114,
          -1.4779291587503787,
          -2.8688864804019767,
          -1.6273268902401805,
          -2.9524760385797086,
          -2.63623501419642,
          -2.3151786449419736,
          -2.990830447426738,
          -2.527298221896431,
          -2.505570233829861,
          -3.060914800221218,
          -3.0235594153291525,
          -1.7948371219368733,
          -2.867833316810978,
          -3.6812187112164256,
          -2.929796212493679,
          -1.7218698547020825,
          -3.1331789274887556,
          -1.3977870882046743,
          -2.60255515811533,
          -2.243608219357056,
          -2.2528135754969507,
          -2.5397567197887296,
          -3.0501434537675256,
          -1.4827488941109845,
          -2.0853993360988543,
          -1.968584465020544,
          -3.6713713004433175,
          -3.0597558944946823,
          -2.2149098474422284,
          -2.0004874658680607,
          -2.950618477696249,
          -3.1345242276530083,
          -2.639853685481479,
          -2.6497644999951464,
          -2.5713528752711983,
          -1.9345839619452079,
          -3.1698474183714143,
          -4.307637801068812,
          -2.5639713853794683,
          -2.4611530923162777,
          -1.6426669401552374,
          -2.042134917337116,
          -2.373795552183206,
          -2.7785731231380772,
          -1.726751409768186,
          -3.2471397235326274,
          -2.7596414962699862,
          -2.5954185180651823,
          -3.027746848344736,
          -2.2909563885376905,
          -2.188376088769556,
          -2.20534419074536,
          -2.282085277270284,
          -2.3570278835256295,
          -1.7417266562042806,
          -1.72339102576883,
          -2.175411150907608,
          -2.120271064325273,
          -4.621996748916644,
          -2.486884983550199,
          -2.182222957147999,
          -2.29408543206073,
          -2.828983570088514,
          -3.533326257008644,
          -3.526999021329422,
          -3.2129051209973354,
          -2.13661854485101,
          -2.242238126905151,
          -2.169795254341584,
          -3.5605756130647297,
          -2.473860145444937,
          -3.2681773421891496,
          -1.6552251978226882,
          -2.8281823812976423,
          -2.690153662422117,
          -3.717210311384023,
          -2.7923452443375014,
          -4.149291821336956,
          -2.549881490947759,
          -2.0278680094307915,
          -2.526226060610836,
          -5.0358459008464775,
          -4.123474696109409,
          -2.9953321755723454,
          -2.8846855883726357,
          -2.600130311060095,
          -2.7721709050784242,
          -1.8265282949592734,
          -2.013969777427436,
          -3.2822139097641383,
          -2.0197715304418105,
          -2.637827316824007,
          -2.5959040377433436,
          -2.578813987220232,
          -3.1171107699881797,
          -1.6721649310635909,
          -3.631271735749402,
          -2.1574522212471012,
          -2.3077820947370062,
          -3.266289763308438,
          -2.7518803685834077,
          -2.4215029984198977,
          -2.8194114849320444,
          -2.6182302698141218,
          -2.2416433287865716,
          -3.6250015008817194,
          -3.5255934924394206,
          -2.5610610753705934,
          -2.3006529214583646,
          -2.735741696764158,
          -1.6032875577062287,
          -2.6669399059377117,
          -3.8787914655845257,
          -3.650633535118891,
          -1.5721664099415493,
          -1.5068458274395204,
          -2.8363116434213524,
          -2.3418179351405937,
          -2.2338199152123988,
          -2.5253286520913374,
          -1.8685782870256085,
          -3.779345824487486,
          -3.5444199680277797,
          -2.523253680975815,
          -3.375559211975788,
          -0.8579117814257501,
          -2.500003006413841,
          -2.111898267012894,
          -3.110019648710058,
          -2.0017622612744304,
          -2.7647760597275908,
          -2.824744882296249,
          -2.128372935105919,
          -2.173157606795884,
          -1.0852933910877092,
          -2.82660124925844,
          -1.6738501577541847,
          -1.805468473400589,
          -2.4010458497620175,
          -3.6522586409840603,
          -4.1547669081888525,
          -2.166577946624904,
          -3.449043380101963,
          -2.9632414705562486,
          -1.7647271575840553,
          -2.5440295106248714,
          -4.531631107914928,
          -2.956479261429265,
          -2.706249328088861,
          -2.3954112622521975,
          -1.7824170157511714,
          -2.440636659253661,
          -2.6714720534506653,
          -2.2566094605131934,
          -2.6809622645073063,
          -3.602200570857867,
          -1.4593102383858187,
          -4.152910158168695,
          -2.273451679580319,
          -2.3485692882163294,
          -2.53021129207335,
          -2.9556737812105425,
          -2.826703211649207,
          -0.7747552138027897,
          -2.6319276395471984,
          -2.2092435991681785,
          -2.830560884356916,
          -2.184890358280199,
          -2.472074160980365,
          -2.65790247713027,
          -2.855425442130506,
          -4.560594612516817,
          -1.3137671782011833,
          -3.2566290406033085,
          -3.5086880674715246,
          -0.8555617380469364,
          -3.847073850106446,
          -3.271786409457227,
          -2.5675517071781315,
          -3.4490036308706538,
          -3.197578020583775,
          -2.2460257569132227,
          -3.0018596217025832,
          -1.6397791193238795,
          -2.30457257796213,
          -2.684927921125869,
          -2.260493302407981,
          -2.5865167051932225,
          -3.9092219168362137,
          -3.4395096932629734,
          -0.8934472563132302,
          -1.9926034908998678,
          -3.4316731871241983,
          -3.1998344601938786,
          -2.44058166232986,
          -4.014936163659241,
          -2.040853134931866,
          -3.1588524172722092,
          -1.556796929398419,
          -2.238395002555192,
          -2.5055486018634614,
          -1.9819457613812608,
          -2.4237332087478007,
          -3.7406058155944253,
          -2.8038204924907295,
          -2.655640841537236,
          -2.4076663270865626,
          -3.3619927793736726,
          -3.2759403054293115,
          -1.6532719364585966,
          -2.9146186860449204,
          -2.668021911406121,
          -2.425413671818578,
          -2.75494249562747,
          -3.272510242147626,
          -4.632007567451421,
          -2.497853193133495,
          -2.3385438114226322,
          -2.9058811492884846,
          -3.2577070916458877,
          -3.706625709267888,
          -1.8892730132869333,
          -3.3129056817746885,
          -2.4887773368861854,
          -3.1273147029238935,
          -3.538398063097882,
          -1.272120615197812,
          -2.970624108110962,
          -3.126530185561996,
          -2.2470077021045594,
          -2.7308056741129767,
          -3.041921231229861,
          -2.2717658695567584,
          -3.0127373259529753,
          -2.409106368926085,
          -4.015958154395113,
          -2.127837229611011,
          -2.0136123935580525,
          -1.7286201506789962,
          -3.598779796774642,
          -2.995487827765257,
          -1.8598315646648171,
          -2.918187686280556,
          -2.572204375245192,
          -2.024497549628398,
          -1.9417299271058863,
          -3.5413165139225513,
          -2.3610232463433602,
          -4.215705476041243,
          -1.9368278086557273,
          -2.7057953645334027,
          -2.9487324912385255,
          -1.8570986801843044,
          -1.3938519958463478,
          -3.3231841256483574,
          -2.540950531459573,
          -2.2641478519372913,
          -3.2635246329319063,
          -2.4445178502162745,
          -2.977182346081077,
          -1.9638656857574386,
          -3.9366416482376514,
          -2.959982154725054,
          -2.181578620757399,
          -2.026419474409072,
          -2.4388157785599094,
          -2.5767111475894438,
          -1.8960620517624727,
          -2.2146112177521116,
          -4.261756633627632,
          -3.7698116613173887,
          -2.3371366864071734,
          -2.1302384975945654,
          -3.5761671504659946,
          -2.6573575115910426,
          -3.145567412818418,
          -1.5353308598077577,
          -2.938095188240754,
          -2.225043256867681,
          -2.5205396656191263,
          -3.916474102610487,
          -2.027958089454845,
          -2.1429568245289983,
          -2.453380413631927,
          -1.958259195492396,
          -1.8147345398030117,
          -2.297779953568091,
          -3.197721497317137,
          -1.3923758000130961,
          -1.9622642722732733,
          -2.267697701966378,
          -3.3073232352050455,
          -4.637119828690659,
          -2.5129220923783127,
          -2.1481411283048737,
          -1.9869928534406658,
          -3.7575176136817396,
          -3.195750925016801,
          -3.1100293925757843,
          -2.699320073861421,
          -3.099564387730212,
          -2.50156633241376,
          -2.5836277976673294,
          -3.1977696314967754,
          -2.8942286378845137,
          -2.599745357732845,
          -2.7322446431572707,
          -2.004718768228254,
          -2.5940863817333364,
          -1.65250874518035,
          -2.520838773457427,
          -3.1649194837206305,
          -2.065430447062251,
          -2.353517423001322,
          -4.488920001117347,
          -2.6142908564925285,
          -2.0453467150522537,
          -2.792023933022742,
          -3.1472003098789383,
          -2.0877783365363487,
          -2.0509249603419546,
          -3.922605793958563,
          -2.1533697201964204,
          -2.5022250564242863,
          -4.266012695206973,
          -2.9966138743592796,
          -1.5622478040171082,
          -2.6497205715809655,
          -2.1551590437837396,
          -2.8975011360633918,
          -2.2676606278859603,
          -3.1252846895796207,
          -1.9194083788067258,
          -2.4018394490125226,
          -2.9578744085395448,
          -2.1453321341996974,
          -2.3594478338488747,
          -3.00774934401188,
          -3.022307364241791,
          -2.133846395092774,
          -2.439482478964978,
          -2.026703361102103,
          -2.516860350782461,
          -2.162358248221664,
          -1.780970810334288,
          -5.162306695388404,
          -2.0467227627635376,
          -1.8952978162516898,
          -3.7175657988539745,
          -2.8990298925894207,
          -1.9818422107226477,
          -1.1925873065632273,
          -2.922400115573298,
          -2.5392655253701766,
          -2.875254674113196,
          -2.3774769606046724,
          -2.647633525236462,
          -3.2572905293017698,
          -2.4791577434714354,
          -2.1218909441225287,
          -3.06355600910316,
          -2.151886123719517,
          -3.3372742267134927,
          -3.4782098425389245,
          -2.507295631497265,
          -3.4824367768472397,
          -2.119976998021143,
          -2.541912062619745,
          -4.1289287276131015,
          -3.3007939579790944,
          -3.3684547997317904,
          -1.981099778039705,
          -1.6913611529085022,
          -2.490931442205868,
          -2.528547287669036,
          -2.73067038861563,
          -2.4925714375894517,
          -2.4303481271617526,
          -1.3141566489748389,
          -3.3921833991233794,
          -3.189993222596683,
          -3.6504841569125674,
          -1.8938862992182854,
          -2.582124471149012,
          -4.075744488127628,
          -3.223248017384297,
          -2.9372265979685963,
          -2.5159811111842725,
          -2.440046058781668,
          -2.753687791532527,
          -2.9674836861536216,
          -2.1580180525162582,
          -2.2403316315040773,
          -4.225713669038488,
          -2.913302225482038,
          -2.1897721666117915,
          -1.9393084476379352,
          -2.901169258734621,
          -3.0050455443622197,
          -2.6330575397914218,
          -2.676074137720935,
          -2.2159703058208393,
          -3.0597326373414853,
          -2.324668260428472,
          -3.1411306637300695,
          -2.473196794784226,
          -3.043064396373754,
          -2.765277182420117,
          -2.0998379942704832,
          -2.124912310208152,
          -2.509839485879567,
          -4.086444163854327,
          -1.967884086503451,
          -2.2784685619108824,
          -2.382143913510561,
          -3.4812890209776883,
          -4.18955404017674,
          -2.746656107134284,
          -3.1454942177499823,
          -2.70752489850552,
          -2.871960919266779,
          -2.447735444464604,
          -3.850489708781675,
          -3.015995307916274,
          -1.7938340871669005,
          -2.7361447518872053,
          -3.3105893548229646,
          -2.4140106655255167,
          -1.5527618908867231,
          -1.8801472701658473,
          -1.325420923668215,
          -1.7181864745619255,
          -2.540492862819172,
          -2.9639969594540716,
          -2.5852059934865785,
          -2.295927494810395,
          -2.6783598445092283,
          -2.115363476436444,
          -1.8849564968220436,
          -2.1897384416078296,
          -2.690664605067399,
          -2.4231464887490266,
          -3.0888986749620373,
          -2.6651165016976783,
          -2.7823345189556,
          -2.670503323019422,
          -2.282307041761406,
          -2.24211200884756,
          -3.208463619583998,
          -2.3332011582333414,
          -1.9790177586562663,
          -3.1085799325120482,
          -2.9593683459667757,
          -3.8684625243450963,
          -4.225510089186695,
          -4.5470624596403475,
          -1.7052590201429862,
          -0.11274573461593919,
          -3.2172806900476023,
          -1.3282387997381033,
          -2.448615367162885,
          -3.513346759872782,
          -4.1638499058997835,
          -2.6729783317473954,
          -2.528355979165274,
          -1.135588268627807,
          -1.6617684221473452,
          -3.782335745601683,
          -3.3112961838106365,
          -3.2658408778981016,
          -2.9006433214161276,
          -3.140240407476286,
          -2.5633289379686492,
          -3.654425582897278,
          -2.795313653550311,
          -3.9162456353072526,
          -0.8523362694160492,
          -1.8196422906845742,
          -2.1833811097055547,
          -3.1818467005203623,
          -2.1455906984377986,
          -2.414683252454722,
          -2.516936313908066,
          -4.018922222494454,
          -3.693170855995418,
          -1.360630715541425,
          -4.30869238220471,
          -3.3502786567043397,
          -3.07062863046406,
          -2.5208391739983576,
          -3.217137900840929,
          -3.1232765316518867,
          -2.2617681240105094,
          -2.393498780616493,
          -1.479742710331609,
          -3.3905028610861376,
          -3.4597846335234905,
          -1.8057438029895991,
          -2.9091997958640214,
          -2.621910549830347,
          -1.9745327348425936,
          -4.133944151489771,
          -2.716266434185171,
          -1.88967956531231,
          -2.008106370081496,
          -3.660619761279754,
          -0.7305655949144516,
          -2.5312719259997714,
          -2.5513731405154156,
          -2.4372546051288135,
          -3.1442859998251818,
          -2.688519085908908,
          -3.0273351481480204,
          -2.886442606764994,
          -3.223793649891915,
          -3.5010928756496877,
          -1.9297105934080225,
          -2.5554846888714127,
          -1.5434329191785228,
          -3.1605719371290086,
          -3.076849621621662,
          -3.4223638803735184,
          -2.933318732367373,
          -3.10849234591164,
          -0.9477347989104272,
          -2.60156009824685,
          -1.79605235448533,
          -1.4645267552539545,
          -2.93808971278183,
          -3.0008212228379363,
          -3.274398351093678,
          -2.835902874327268,
          -2.8563889741796538,
          -3.3603970866582498,
          -1.7341675592524046
         ]
        },
        {
         "name": "φ = 0.99",
         "nbinsx": 20,
         "opacity": 0.7,
         "type": "histogram",
         "x": [
          -2.345407803523138,
          -1.285510571763279,
          -3.338356940565135,
          -1.180433391247246,
          -0.40855606598836763,
          -1.786889040815285,
          -2.5231004178145797,
          -2.0013996614586915,
          -3.0994494375141177,
          -3.587099076031448,
          -1.0339075116713772,
          -1.5842979972080182,
          -2.894834345155913,
          -1.5635412715389503,
          -1.1545019724901966,
          0.21372581266253127,
          -1.8328172015533288,
          -0.5875822796705655,
          -1.72509253627287,
          -0.2576631091257038,
          -2.1524034269642884,
          -0.5469738075142394,
          -1.7969171131797868,
          -1.7773284686820388,
          -1.2379329988644954,
          -0.9642458610143078,
          -1.2618479810052883,
          -0.431359246735517,
          -0.6291186706430487,
          -1.101427847056757,
          -1.194771695041365,
          -1.373133948102854,
          -0.9209873435735502,
          -1.4032619163741267,
          -2.9822667883695413,
          -3.614968433828715,
          -3.381196815227208,
          -1.194472792658493,
          -0.5685246923429337,
          -0.7886853936144891,
          -2.1640124195986092,
          -0.3109739723998578,
          -1.4622516220676358,
          -3.025882358547411,
          -1.3689232109855913,
          -0.3237638506724563,
          -0.5589378594569118,
          -2.4319604355624698,
          -1.8690083640004456,
          -1.3922802003748085,
          -0.9313440434750794,
          -1.6405766274277067,
          -1.1499437435498578,
          -1.9903326499040106,
          -1.8447306374438568,
          -0.9553389489225617,
          -3.52361918487304,
          -1.3241157262679475,
          -1.3444019112068568,
          -1.4387143389941948,
          -0.5341842434172833,
          -2.0722871680619144,
          -1.7860815499068088,
          -1.873457745003799,
          0.09165129791897828,
          -1.613360360226341,
          -0.9809109409848759,
          -2.469275269630964,
          -3.0304105945675675,
          -1.6727432950028687,
          -1.339731894064169,
          -2.4985463972733104,
          -3.0311749404836625,
          -2.693309315928526,
          -2.18219267175787,
          -1.378367122990155,
          -2.4704145534234945,
          -1.4585314843830997,
          -1.0929584891382655,
          -0.3275564003925916,
          -1.6663078208261797,
          -1.681930684084541,
          -1.5388830087866974,
          -1.2065399670026167,
          -1.2534445791325233,
          -2.2417423421689975,
          -1.6308396847181275,
          -2.825873593424814,
          -2.0767906356032615,
          -1.5160834876243363,
          -1.4182194961588805,
          -1.3398434830374029,
          -3.190324861106978,
          -2.007680895178656,
          -1.8604954832884943,
          -2.214118068722355,
          -3.136094217948901,
          -1.6738714825702339,
          -1.661075763262252,
          -1.2014888528399605,
          -1.8143417463075275,
          -1.9702726760510096,
          -1.3805137245068466,
          -2.855049685998714,
          -1.6837617933639526,
          -1.5322836035640588,
          -1.8454484593554756,
          -2.2297027173478634,
          -1.4150422973095085,
          -1.1188246990091626,
          -2.1295106147748526,
          -2.3892282400427614,
          -4.30641896089701,
          -3.3432470055385344,
          -1.9582309959319928,
          -2.1313192571786903,
          -0.5482753251185883,
          -1.8576469215147124,
          -0.991754754369194,
          -2.74610911500579,
          -2.4076985877079684,
          -3.069586313698428,
          -2.040683564885497,
          -2.096341704460434,
          -1.5908710999278253,
          -1.1869644145497946,
          -1.3154776715023617,
          -1.6448281963568723,
          -1.5589331345217232,
          -1.471342443338466,
          -0.8506253000903183,
          -2.6567429281224086,
          -0.6222807919488208,
          -0.5310370255662944,
          -3.1566719736144795,
          -2.4341349546157316,
          -1.6235212508030006,
          -2.8680155515927725,
          -2.9170180769274845,
          -1.344668334152344,
          -0.6067655785746433,
          -1.484221170942441,
          -2.3384894012703095,
          -1.5855849470816457,
          -1.5304056919715745,
          -3.4513710637016075,
          -2.394047468858613,
          -2.807731244285481,
          -1.1493460681011307,
          -1.7837827501738681,
          -1.8140703398645046,
          -1.3708963122129774,
          -1.4608064709559943,
          -2.3761797039461987,
          -1.2623887049306857,
          -1.6499228396584606,
          -2.4901768923433987,
          -2.511735935841025,
          -0.8235224336386286,
          -2.333973101348495,
          -1.7955107052941854,
          -1.4437100144200925,
          -2.6005244589983496,
          -1.9523580370658815,
          -0.9313566656994676,
          -1.3086579469744342,
          -2.0130429848946094,
          -2.0806105914312756,
          -0.8013408187725913,
          -3.303753368148553,
          -0.8420240711950239,
          0.3303879996557728,
          -1.7332305446470158,
          -1.0477122188562493,
          -1.6087537259941214,
          -0.6805937485526754,
          -0.08294213217665425,
          -2.3625555335960127,
          -1.5608715891066056,
          -1.538311411292933,
          -1.6454845353196281,
          -0.878149923574618,
          -3.285038563841016,
          -1.8796116977346402,
          -2.361164369604805,
          -1.5976253510030043,
          -1.6975263197852366,
          -0.2232117875158861,
          -1.914243087137154,
          -1.4723989921091676,
          -2.5077480749122714,
          -1.519575376719958,
          -2.660014893476339,
          -1.8566060510724907,
          -1.925027088000122,
          -1.6571235665784547,
          -2.5548129849864853,
          -2.0988144471892243,
          -1.5700180766322174,
          -1.829727899739937,
          -1.2132604676857313,
          -1.2422327027693694,
          -2.6976446433479917,
          -0.7370477173539428,
          -0.9714148192746583,
          -2.2955134555981442,
          -1.3132624034024325,
          -1.4940872675443204,
          -2.4317558762608233,
          -1.4175775215685678,
          -1.9131567790482114,
          -2.9865950525689984,
          -2.1268109801750357,
          -1.1632412592558214,
          -0.49717425021931544,
          -0.6531265112403517,
          -1.2716919652024585,
          -1.44191685470725,
          -1.0797624106976333,
          -2.1689914951458915,
          -1.2074508574818825,
          0.21988949351798812,
          -1.0978774582231232,
          -1.254471636920497,
          -1.2547486632840577,
          -0.24286371442719681,
          -1.4103778141636976,
          -0.7000420682378368,
          -1.481528487415035,
          -1.6315248923982661,
          -1.9506824686959936,
          -0.710858069186543,
          -1.6697006447268687,
          -4.339611755948651,
          -1.937347884782448,
          -1.66409459320209,
          -2.1412168853965396,
          -1.1962367533542664,
          -1.5153103934966166,
          -2.247616048833209,
          -0.2966525662773859,
          -1.9715247730098124,
          -1.164414190903861,
          -0.9084377756069322,
          -0.9863080429874207,
          0.28023786431436976,
          -1.4195804688403193,
          -1.6086102327306548,
          -1.9144774134009117,
          -1.353108283917642,
          -1.8069839389998448,
          -2.1330212529177985,
          -2.1093311913654302,
          -3.0221016997703987,
          -0.6365066341066222,
          -0.4194275243408919,
          -3.7321141656273404,
          -2.661363743634869,
          -1.9079867044080805,
          -1.241183500652686,
          -2.348960987548838,
          -1.3968652293264334,
          -1.0800570591522807,
          -1.4375898804019969,
          -1.1309652571683826,
          -1.696630593263233,
          -2.4523479595931668,
          -1.9325056496443584,
          -2.161755654048705,
          -0.41369873738556207,
          -1.7747314012212039,
          -1.290413432140963,
          0.3813006759672253,
          -1.152738316229567,
          -2.960185183947564,
          -1.5613820458989978,
          -0.5118151763177938,
          -3.455209367812095,
          -1.4763754839900376,
          -1.6329046327137524,
          -3.1432932827206157,
          -1.3889914153053322,
          -2.6440100921279956,
          -2.4556403711312944,
          -1.5038784511068195,
          -2.137645560357379,
          -1.3537565319826945,
          -2.8898965187507932,
          -3.6314703173044447,
          -1.6689758576607676,
          -1.036909295211174,
          -0.9520770963052363,
          -2.019095863149196,
          -1.502275204093151,
          -2.5069607899964357,
          -1.9767539228702589,
          -2.958088847632686,
          -2.1593325527559593,
          -1.8124261795142964,
          -1.5293288890286263,
          -1.7516009035958704,
          -1.2934928482284302,
          -0.7550649828844268,
          -1.573303263980353,
          -0.11724673827312973,
          -1.9871991701125242,
          -1.5291225670404573,
          -2.7150061899539457,
          0.2563330495922456,
          -1.6786839788637589,
          -3.0737657059821606,
          -1.2238551507346647,
          -1.9693459326785665,
          -1.9829126947704787,
          -1.1460854041251771,
          -3.3179003293403766,
          -0.8890096796117617,
          -1.9788739932880957,
          -2.277445676890949,
          -3.575167335756259,
          -2.0213448266278493,
          -0.8377968511538325,
          -2.1246596515002185,
          -3.1410075185615667,
          -0.801709032748665,
          -2.5197419711872717,
          -0.522879162362782,
          -0.9587354563742813,
          -1.8222760965438867,
          1.047938778673369,
          -0.46680178069742223,
          -2.7122770074916622,
          -2.1939689923074157,
          -0.3081335905598858,
          -2.296700308900346,
          -2.017463191078034,
          -1.4542355603397363,
          -1.5320561976421072,
          -1.8861858385192003,
          -2.88003901073247,
          -1.4397726326591849,
          -1.121672853362922,
          -1.5463438166820425,
          -1.1086548128159908,
          -1.3359034142339863,
          -1.987381713885857,
          -3.493013161257961,
          -1.904821219296822,
          -0.6862900370070016,
          -1.2632150547173904,
          -1.4201054344773036,
          -3.2690756345084857,
          -0.6136159955469745,
          -2.4838827641083987,
          -1.945289064493837,
          -1.7825520511885296,
          -1.6769614091501162,
          0.028640269900909964,
          -1.6014774697739014,
          -1.467776786018388,
          -1.782596992396046,
          -1.2847179254628007,
          -2.158537878713769,
          -1.165778161223828,
          -2.6002371111162486,
          -1.9112141731066663,
          -1.7635035895200377,
          -1.5977979221257925,
          -1.6550443969156163,
          -1.6208754108066363,
          -1.4325343151435128,
          -1.4841417489130735,
          -2.2545248528858535,
          -0.7337994226636831,
          -1.512869760660023,
          -1.2728402089205368,
          -1.4793580029274427,
          -1.3039138722057766,
          -1.7732956165952487,
          -0.1912587961209011,
          -2.4532821441132473,
          -1.3777602885107236,
          -2.1285539855988365,
          -2.0746349016950925,
          -0.18803146301669552,
          -2.8793157677371273,
          -0.6088069275416967,
          -1.1368203194819624,
          -2.610411876036793,
          -1.1109078780463397,
          -0.5358435195277529,
          -1.603810512620267,
          -4.259523290910207,
          -1.8736884606911037,
          -1.701349658346365,
          -1.8440825483467667,
          -3.0277532457019007,
          -0.11474785906744062,
          -1.197701192283075,
          -0.848282569154047,
          -1.6827950649332213,
          -1.403021886524345,
          -1.4735833022235063,
          -0.4709788105529513,
          -2.4493273628002576,
          -1.6419724014153985,
          -2.439947891993333,
          -1.0408320485821185,
          -0.8445011786191124,
          -2.3242126573584985,
          -1.484332541032487,
          -2.349818633680494,
          -1.4911372851256925,
          -0.5085237935446422,
          -0.6047765926293487,
          -1.8917644287501074,
          -2.288679145350489,
          -0.029944709794352396,
          -1.7970171752406845,
          -0.4075654162827825,
          -2.844432554178806,
          -1.1777954088650588,
          -1.0812324101196087,
          -2.1360219487689065,
          -2.2966039057999463,
          -0.9413174366805884,
          -2.4286087518913426,
          -1.6858497827323975,
          -1.8675891231279211,
          -1.7840597393414033,
          -1.6255847670440777,
          -2.87577151143996,
          -0.3934694240197172,
          -2.156824086965062,
          -2.8687656971132665,
          -2.295299033539485,
          -0.6697763204839055,
          -1.9578711543790042,
          -1.9988155515354573,
          -2.89038065351481,
          -2.4121546990084424,
          -1.6473498780763576,
          -1.2248446252792997,
          -1.1324849104042518,
          -1.055173715290521,
          -0.8574683169770069,
          -3.06860444986878,
          -0.15853952809132876,
          -1.0876173707151022,
          -2.0159426715225273,
          -1.7857314292730349,
          -0.7233121229819456,
          -2.0349863778242865,
          -1.9658967928605873,
          -1.7128358047550434,
          -1.2129721955288217,
          -1.52349399721108,
          -3.2348068649703796,
          -1.6757941700692716,
          -1.42978108487672,
          -2.0302893108785818,
          -1.5310552630401373,
          -1.2744876188250018,
          -2.469071051602594,
          -2.033786247381792,
          -3.2776354562407186,
          -1.6239777763205694,
          -1.1489407981042135,
          -3.2389375814709296,
          -1.1392054065753359,
          -0.6772587110218784,
          -1.6023702413972354,
          -1.4308717141934222,
          -0.6381541739103916,
          -1.7119939730152591,
          -1.2067514950481386,
          -1.8724517543076236,
          -1.4640962266109048,
          0.02902776437752557,
          0.4779159694449924,
          -2.565313518275711,
          -1.0877769536995412,
          -2.6758345166530018,
          -0.9130727739672663,
          -1.57294218395024,
          -1.8575170486636898,
          -0.8183609099799528,
          -0.6049022039721019,
          -3.1120772123734435,
          -1.2386805622658363,
          -1.760881898171768,
          -1.2628105870820496,
          -1.8751119174395154,
          -1.7323572899700868,
          -2.1499341611008167,
          -1.1569199205951668,
          -2.6805265183041347,
          -2.211204282183205,
          -1.8442065998561636,
          -1.3921427315006627,
          -2.677273307748691,
          -2.4608273458793057,
          -1.2428902237072554,
          -2.3985608301638384,
          -2.670827166695855,
          -1.1960892811944699,
          -2.0110468823529444,
          -2.260839249614576,
          -2.241316963101907,
          -1.3880434691220545,
          -1.5920475844437776,
          -2.2980571558098815,
          -1.3327627986793584,
          -1.253394704693128,
          -2.188050214118274,
          -1.5245746188450562,
          -2.076138233855685,
          -1.7685387544308584,
          -0.9319670910468075,
          -0.43595219206959607,
          -2.583538243231123,
          -2.1985394951107504,
          -2.0386438667424764,
          -1.9361399240241206,
          -1.652564804357764,
          -2.376707853257265,
          0.38631614692050714,
          -1.4230462878784886,
          -2.8674926120199995,
          -0.83911397929934,
          -1.7348790031617356,
          -3.2144101712816826,
          -1.4070109970884856,
          -0.31636799187109055,
          -3.0386672757904187,
          -2.0804056196730003,
          -1.8917213791431295,
          -3.1858068466853338,
          -2.489403071654368,
          -2.389142739155697,
          -1.571070908931825,
          -0.9399570387997348,
          -1.3304253678707676,
          -0.8286728616984523,
          -0.9118687457864785,
          -3.4676840242433897,
          -1.6172339348017315,
          -1.2859615142476248,
          -0.9868093772106601,
          -1.8781032344272461,
          -1.8470385793130553,
          -0.10888858843242927,
          -0.932805410891322,
          -1.627056814783386,
          -0.7473746132955768,
          -2.1981500189487537,
          -1.8715833924916385,
          -2.283519246323296,
          -2.343517067147523,
          -2.9397946341882757,
          -0.5479741158972724,
          -1.37586909100186,
          -1.3593197845960936,
          -1.1822748133278438,
          -2.4117232236371513,
          -2.135627376119647,
          -4.733046166474873,
          -1.0518538562516666,
          -2.5751082418069915,
          -1.2753521320846064,
          -1.7594491559064347,
          -0.7717655641677447,
          -1.4976719580230795,
          -0.9246036560357623,
          -2.436087584930475,
          -2.9028997851703675,
          -2.839015060976995,
          -0.4837307828629419,
          -0.8018645949613846,
          -1.4773935025400513,
          -3.225065568495995,
          -0.5328527325961716,
          -0.6898005472241878,
          -1.854382800127117,
          -1.9209740121951875,
          -1.8125034510813598,
          -2.553359891623459,
          -0.5610589982081973,
          -2.0271610307316976,
          -0.9241994827370138,
          -2.128744278946336,
          -2.608422934727703,
          -2.3413392591514874,
          -1.9097398672863228,
          -0.28448578156288623,
          -2.63935425280193,
          -1.7921847935324908,
          -1.1694029353488156,
          -0.7371430670777804,
          -1.9657366525025017,
          -1.599430710743348,
          -1.079909037791015,
          -0.43267335540313845,
          -1.8245307434826448,
          -1.4230601318100307,
          -2.7617149340903007,
          -4.260834221403011,
          -1.1100820288675124,
          -1.5788355572534667,
          -0.22325841383386186,
          -1.9217887954631736,
          -2.50973876964079,
          -2.1500241470570947,
          -2.1289184066887006,
          -2.6356598771587363,
          -2.2573022462225776,
          -2.3786521908436327,
          -0.9516442268811075,
          -1.009142363027874,
          -2.2517169835356676,
          -3.471725479661483,
          -2.2569978109574778,
          -2.6420631436661024,
          -2.401420386422813,
          -1.7982546716770844,
          -2.3697626513709684,
          -1.532051004137953,
          -2.5116924604934625,
          -0.879068567745897,
          -0.5632721477388044,
          -2.143160434439503,
          -1.9707028275288219,
          -2.0472937133444806,
          -1.5639718617801126,
          -1.4906029581211522,
          -3.3932723134582967,
          -2.9071092720668585,
          -1.9086528829168106,
          -3.1410828957762456,
          -1.5775495080164401,
          -0.9427621037004268,
          -3.035189235594058,
          -1.449547497167268,
          -1.6174057316296842,
          -0.47711548986666086,
          -1.2765138578719866,
          -2.462020773005375,
          -2.103945047908313,
          -1.2476372219836718,
          -1.5866334440842045,
          -2.9124178250030948,
          -2.1086705403438306,
          -1.1836661773802175,
          -1.5715635520060225,
          -1.1173334099216106,
          -2.475627741037197,
          -0.6453521284834118,
          -2.739222191750078,
          -2.0857782021309097,
          -0.6668567878687596,
          -0.1977859725014356,
          -2.196953252786228,
          -1.0915481185786144,
          -1.6898730795870143,
          0.006597363117539855,
          -2.031526174617014,
          -0.9826690588599288,
          -2.3820012338255863,
          -2.5552889586269902,
          -1.0423036748323684,
          -0.5772523358170947,
          -2.65999572732823,
          -1.6562527581640547,
          0.17453803966141404,
          -1.7544335686730737,
          -3.0516506281189804,
          -2.2208157721367434,
          -2.1145989580124187,
          -2.301693369728954,
          -1.3045863674320581,
          -0.7572887550602962,
          -2.7671233293185726,
          -1.3707645763644754,
          -0.8931665889157021,
          -1.5727814811447005,
          -1.2530524460832146,
          -0.5448943506184912,
          -2.5084761276869227,
          -2.4005663056101123,
          -1.3865355703957798,
          -1.6277286580667083,
          -0.9033120668341049,
          -2.06057832640424,
          -1.1195176083164922,
          -1.6933730866689127,
          -2.1560105097138256,
          -1.6565206273295936,
          -1.521355752951658,
          -2.1675855335660916,
          -1.753593626661627,
          -2.265197778123487,
          -1.6709299282333487,
          -1.0939226153495416,
          -1.3906396329830062,
          -0.31164941309520594,
          -1.480400864495854,
          -0.9885376983451392,
          -2.7370400850489385,
          -2.6122125908824163,
          -2.2076488999087682,
          -2.317920823035269,
          -1.904439069608933,
          -1.7652711420856046,
          -1.2044650247570787,
          -1.0688393548851114,
          -1.1108787085418168,
          -2.310568763336604,
          -0.9622726520726592,
          -1.798332695020457,
          -0.6652016208865665,
          -0.5907384292215208,
          -1.7485959647997844,
          -1.462208419288836,
          0.18342698617631703,
          -1.515536277833191,
          -3.4251031030493677,
          -1.7679838346095818,
          -1.4907760834781378,
          -1.2318851676123426,
          -1.9707334373242644,
          -1.480043156813826,
          -0.608284156318499,
          -1.7629247541922881,
          -1.5326916421031087,
          -2.011731974015899,
          -1.6827287858672237,
          -1.1217179241869053,
          -1.220940385001465,
          -0.712927683555003,
          -1.5569822798881672,
          -2.884674285760356,
          -2.342057974533808,
          -3.1570813376277025,
          -0.4413876997480695,
          -2.0846866614981954,
          -0.41953004054541304,
          -1.4166587422883428,
          -1.444041808483994,
          -2.419724661589983,
          -2.6826903929710215,
          -2.2076580656163283,
          -2.6136773591906697,
          -1.3423695180850115,
          -1.5841007481882137,
          -1.3850936849610131,
          0.07390539882989813,
          -0.5365486416584525,
          -2.982372559528125,
          -0.19024454352230252,
          -2.3799053659536695,
          -1.6812682183934609,
          -0.1333834499382446,
          -3.635585814139885,
          -1.972505492560383,
          -2.182112556941898,
          -1.516036983999517,
          -2.4758806622879983,
          -2.2550998891231835,
          -1.7269530192725204,
          -3.5226327004135674,
          -1.8273877673881231,
          -1.8214400428350201,
          -1.851411393194486,
          -1.5092182422918046,
          -1.6048410395863515,
          -1.4087516843152033,
          -2.12386234545653,
          -2.022676074312544,
          -2.2227913454756396,
          -1.045874299483484,
          -1.17151026471905,
          -1.2224666977326741,
          -1.0612422656505982,
          -2.517692924497313,
          -2.217602446158411,
          -2.214684305989618,
          -3.5564710071083283,
          -1.7483821916872808,
          -1.3247315608215058,
          -1.9247894925514217,
          -2.5057648624350786,
          -1.2814981731449107,
          -1.4071738290557032,
          -2.4728971570957854,
          -1.4264476675634352,
          -1.0183162767137734,
          -0.8809890154748399,
          -2.0504248454274445,
          -1.9653690722560029,
          -1.445778765036287,
          -1.4770190436373962,
          -1.368394973637945,
          -1.906921484341075,
          -1.5565158604906628,
          -3.007900979575994,
          -1.17611216108471,
          -1.7422166396383734,
          -1.0142303180161238,
          -0.6721412943709267,
          -1.8611107983654835,
          -1.66068291709431,
          0.14383142592705456,
          -2.7468482907759366,
          -1.5937579761313874,
          -3.472687828140933,
          -2.3361357470889446,
          -0.7978119164904448,
          -2.1999291462605592,
          -2.428542854209418,
          -1.250488161598525,
          -2.346354514386949,
          -2.2783486834048206,
          -2.6699950554430503,
          -2.8036140789267447,
          -1.6519156552996939,
          -2.0713090067669078,
          -2.1064511237791947,
          -2.918768712605715,
          -1.785635688553157,
          -0.07273202147172717,
          -3.054150721898598,
          -0.901499348243406,
          -3.6231652001538612,
          -1.5643165966737675,
          -2.650945797910164,
          -1.1393614154117544,
          -0.9894304345315001,
          -1.9672927132416071,
          -1.7482547847855716,
          -1.5985883492004918,
          -2.7717462231928582,
          -0.690815866026355,
          -1.0380356141002096,
          -2.627823060298818,
          0.6356000369993579,
          -1.35307880010432,
          -2.047239734409657,
          -2.1606871058059243,
          -0.32564935182600696,
          -1.7368684046866376,
          -3.6868641845691648,
          -2.1131850525334284,
          -1.9255136104724253,
          -0.7547010871960681,
          -1.3488586282874038,
          -0.026044923210565594,
          -1.3998532987342212,
          -2.837554437756738,
          -2.7675902019062812,
          -2.4359249210203626,
          -2.235393567944424,
          -1.0364023751502776,
          -1.505227911382837,
          -0.8169322483555523,
          -1.3809043993060497,
          -2.0366041793864387,
          -1.082188082819209,
          -2.4552742904667153,
          -0.7388678865012006,
          -1.0002679681013182,
          -2.489864910045566,
          -2.0600085320396953,
          -2.301626065823558,
          -1.039340662796485,
          -0.8799900834386027,
          -1.4476497913453192,
          -1.1634524844213898,
          -1.3245004939602587,
          -0.8421775033800138,
          -0.11050692481275912,
          -2.5063746194408227,
          -0.6549854609442063,
          -1.2446588358588766,
          -2.8346290860535563,
          -1.0059856997542098,
          -2.8066881780847335,
          -3.371822960893603,
          -2.711285575456039,
          -2.0354196168667484,
          -1.589258614459175,
          -1.236865898178694,
          -0.4939245617933146,
          -2.3746379431429747,
          -0.8881426440727693,
          -2.005762714902125,
          -2.0343794506102673,
          -1.932936154335057,
          -2.598361856723742,
          -1.5324667523369737,
          -1.0700183217353194,
          -2.7270393609266903,
          -2.136991293436196,
          -2.5782570143683348,
          -2.314919690042919,
          -2.47094650903954,
          -1.622224250978567,
          -1.3327758670620466,
          -1.914838550196534,
          -1.434766320163714,
          -1.4400521227181995,
          -0.8866232784165162,
          -2.112869847570159,
          -1.9896196237226198,
          -1.7432633587096868,
          -1.0503291652489586,
          -1.2021329091652404,
          -2.0853600104919114,
          -1.9220940392001642,
          -3.0315494000815,
          -2.6043696619508743,
          -2.7083668856402503,
          -2.185824108774356,
          -2.332383589907448,
          -0.8823427767897646,
          -2.189854879091558,
          -0.46868521513040146,
          -2.89374198734531,
          -1.2391290707964746,
          -1.813103802363522,
          -1.2981200408967577,
          -1.4319338980641219,
          -2.405023940668423,
          -1.200094253518872,
          -0.0923103975884513,
          -1.4090511605073714,
          -1.7157723400989247,
          -1.7253164013103248,
          -3.7506033858248187,
          -2.1636404036607892,
          -2.8632371482047394,
          -1.6821888784465333,
          -1.6803458802347475,
          -1.95770079462874,
          -2.120031278646534,
          -1.5960955241617722,
          -1.84155292489095,
          -3.250244117335506,
          -1.9825272347055403,
          -0.7989833009664891,
          -3.309291664046084,
          -3.389740015239711,
          -2.805109167041832,
          -2.210153212096147,
          -3.2176458398393173,
          -2.4951794600561508,
          -1.4112014021481811,
          -1.9662003819091172,
          -1.70730671794415,
          -1.3334226821754112,
          -2.8848625571520845,
          -1.594533147707117,
          -2.0995990735874783,
          -2.1341115316890513,
          -0.6788855631990347,
          -1.8923677260761933,
          -0.8756681556583196,
          -1.130205642245524,
          -2.6424130645301984,
          -1.1283695418572854,
          -1.0051129262422784,
          -0.7236943874767885,
          0.15012192978140482,
          -3.430104113947297,
          -2.207569837576114,
          -2.4852403834541974,
          -3.6370087968615743,
          -1.923698782559558,
          -0.41926849766985286,
          -1.1536048186864216,
          -1.9527420566941058,
          -1.4570398548211903,
          -1.4210431172025462,
          -1.1669091076508558,
          -1.3376583241643023,
          -1.2952037152705913,
          -3.184642476545666,
          -1.8206730028821672,
          -0.5860649650690745,
          -1.9236733829732957,
          -1.6158064230816167,
          -1.3626392269967424,
          0.27897356625536956,
          -3.009144061154812,
          -2.782906598021644,
          -0.7077918822566817,
          -1.2528229172527057,
          -0.036520671252689825,
          -1.0674962819150113,
          -2.6590656616367703,
          -1.3562341716471376
         ]
        }
       ],
       "layout": {
        "legend": {
         "title": {
          "text": "Autoregressive Parameter (φ)"
         }
        },
        "template": {
         "data": {
          "bar": [
           {
            "error_x": {
             "color": "#2a3f5f"
            },
            "error_y": {
             "color": "#2a3f5f"
            },
            "marker": {
             "line": {
              "color": "#E5ECF6",
              "width": 0.5
             },
             "pattern": {
              "fillmode": "overlay",
              "size": 10,
              "solidity": 0.2
             }
            },
            "type": "bar"
           }
          ],
          "barpolar": [
           {
            "marker": {
             "line": {
              "color": "#E5ECF6",
              "width": 0.5
             },
             "pattern": {
              "fillmode": "overlay",
              "size": 10,
              "solidity": 0.2
             }
            },
            "type": "barpolar"
           }
          ],
          "carpet": [
           {
            "aaxis": {
             "endlinecolor": "#2a3f5f",
             "gridcolor": "white",
             "linecolor": "white",
             "minorgridcolor": "white",
             "startlinecolor": "#2a3f5f"
            },
            "baxis": {
             "endlinecolor": "#2a3f5f",
             "gridcolor": "white",
             "linecolor": "white",
             "minorgridcolor": "white",
             "startlinecolor": "#2a3f5f"
            },
            "type": "carpet"
           }
          ],
          "choropleth": [
           {
            "colorbar": {
             "outlinewidth": 0,
             "ticks": ""
            },
            "type": "choropleth"
           }
          ],
          "contour": [
           {
            "colorbar": {
             "outlinewidth": 0,
             "ticks": ""
            },
            "colorscale": [
             [
              0,
              "#0d0887"
             ],
             [
              0.1111111111111111,
              "#46039f"
             ],
             [
              0.2222222222222222,
              "#7201a8"
             ],
             [
              0.3333333333333333,
              "#9c179e"
             ],
             [
              0.4444444444444444,
              "#bd3786"
             ],
             [
              0.5555555555555556,
              "#d8576b"
             ],
             [
              0.6666666666666666,
              "#ed7953"
             ],
             [
              0.7777777777777778,
              "#fb9f3a"
             ],
             [
              0.8888888888888888,
              "#fdca26"
             ],
             [
              1,
              "#f0f921"
             ]
            ],
            "type": "contour"
           }
          ],
          "contourcarpet": [
           {
            "colorbar": {
             "outlinewidth": 0,
             "ticks": ""
            },
            "type": "contourcarpet"
           }
          ],
          "heatmap": [
           {
            "colorbar": {
             "outlinewidth": 0,
             "ticks": ""
            },
            "colorscale": [
             [
              0,
              "#0d0887"
             ],
             [
              0.1111111111111111,
              "#46039f"
             ],
             [
              0.2222222222222222,
              "#7201a8"
             ],
             [
              0.3333333333333333,
              "#9c179e"
             ],
             [
              0.4444444444444444,
              "#bd3786"
             ],
             [
              0.5555555555555556,
              "#d8576b"
             ],
             [
              0.6666666666666666,
              "#ed7953"
             ],
             [
              0.7777777777777778,
              "#fb9f3a"
             ],
             [
              0.8888888888888888,
              "#fdca26"
             ],
             [
              1,
              "#f0f921"
             ]
            ],
            "type": "heatmap"
           }
          ],
          "heatmapgl": [
           {
            "colorbar": {
             "outlinewidth": 0,
             "ticks": ""
            },
            "colorscale": [
             [
              0,
              "#0d0887"
             ],
             [
              0.1111111111111111,
              "#46039f"
             ],
             [
              0.2222222222222222,
              "#7201a8"
             ],
             [
              0.3333333333333333,
              "#9c179e"
             ],
             [
              0.4444444444444444,
              "#bd3786"
             ],
             [
              0.5555555555555556,
              "#d8576b"
             ],
             [
              0.6666666666666666,
              "#ed7953"
             ],
             [
              0.7777777777777778,
              "#fb9f3a"
             ],
             [
              0.8888888888888888,
              "#fdca26"
             ],
             [
              1,
              "#f0f921"
             ]
            ],
            "type": "heatmapgl"
           }
          ],
          "histogram": [
           {
            "marker": {
             "pattern": {
              "fillmode": "overlay",
              "size": 10,
              "solidity": 0.2
             }
            },
            "type": "histogram"
           }
          ],
          "histogram2d": [
           {
            "colorbar": {
             "outlinewidth": 0,
             "ticks": ""
            },
            "colorscale": [
             [
              0,
              "#0d0887"
             ],
             [
              0.1111111111111111,
              "#46039f"
             ],
             [
              0.2222222222222222,
              "#7201a8"
             ],
             [
              0.3333333333333333,
              "#9c179e"
             ],
             [
              0.4444444444444444,
              "#bd3786"
             ],
             [
              0.5555555555555556,
              "#d8576b"
             ],
             [
              0.6666666666666666,
              "#ed7953"
             ],
             [
              0.7777777777777778,
              "#fb9f3a"
             ],
             [
              0.8888888888888888,
              "#fdca26"
             ],
             [
              1,
              "#f0f921"
             ]
            ],
            "type": "histogram2d"
           }
          ],
          "histogram2dcontour": [
           {
            "colorbar": {
             "outlinewidth": 0,
             "ticks": ""
            },
            "colorscale": [
             [
              0,
              "#0d0887"
             ],
             [
              0.1111111111111111,
              "#46039f"
             ],
             [
              0.2222222222222222,
              "#7201a8"
             ],
             [
              0.3333333333333333,
              "#9c179e"
             ],
             [
              0.4444444444444444,
              "#bd3786"
             ],
             [
              0.5555555555555556,
              "#d8576b"
             ],
             [
              0.6666666666666666,
              "#ed7953"
             ],
             [
              0.7777777777777778,
              "#fb9f3a"
             ],
             [
              0.8888888888888888,
              "#fdca26"
             ],
             [
              1,
              "#f0f921"
             ]
            ],
            "type": "histogram2dcontour"
           }
          ],
          "mesh3d": [
           {
            "colorbar": {
             "outlinewidth": 0,
             "ticks": ""
            },
            "type": "mesh3d"
           }
          ],
          "parcoords": [
           {
            "line": {
             "colorbar": {
              "outlinewidth": 0,
              "ticks": ""
             }
            },
            "type": "parcoords"
           }
          ],
          "pie": [
           {
            "automargin": true,
            "type": "pie"
           }
          ],
          "scatter": [
           {
            "fillpattern": {
             "fillmode": "overlay",
             "size": 10,
             "solidity": 0.2
            },
            "type": "scatter"
           }
          ],
          "scatter3d": [
           {
            "line": {
             "colorbar": {
              "outlinewidth": 0,
              "ticks": ""
             }
            },
            "marker": {
             "colorbar": {
              "outlinewidth": 0,
              "ticks": ""
             }
            },
            "type": "scatter3d"
           }
          ],
          "scattercarpet": [
           {
            "marker": {
             "colorbar": {
              "outlinewidth": 0,
              "ticks": ""
             }
            },
            "type": "scattercarpet"
           }
          ],
          "scattergeo": [
           {
            "marker": {
             "colorbar": {
              "outlinewidth": 0,
              "ticks": ""
             }
            },
            "type": "scattergeo"
           }
          ],
          "scattergl": [
           {
            "marker": {
             "colorbar": {
              "outlinewidth": 0,
              "ticks": ""
             }
            },
            "type": "scattergl"
           }
          ],
          "scattermapbox": [
           {
            "marker": {
             "colorbar": {
              "outlinewidth": 0,
              "ticks": ""
             }
            },
            "type": "scattermapbox"
           }
          ],
          "scatterpolar": [
           {
            "marker": {
             "colorbar": {
              "outlinewidth": 0,
              "ticks": ""
             }
            },
            "type": "scatterpolar"
           }
          ],
          "scatterpolargl": [
           {
            "marker": {
             "colorbar": {
              "outlinewidth": 0,
              "ticks": ""
             }
            },
            "type": "scatterpolargl"
           }
          ],
          "scatterternary": [
           {
            "marker": {
             "colorbar": {
              "outlinewidth": 0,
              "ticks": ""
             }
            },
            "type": "scatterternary"
           }
          ],
          "surface": [
           {
            "colorbar": {
             "outlinewidth": 0,
             "ticks": ""
            },
            "colorscale": [
             [
              0,
              "#0d0887"
             ],
             [
              0.1111111111111111,
              "#46039f"
             ],
             [
              0.2222222222222222,
              "#7201a8"
             ],
             [
              0.3333333333333333,
              "#9c179e"
             ],
             [
              0.4444444444444444,
              "#bd3786"
             ],
             [
              0.5555555555555556,
              "#d8576b"
             ],
             [
              0.6666666666666666,
              "#ed7953"
             ],
             [
              0.7777777777777778,
              "#fb9f3a"
             ],
             [
              0.8888888888888888,
              "#fdca26"
             ],
             [
              1,
              "#f0f921"
             ]
            ],
            "type": "surface"
           }
          ],
          "table": [
           {
            "cells": {
             "fill": {
              "color": "#EBF0F8"
             },
             "line": {
              "color": "white"
             }
            },
            "header": {
             "fill": {
              "color": "#C8D4E3"
             },
             "line": {
              "color": "white"
             }
            },
            "type": "table"
           }
          ]
         },
         "layout": {
          "annotationdefaults": {
           "arrowcolor": "#2a3f5f",
           "arrowhead": 0,
           "arrowwidth": 1
          },
          "autotypenumbers": "strict",
          "coloraxis": {
           "colorbar": {
            "outlinewidth": 0,
            "ticks": ""
           }
          },
          "colorscale": {
           "diverging": [
            [
             0,
             "#8e0152"
            ],
            [
             0.1,
             "#c51b7d"
            ],
            [
             0.2,
             "#de77ae"
            ],
            [
             0.3,
             "#f1b6da"
            ],
            [
             0.4,
             "#fde0ef"
            ],
            [
             0.5,
             "#f7f7f7"
            ],
            [
             0.6,
             "#e6f5d0"
            ],
            [
             0.7,
             "#b8e186"
            ],
            [
             0.8,
             "#7fbc41"
            ],
            [
             0.9,
             "#4d9221"
            ],
            [
             1,
             "#276419"
            ]
           ],
           "sequential": [
            [
             0,
             "#0d0887"
            ],
            [
             0.1111111111111111,
             "#46039f"
            ],
            [
             0.2222222222222222,
             "#7201a8"
            ],
            [
             0.3333333333333333,
             "#9c179e"
            ],
            [
             0.4444444444444444,
             "#bd3786"
            ],
            [
             0.5555555555555556,
             "#d8576b"
            ],
            [
             0.6666666666666666,
             "#ed7953"
            ],
            [
             0.7777777777777778,
             "#fb9f3a"
            ],
            [
             0.8888888888888888,
             "#fdca26"
            ],
            [
             1,
             "#f0f921"
            ]
           ],
           "sequentialminus": [
            [
             0,
             "#0d0887"
            ],
            [
             0.1111111111111111,
             "#46039f"
            ],
            [
             0.2222222222222222,
             "#7201a8"
            ],
            [
             0.3333333333333333,
             "#9c179e"
            ],
            [
             0.4444444444444444,
             "#bd3786"
            ],
            [
             0.5555555555555556,
             "#d8576b"
            ],
            [
             0.6666666666666666,
             "#ed7953"
            ],
            [
             0.7777777777777778,
             "#fb9f3a"
            ],
            [
             0.8888888888888888,
             "#fdca26"
            ],
            [
             1,
             "#f0f921"
            ]
           ]
          },
          "colorway": [
           "#636efa",
           "#EF553B",
           "#00cc96",
           "#ab63fa",
           "#FFA15A",
           "#19d3f3",
           "#FF6692",
           "#B6E880",
           "#FF97FF",
           "#FECB52"
          ],
          "font": {
           "color": "#2a3f5f"
          },
          "geo": {
           "bgcolor": "white",
           "lakecolor": "white",
           "landcolor": "#E5ECF6",
           "showlakes": true,
           "showland": true,
           "subunitcolor": "white"
          },
          "hoverlabel": {
           "align": "left"
          },
          "hovermode": "closest",
          "mapbox": {
           "style": "light"
          },
          "paper_bgcolor": "white",
          "plot_bgcolor": "#E5ECF6",
          "polar": {
           "angularaxis": {
            "gridcolor": "white",
            "linecolor": "white",
            "ticks": ""
           },
           "bgcolor": "#E5ECF6",
           "radialaxis": {
            "gridcolor": "white",
            "linecolor": "white",
            "ticks": ""
           }
          },
          "scene": {
           "xaxis": {
            "backgroundcolor": "#E5ECF6",
            "gridcolor": "white",
            "gridwidth": 2,
            "linecolor": "white",
            "showbackground": true,
            "ticks": "",
            "zerolinecolor": "white"
           },
           "yaxis": {
            "backgroundcolor": "#E5ECF6",
            "gridcolor": "white",
            "gridwidth": 2,
            "linecolor": "white",
            "showbackground": true,
            "ticks": "",
            "zerolinecolor": "white"
           },
           "zaxis": {
            "backgroundcolor": "#E5ECF6",
            "gridcolor": "white",
            "gridwidth": 2,
            "linecolor": "white",
            "showbackground": true,
            "ticks": "",
            "zerolinecolor": "white"
           }
          },
          "shapedefaults": {
           "line": {
            "color": "#2a3f5f"
           }
          },
          "ternary": {
           "aaxis": {
            "gridcolor": "white",
            "linecolor": "white",
            "ticks": ""
           },
           "baxis": {
            "gridcolor": "white",
            "linecolor": "white",
            "ticks": ""
           },
           "bgcolor": "#E5ECF6",
           "caxis": {
            "gridcolor": "white",
            "linecolor": "white",
            "ticks": ""
           }
          },
          "title": {
           "x": 0.05
          },
          "xaxis": {
           "automargin": true,
           "gridcolor": "white",
           "linecolor": "white",
           "ticks": "",
           "title": {
            "standoff": 15
           },
           "zerolinecolor": "white",
           "zerolinewidth": 2
          },
          "yaxis": {
           "automargin": true,
           "gridcolor": "white",
           "linecolor": "white",
           "ticks": "",
           "title": {
            "standoff": 15
           },
           "zerolinecolor": "white",
           "zerolinewidth": 2
          }
         }
        },
        "title": {
         "text": "Histogram of ADF Test Statistics for AR(1) Simulations"
        },
        "xaxis": {
         "title": {
          "text": "ADF Test Statistic"
         }
        },
        "yaxis": {
         "title": {
          "text": "Frequency"
         }
        }
       }
      }
     },
     "metadata": {},
     "output_type": "display_data"
    }
   ],
   "source": [
    "# Create a histogram trace for each phi value\n",
    "hist_traces = []\n",
    "for i, phi in enumerate(phi_values):\n",
    "    hist_trace = go.Histogram(x=adf_stats[:, i], nbinsx=20, opacity=0.7, name=f'φ = {phi}')\n",
    "    hist_traces.append(hist_trace)\n",
    "\n",
    "# Create the layout\n",
    "layout = go.Layout(\n",
    "    title='Histogram of ADF Test Statistics for AR(1) Simulations',\n",
    "    xaxis=dict(title='ADF Test Statistic'),\n",
    "    yaxis=dict(title='Frequency'),\n",
    "    legend=dict(title='Autoregressive Parameter (φ)'),\n",
    ")\n",
    "\n",
    "# Create the figure and add the histogram traces\n",
    "fig = go.Figure(data=hist_traces, layout=layout)\n",
    "\n",
    "# Show the figure\n",
    "fig.show()"
   ]
  },
  {
   "attachments": {},
   "cell_type": "markdown",
   "metadata": {},
   "source": [
    "## Question 14 (4 points)"
   ]
  },
  {
   "attachments": {},
   "cell_type": "markdown",
   "metadata": {},
   "source": [
    "Repeat the simulation for a model with a random walk. \n",
    "\n",
    "Run again 1000 simulations generating data from the following DGP\n",
    "\n",
    "yt = yt−1 + εt y0 = 0\n",
    "\n",
    "εt ∼N(0,1).\n",
    "\n",
    "In each simulation draw, calculate the value of the ADF test statistic. \n",
    "\n",
    "Select the setting of the ADF test accordingly based on the knowledge of the DGP. \n",
    "\n",
    "Plot the values of the test statistics in a histogram. \n",
    "\n",
    "Compare those to the critical values. What do you conclude regarding the performance of the ADF test? \n",
    "\n",
    "Compare you findings to those of the question before."
   ]
  },
  {
   "cell_type": "code",
   "execution_count": 143,
   "metadata": {},
   "outputs": [],
   "source": [
    "n_simulations = 1000\n",
    "n_obs = 100\n",
    "adf_stats_rw = np.zeros(n_simulations)\n",
    "\n",
    "for sim in range(n_simulations):\n",
    "    # Generate the time series\n",
    "    epsilon = np.random.normal(size=n_obs)\n",
    "    y = np.zeros(n_obs)\n",
    "    for t in range(1, n_obs):\n",
    "        y[t] = y[t-1] + epsilon[t]\n",
    "        \n",
    "    # Perform the ADF test\n",
    "    adf_result = adfuller(y, regression='c')\n",
    "    adf_stats_rw[sim] = adf_result[0]"
   ]
  },
  {
   "cell_type": "code",
   "execution_count": 144,
   "metadata": {},
   "outputs": [
    {
     "data": {
      "application/vnd.plotly.v1+json": {
       "config": {
        "plotlyServerURL": "https://plot.ly"
       },
       "data": [
        {
         "nbinsx": 20,
         "opacity": 0.7,
         "type": "histogram",
         "x": [
          -1.8387189308290959,
          -0.9180218006024035,
          -1.3914291494226088,
          -1.5306236324436326,
          -1.4466555688135623,
          -1.8862912714663278,
          -2.183220026975659,
          -0.6444332763229599,
          -1.627638024272091,
          -1.6109311799513406,
          -1.785771118254221,
          -1.4226207810421414,
          -1.6107642615804927,
          -2.07910909158999,
          -1.2832665191817259,
          -1.787497019655685,
          -2.2132949386052245,
          -1.1787786552066624,
          -1.570380983660646,
          -1.3689863544222187,
          -2.9695678135077297,
          -2.112947824815283,
          -2.317544205708403,
          -1.9095268975193558,
          -1.5164733022707428,
          -1.9014145791688097,
          -1.2714659329363047,
          -1.1362991118992878,
          -1.7355058082139427,
          -1.8856003807137396,
          -1.1905279250020924,
          -2.057349328474562,
          0.2872479276315546,
          -2.092547963279541,
          -1.5105255160127307,
          -1.998762582786658,
          -2.1441424679290306,
          -2.0322929296353363,
          -1.7778950908146074,
          -1.2363188621334418,
          -1.9104366942005568,
          -1.1135555110968458,
          -1.970986619879089,
          -0.005745017772376521,
          -1.3995621215217444,
          -2.1676372530222268,
          -1.2884519459595976,
          -2.2588470908044083,
          -0.4891316779330456,
          -1.934079158770806,
          -1.4428427491269047,
          -1.5288732499347966,
          -2.380326656781731,
          -3.2007454815073872,
          -1.5541644714234593,
          -2.3873220535998487,
          -1.6281885704546968,
          -2.225238618899736,
          -2.8550170692550934,
          -2.4118799350025326,
          -2.9370752294385714,
          -1.9256836133425002,
          -1.2256011350864715,
          -1.3839150343554059,
          -0.6390155278906816,
          -2.4810017962864266,
          -1.426599760919553,
          -0.7171627776177394,
          -1.0305585386200784,
          -2.3506504748261117,
          -2.018045083811462,
          -0.8972921368997598,
          -1.0851295375741852,
          -2.524473679024959,
          -0.6114153055377884,
          -0.25274574950649,
          -3.9011342263910427,
          -1.3938030995729902,
          -1.9913573051598976,
          -3.152564192819989,
          -2.150990215975902,
          -0.27311838888524914,
          -1.089723672504235,
          -1.413761327813747,
          -2.5099933268718324,
          -1.2572250643811458,
          -0.3876506678311151,
          -1.5416399693947056,
          -1.8361162960504198,
          -0.7874225540260716,
          0.8433604752260637,
          -3.413010071269663,
          -1.5565660022466024,
          -2.1149476972597028,
          -1.0875645020268878,
          -3.504182793311511,
          -2.033627369763539,
          -2.194800941803418,
          -0.907495258055788,
          -2.59544386095937,
          -1.3964982485491193,
          -1.8493573520228697,
          -0.6614952564278548,
          -0.44064140469970275,
          -2.361125997943018,
          -1.9134164351211578,
          -1.069477255739284,
          -0.6231665101061995,
          -0.6827752879729813,
          -2.5391477579299884,
          -0.9297742133656317,
          -0.3847317984826122,
          -2.0779384252650854,
          -1.0698607253836623,
          -1.5821247065357125,
          -0.5345277741604885,
          -2.076459833152088,
          -1.9112248156887282,
          -1.7703209220725065,
          -0.6941593937911986,
          -2.4731542588390267,
          -3.4353848634294857,
          -2.752462306986325,
          -0.12738230783560206,
          -1.1011173154332812,
          -1.584755440494679,
          -0.48630258009779664,
          -1.9171908717312383,
          -1.783559704215036,
          -0.017594179446763288,
          -2.871088227904891,
          -0.24527772623804814,
          -2.6729357993389167,
          -1.169827819630275,
          -1.1557151782379707,
          -0.7963818393311854,
          -0.9380179319390853,
          -1.3453014908902665,
          -1.2236910439552053,
          -1.0859717920712246,
          -1.334981496169286,
          -0.19767794340869352,
          -1.585872103298635,
          -2.4120828050970315,
          -1.5474486394074598,
          -1.1962092046252315,
          -1.2660194600029002,
          -0.8348631540013718,
          -0.8505570876596329,
          -1.9685486542775492,
          -0.9296990514797582,
          -2.679444014578417,
          -3.7021509554969265,
          -2.255594388211667,
          -2.628819219282691,
          -1.1975622431332031,
          -0.20187538695733856,
          -2.500921860346572,
          -1.6505120274648954,
          -0.3447761545114796,
          -2.1432519299898143,
          -0.882221692941428,
          -2.691489493053306,
          -1.2933094796531777,
          -1.5103989702472187,
          -2.8934338238634068,
          -2.0764657023636253,
          -1.9109353238448992,
          -1.891474408638177,
          -2.5294473278164933,
          -3.1203527072966497,
          -0.4647838189782852,
          -1.7819526175911624,
          -1.2955320992999708,
          -2.4322079349089774,
          -3.5150013978945784,
          -1.5248781176827593,
          -1.60362391946839,
          -0.6367362454772717,
          -2.841414873418475,
          -2.0380301842789725,
          -1.5165330721144334,
          -1.3044009565555656,
          -1.2816743461411362,
          -2.209105982518787,
          -1.0149471480060057,
          -0.9542408012994797,
          -0.9260718394975684,
          -1.6462239225040944,
          -2.579933586169497,
          -1.477956013460472,
          -0.8495238124716389,
          -1.9200934715155002,
          1.3944986096157461,
          -1.9230033360268228,
          -0.3000654957052383,
          -1.593976633271174,
          -1.263999238237264,
          -2.0661360641811446,
          -2.3621057157425844,
          -0.8310376615619975,
          -2.144509350543911,
          -2.2914143626779575,
          -1.3231096494170567,
          -1.1811865492817208,
          -1.5159207230519787,
          -2.4175821120065364,
          -0.9401161864040593,
          -0.09782572849063818,
          -0.4848314732019076,
          -0.7611027632701348,
          -3.4604146754941274,
          -2.8803496081163846,
          -4.33709265043179,
          -2.3189237253208197,
          -1.5789381947524717,
          -1.0848297544769,
          -1.5776715487295463,
          -1.469905147179912,
          -1.8144602379016335,
          -2.04465818266114,
          -2.5945986200723214,
          -1.2083797749331482,
          -1.4577610325753647,
          -0.8129691013133811,
          -3.505367269563035,
          -0.30382947262044546,
          -1.6391021589468333,
          0.07387082357828853,
          -1.1114860456161129,
          -2.634015645834144,
          -2.2118902856023546,
          -0.8062799508816966,
          -1.3512867889529998,
          -2.031011374019313,
          0.848540678400234,
          -2.8406736700171433,
          -0.23862493146190544,
          0.515997582253473,
          -1.23984449179986,
          0.6983138238940582,
          -1.7453156714408478,
          -3.1940539762006854,
          -1.5613898257753913,
          -1.926025306410988,
          -1.9242554991842473,
          -1.3898774782845622,
          -2.0739381621983743,
          -2.346425542307457,
          -2.087380070009048,
          -1.5754098624412431,
          0.43672457033879286,
          -2.524463068227321,
          -0.7790075801768961,
          -3.085494602518009,
          -1.8613213101853308,
          -1.2216278116828785,
          -0.6251536688366849,
          -1.711795326673846,
          -2.0864797825207297,
          -1.9165368629143413,
          -1.8129477475631932,
          -1.2356976282777798,
          0.0005310905931791853,
          -1.717115523719394,
          -1.3408584802605419,
          -1.3424952092435407,
          -0.1335187045893257,
          -0.5605687707922744,
          -0.5546912807335942,
          -1.7862106647596403,
          -1.4844016166094582,
          -1.4796228009570096,
          -3.6359938684939603,
          -1.5211695218020738,
          0.11040959049296172,
          -1.143220292706426,
          1.0552205332247264,
          -1.5528445343462343,
          -3.6769169025469517,
          -1.75594640230972,
          0.10593268449686447,
          0.14560640154057883,
          -0.9474742995763848,
          -1.8989927054397413,
          -1.493582070884572,
          -2.912749889849885,
          -2.5538085049888695,
          -2.4470108230865164,
          -1.5654531765794006,
          -1.281967769199259,
          -0.47790753338683817,
          -0.5127781997878647,
          -1.8585297791900939,
          -2.81445448080836,
          -1.0780275188409811,
          -1.4372081262587961,
          -0.4606968117025251,
          -2.2122098032124913,
          -2.0948169085319917,
          -1.513817190401661,
          -1.0791002372136995,
          -1.3874901956040209,
          -1.2774122881816596,
          -2.487742230628011,
          0.7217446614503952,
          -1.745386073206964,
          -3.387306021975678,
          -1.2204830899805168,
          -0.06911509041022597,
          -3.0188093826847178,
          -2.352893547452084,
          -1.7593660511877547,
          -1.7937693264565469,
          -2.0188219012404436,
          -1.1478298674073624,
          -1.4191063010018214,
          -1.4505504352467478,
          -2.1944070417287658,
          -1.5282494195499083,
          -1.0289735439930106,
          -2.3623410757181897,
          -1.545694970119068,
          -0.37669774657877586,
          -0.6232316769366402,
          -2.0801167241535845,
          -1.6722547996435768,
          -1.5297152458291206,
          -0.3635555294557408,
          -1.5598899812789548,
          -2.7114209144346497,
          -1.668650131438148,
          -0.13216509301684062,
          -2.3931090838484015,
          -1.8142580216658506,
          -2.458835045895982,
          -0.6381976138610734,
          -1.4755726651844172,
          -2.3785516570231167,
          -1.8981745395991492,
          -1.65194882113218,
          -0.574865153800104,
          -1.4394978505386578,
          -1.8219620493411424,
          -1.6026558707672112,
          -1.756087972247687,
          -1.3607686557046725,
          -2.6286610235493453,
          0.8441164460284999,
          -1.5766466062126934,
          -2.1157664253057225,
          -2.3970539640922155,
          -2.2258755193472086,
          -2.5674273637111167,
          -1.2402056171941551,
          -2.3865369599480175,
          -1.340276336357968,
          -2.29769265754565,
          0.06281436310735834,
          -0.18272053164285146,
          -0.1253952501475207,
          -2.0901780798269516,
          -1.5819609596645074,
          -0.037997225673114435,
          0.21392239422867637,
          -0.9288530137589405,
          -2.8643458632889494,
          -1.5585155863154538,
          -2.070275951579222,
          -1.4744470634644353,
          -3.018909882998146,
          -1.452766215524545,
          -1.8098470053139732,
          -1.6083843654731973,
          -1.8588643490542849,
          -0.7253738644793098,
          -1.5125341912254986,
          -0.37373546218107045,
          -1.9992421074420526,
          -1.6184484477792742,
          -1.1863477860041771,
          -1.0680090132631959,
          -1.0275624858622237,
          -1.8022098206828068,
          -1.1926748875244693,
          -0.8546974780948612,
          -0.8460432026630453,
          -2.336175031082591,
          -0.22324218222501735,
          -1.5014084585796315,
          -1.010203787526348,
          -1.163614987038288,
          -1.7007910244467417,
          -1.5711940288243924,
          -1.008164835138731,
          -1.3964366390168008,
          -0.6575572360417717,
          -0.2730438088244976,
          -2.332089667689873,
          -0.8010342802070778,
          -1.0615789227897,
          -0.9714053548294608,
          -1.651250288699578,
          -2.7157869646841735,
          -1.3247392805435927,
          -3.0183672156221357,
          -2.872857008069744,
          -0.6946582680793867,
          0.6801090208976636,
          -1.5656242789703627,
          -0.5164451243465953,
          -0.6642263582064927,
          -1.5402971323639763,
          -0.9087331803137642,
          -1.5755321300892229,
          -2.6397590160097257,
          -3.0869757236209487,
          -2.4647664617871814,
          -1.3808393655792641,
          -0.9736467405067163,
          -2.0255931776314138,
          -1.6735496123023057,
          -0.05762920836143302,
          -3.127759552070332,
          -2.5655945387605716,
          -1.063318285726676,
          -1.6321891306242817,
          -1.2673734601516875,
          -1.5144419640346483,
          -2.6570024561586836,
          -2.44989583577998,
          -1.4389565235047053,
          -2.62600931668688,
          -1.5270715659087681,
          -1.876848748325926,
          -1.517200074598158,
          -1.6155853972629148,
          -0.8852276037283489,
          -2.1674462079749137,
          -1.806549334874694,
          -2.584300158414625,
          -2.2609138252427052,
          -2.581281262369765,
          0.39842874741273876,
          -2.2451930127986808,
          -2.2054794100308333,
          -0.9614031752639097,
          -2.648218740218118,
          -1.935545460533121,
          -0.7897107464621277,
          -1.9212160923132324,
          -0.9289523926044756,
          -3.009275760931458,
          -1.646071760786573,
          -2.4139349206216556,
          -1.8251050582364312,
          -2.2438356649483246,
          -1.31008380671434,
          -1.0525894931624256,
          -2.2414436795572175,
          -1.320773152817931,
          -0.8638139836344427,
          -1.3032287129047402,
          -2.1002902319267553,
          -1.2367042357983937,
          -2.351039062127658,
          -0.7507162709649863,
          -2.100607085270669,
          -1.4442383553781173,
          0.25791514868754145,
          -1.7146610102528135,
          -1.3995240767634998,
          -2.442755670771995,
          -0.30216026276946983,
          -2.0884650397631765,
          -3.2615516189481073,
          -1.5152958967877315,
          -0.5806855534606757,
          -1.673344145844594,
          -1.4005821933436722,
          -1.4469114556757265,
          -1.2951049695149652,
          -1.4855682410435422,
          -1.9630342566155288,
          -2.568572181300193,
          -1.8351842406864358,
          -2.3963632298972484,
          -2.5124304283599823,
          -0.12217164432474774,
          -1.4791220669614669,
          -3.0238390850886665,
          -2.0997965647717396,
          -4.109075893761732,
          -2.0799874323899643,
          -1.8164442528116542,
          -1.5178978717152847,
          -0.3701183002616059,
          -2.5717072129334237,
          -0.6100224886634342,
          -0.6187295877610165,
          -1.734006501791459,
          0.1585351351077007,
          -1.818857424042568,
          -2.2900220108078093,
          -2.2412799006514215,
          1.3482414560772753,
          -0.9592222804958394,
          -0.3597045974872962,
          -1.3776546256604623,
          -0.9568370285467156,
          -2.1196560003348215,
          -1.6324343117371203,
          -1.0352285724634045,
          -2.0068116220147187,
          -1.634140252927783,
          -1.9352945797732433,
          -3.054312189186436,
          -1.4821581890621427,
          -1.1213717922442061,
          -0.9234401044916626,
          -0.19171972967585035,
          -1.4298496156576757,
          0.007192043819993801,
          1.0375153885795945,
          0.09900998753456397,
          -2.545821266255392,
          -2.9890648805418674,
          -2.5080556617754635,
          -1.839350218748612,
          -1.9553567800659268,
          -2.0716657111509904,
          -2.433364088805513,
          -2.10991132808563,
          -0.6761355954312535,
          -1.2257813128143953,
          -1.1147805455768247,
          0.02708302611314078,
          -2.339629220752526,
          -2.2527708240228907,
          -1.8720586131306929,
          -2.383831866179941,
          -0.16587263726231685,
          -2.451030093748961,
          -1.7792185355335246,
          1.0553061241903348,
          -2.2737874152877424,
          -1.6563664009275698,
          -1.0752514207226815,
          -1.431442836632341,
          -1.7864050919168082,
          -1.6733926112810231,
          -1.9689312782593829,
          -0.013032565363791711,
          -1.2210756944811658,
          -2.5238653192440417,
          -0.9373287992675419,
          -1.8252861388568917,
          -1.4758558030949644,
          -1.3844399729745076,
          -1.1144289541719492,
          -2.4860574111826965,
          0.011068679944147798,
          -2.1299979951225056,
          -3.266508845584529,
          -1.3937910722748779,
          0.27294860487198086,
          -1.112213422662465,
          -1.5414846780229707,
          -1.4740541997502954,
          -0.09961543468159166,
          -1.2519437351853873,
          -2.005498750794274,
          -1.887363624280808,
          -0.040749634512124044,
          -1.403413104542248,
          -1.7319297028733347,
          -2.0956127540905953,
          0.039946513562570604,
          0.29672728511461355,
          -1.93846777293923,
          -0.8147235347335259,
          -2.788303718436211,
          -2.2014588916436475,
          -1.7815387639206657,
          -1.934941236843026,
          -1.7511070039585994,
          -1.2293069465506439,
          -1.2640039495880582,
          -1.9302020256053969,
          -0.5469078252812224,
          -3.771489014397341,
          -1.311598411639459,
          -1.4126541086667672,
          -1.6277966118535983,
          -1.4176172015713797,
          -1.6652305623424413,
          -1.360518050588482,
          0.1001854137500678,
          -0.9357412921136378,
          -1.3474622923637107,
          -1.7084108395629982,
          -2.6442838160063515,
          -2.7207179655551212,
          -1.5444212407445779,
          -1.5090589007093513,
          0.019312963441459653,
          -2.9044161144627294,
          0.9638740461848061,
          -1.3332811130946134,
          -2.0886229883917906,
          -2.0801774103916784,
          -1.8927705402227633,
          -1.7996251437026323,
          -3.7454399147758113,
          0.28443158745102043,
          -2.193434844967935,
          -1.4234609449763918,
          -1.988613937028962,
          -1.8188776049686581,
          -3.5321292631554884,
          -2.5156925278137185,
          -1.1831817047108093,
          0.5268929875608106,
          -0.6961807879839899,
          -2.030649108443038,
          -0.581789168975891,
          -1.7553235993186793,
          -1.2613282226020393,
          -1.2575196648674636,
          -1.873873941655023,
          -2.9002973358522603,
          -2.0238577527469244,
          -2.009772466724697,
          -2.950277235202987,
          -1.241552040807451,
          -2.2307415898652043,
          -0.7182098556208577,
          -1.9780468605573498,
          -2.263176110576895,
          -1.7306882713751075,
          -2.43958960599563,
          -1.1905154716282809,
          -0.8526302000627631,
          -1.6077507252083572,
          -1.5804736444707719,
          -2.341408980325024,
          -2.306662519718003,
          -3.271137845327926,
          -0.6101702293626409,
          -1.70671698170437,
          -2.0631781104105023,
          -2.970531449492581,
          -2.0984373542506707,
          -1.7480516593031195,
          -2.876787325319545,
          -0.7977492581294474,
          -1.6857676734276843,
          -2.6451213463310834,
          -3.2348552308155045,
          -2.4368950049281737,
          0.1385112434293127,
          -3.0353173679810093,
          -1.0043628351115907,
          -1.2652523247000222,
          -0.8233582537271807,
          0.0641827258117554,
          -0.5808086398004819,
          -0.6439367614511297,
          -0.6149776593022899,
          -1.7440894801584998,
          -1.7180768300420792,
          -0.885544488426812,
          -2.5814083921511064,
          -1.6424767520691372,
          -1.520870706056789,
          -1.0174912222087331,
          -0.2110467917262727,
          -0.4179688378840659,
          -2.1028766655276545,
          -0.32622212700582365,
          -0.3067415506821267,
          0.18160870583293454,
          -1.2807638212141172,
          -0.16680059611021614,
          -2.1676498321711337,
          -0.6475557111142988,
          -1.8115385046327854,
          -1.5958127562619986,
          -1.9482270200128502,
          -0.4062241349714622,
          0.3222074656213229,
          -1.7540357120076155,
          -2.0184614996330548,
          -1.0633051787127266,
          0.030961391398909598,
          -0.3592579480081509,
          -1.2121755386168722,
          -1.2175311160125322,
          -2.010238535543982,
          -1.1068316913262,
          -2.3768344162297237,
          -1.9602690036696393,
          -0.18717048044670037,
          -1.525977949712771,
          -0.9466220358850658,
          -2.7483097369962755,
          -0.5625601622212213,
          -0.9307445698436757,
          -1.875882962259144,
          1.0883047986798404,
          -1.234795763611291,
          -1.143927100534257,
          -2.863069583353493,
          -1.0798204592052068,
          -2.1346906629038194,
          -1.5034645101120625,
          -2.1752645165465814,
          -2.7064063024723755,
          -1.3212999992233208,
          -1.348830562636873,
          -1.6076074797930675,
          -1.5517355345488735,
          -2.959127241708198,
          -2.2640068697359057,
          -1.5514729586560776,
          -0.13112545267908957,
          -2.4307106623652195,
          -2.9037871864393967,
          -2.950537831509333,
          -1.7585157841890846,
          -0.6859190244674326,
          -1.8109994224033445,
          -0.7831990984268494,
          -0.7512047996223493,
          -1.303407222423113,
          -0.33268498186816664,
          -0.7178027875275541,
          -1.8997880844096184,
          0.017375971266130864,
          -1.66709550825785,
          -1.1624990742735124,
          -1.7619427988856542,
          -3.3539282584579144,
          -1.6169005093737936,
          -2.537038513714113,
          0.08122864370285847,
          -1.3234525886246067,
          -2.74378307983792,
          -1.9542420336700224,
          -1.481781092284773,
          -1.147990523447097,
          -1.3828363065042724,
          -1.5990342008625413,
          -1.8693026453809352,
          -1.285260593600799,
          -0.1336776132933056,
          -0.2458093382728603,
          -1.6784466860737712,
          -2.1497723666975954,
          -1.429184456707844,
          -0.3790706642553988,
          -1.812952608274534,
          -1.559662577923112,
          -1.583498250787068,
          -1.1614578810766547,
          -3.0301506233055426,
          -0.41519749052248195,
          -1.9341983785360346,
          -2.568824881937342,
          -0.8270314173871722,
          -0.750138563690497,
          -0.6599168690371423,
          -0.4241320428001355,
          -0.7094007204548415,
          -3.0274623364019018,
          -3.166606052031628,
          -2.901079160807851,
          -2.746421763140339,
          -1.757671446678121,
          -1.5087313645707399,
          -2.521894577733929,
          -2.2826132197123403,
          -1.369177306922347,
          0.19939809617256496,
          -2.338304836124998,
          -1.2509689112009457,
          -1.0212633665834243,
          -0.8585238264603604,
          -1.2895723366677896,
          -1.0459580418708823,
          -0.9362278252850242,
          -0.71780681566545,
          -1.300153035409341,
          -2.0274396804578094,
          -1.085969826389025,
          -1.1350637311096572,
          -1.4104912598281618,
          -2.12611623467491,
          -2.337150465120139,
          -0.18068504636439345,
          -1.256814630201969,
          -2.7170023485629815,
          -1.0232586952482294,
          -0.8668401965865797,
          -1.5435783577698436,
          -2.304824336085218,
          -1.8465014577924206,
          -3.7777798679547128,
          -1.244307887405124,
          -1.2565291241765204,
          -1.7764841901322623,
          -2.460981111161123,
          -2.874358450330986,
          -2.3047760947111327,
          -1.0770982427184301,
          -1.2252033830911089,
          -2.6996720579895497,
          -0.3259889199517194,
          -0.3170288276880726,
          -3.203003430904972,
          -0.949012321217263,
          -2.0983310363666665,
          -1.0530269356606856,
          -1.1572439469549833,
          -1.6851077645343144,
          -1.112872955861107,
          -1.460362285229316,
          -1.5413044090935202,
          0.765664990937671,
          -2.651843666247221,
          -3.3409682270338688,
          -1.0245974418197157,
          -1.4879533171257062,
          -0.9246676028395847,
          -1.1400201707631576,
          -1.847572111007451,
          -1.214174569846017,
          -1.463621644044402,
          -2.021739012202997,
          -1.691831211356941,
          0.3749873016395077,
          -2.3040986879797325,
          -1.0805705832955697,
          -2.8230954306862963,
          -2.7995039636690198,
          -0.45020823051631215,
          -0.06389810891659688,
          -3.802654070032868,
          -1.4156769016933288,
          -0.8901657196828553,
          -1.4668415273937436,
          0.10113183049536854,
          -2.5146323442173832,
          -1.8553917442931185,
          -1.7370061222037865,
          -1.102722773196358,
          -0.753773905497622,
          -2.176053019591799,
          -1.3014731892047813,
          -2.6974797095134844,
          -1.2762742751331948,
          -1.202346626804693,
          -1.4896314600837195,
          -2.862732869915825,
          -0.37163602431384013,
          -3.616932751059853,
          -1.4842594334754464,
          -2.96977712515261,
          -2.0112770895466756,
          -1.021221259225069,
          0.1420220921274961,
          -1.3065675048108727,
          -2.3384574703995593,
          -2.2022201929128102,
          -1.595073393841296,
          -3.5306402866900632,
          -1.9083651228311953,
          -1.538191339790952,
          -0.6655651589283638,
          -1.9659076989586053,
          -2.381810380067187,
          0.2235666947902667,
          -1.465708187804752,
          -1.3782353405085612,
          -1.694863088861714,
          -0.020580610244075127,
          -1.3715455844357853,
          -1.683100272957031,
          -2.0918301687541336,
          -2.454052361755945,
          -0.8108303033306962,
          -1.887573760166112,
          -1.554893512622046,
          -0.9234387431617342,
          -0.9575145173288765,
          -1.5647054751626441,
          -0.6361339833346177,
          -1.3356293827509877,
          -0.9863950037734233,
          -1.487241374891732,
          -3.3253570142539295,
          -2.468334878238665,
          -1.3581749520934714,
          -1.2861318745636676,
          -2.384652005076772,
          -2.973308385141128,
          -2.1447256971422717,
          -1.1489194775361342,
          -1.2131563929782905,
          -1.9059809466633426,
          -2.033305258761381,
          -1.0611650919809716,
          -2.342273231126295,
          -2.506364638814086,
          -1.7893355681724445,
          -1.566369169430973,
          -1.9848687912388479,
          -0.5116821131861498,
          -0.7495600678908548,
          -2.1680563782042337,
          -2.653134820294329,
          -1.6442976098914683,
          -0.8936835497208663,
          -3.589085822604714,
          -2.0016693193773496,
          -1.2305120680935746,
          -0.43047948853636003,
          -1.709040040088456,
          -1.9157495935441153,
          -0.6782175416471777,
          -2.4917947718509286,
          -1.300210009044607,
          -0.9179261997562466,
          -2.2756022314784645,
          -2.5536513739318876,
          -0.8977777102960154,
          -0.805779759312494,
          -2.419398608789883,
          0.35858344412523985,
          -1.346158788978561,
          -2.206700861655298,
          -1.1219813285131648,
          -0.4639006040608536,
          -0.6070567571363222,
          0.18613358084655343,
          -1.2160488494397483,
          -1.0103527326963369,
          -1.933528129985791,
          -2.3590538559499192,
          -1.5622581744141062,
          -1.3867870757101306,
          -1.0848817045165369,
          -2.223886517438182,
          -1.1441945625870729,
          -0.3325207485099915,
          -0.8540683142213074,
          -0.2615571240266682,
          -0.5774961424062799,
          -1.37383861987099,
          -0.5729418600379876,
          -1.2933047274748435,
          -0.4077431852086652,
          -2.031773121038858,
          -1.2754191880111603,
          0.3198942164568722,
          -1.3274778616475083,
          -1.010224495236219,
          -1.1879516346953942,
          -0.3651030459149788,
          -2.8011448673269115,
          -2.590188058599377,
          -1.5427974029674592,
          -2.2380534471349898,
          0.09799115651797269,
          -1.3141397669825392,
          -1.2795430791856233,
          -0.8941620447313019,
          -1.3596161393623798,
          -1.2290797445034076,
          -2.3433684171548044,
          -2.405763012785359,
          -1.8864270630707796,
          -3.5710500122001707,
          1.0203724492484427,
          -0.48267330535341413,
          -0.6785982399260078,
          -2.4632533622160233,
          1.332631066710534,
          -0.9969522497913903,
          -1.2787096221604186,
          -1.6645601714794274,
          -2.376623833875071,
          -3.8246425409209475,
          -1.7959833840714325,
          -2.6605160340486,
          -1.2606764462612352,
          -2.366005609992162,
          -0.9401114090951307,
          -2.084891680304575,
          -1.8022061864631265
         ]
        }
       ],
       "layout": {
        "template": {
         "data": {
          "bar": [
           {
            "error_x": {
             "color": "#2a3f5f"
            },
            "error_y": {
             "color": "#2a3f5f"
            },
            "marker": {
             "line": {
              "color": "#E5ECF6",
              "width": 0.5
             },
             "pattern": {
              "fillmode": "overlay",
              "size": 10,
              "solidity": 0.2
             }
            },
            "type": "bar"
           }
          ],
          "barpolar": [
           {
            "marker": {
             "line": {
              "color": "#E5ECF6",
              "width": 0.5
             },
             "pattern": {
              "fillmode": "overlay",
              "size": 10,
              "solidity": 0.2
             }
            },
            "type": "barpolar"
           }
          ],
          "carpet": [
           {
            "aaxis": {
             "endlinecolor": "#2a3f5f",
             "gridcolor": "white",
             "linecolor": "white",
             "minorgridcolor": "white",
             "startlinecolor": "#2a3f5f"
            },
            "baxis": {
             "endlinecolor": "#2a3f5f",
             "gridcolor": "white",
             "linecolor": "white",
             "minorgridcolor": "white",
             "startlinecolor": "#2a3f5f"
            },
            "type": "carpet"
           }
          ],
          "choropleth": [
           {
            "colorbar": {
             "outlinewidth": 0,
             "ticks": ""
            },
            "type": "choropleth"
           }
          ],
          "contour": [
           {
            "colorbar": {
             "outlinewidth": 0,
             "ticks": ""
            },
            "colorscale": [
             [
              0,
              "#0d0887"
             ],
             [
              0.1111111111111111,
              "#46039f"
             ],
             [
              0.2222222222222222,
              "#7201a8"
             ],
             [
              0.3333333333333333,
              "#9c179e"
             ],
             [
              0.4444444444444444,
              "#bd3786"
             ],
             [
              0.5555555555555556,
              "#d8576b"
             ],
             [
              0.6666666666666666,
              "#ed7953"
             ],
             [
              0.7777777777777778,
              "#fb9f3a"
             ],
             [
              0.8888888888888888,
              "#fdca26"
             ],
             [
              1,
              "#f0f921"
             ]
            ],
            "type": "contour"
           }
          ],
          "contourcarpet": [
           {
            "colorbar": {
             "outlinewidth": 0,
             "ticks": ""
            },
            "type": "contourcarpet"
           }
          ],
          "heatmap": [
           {
            "colorbar": {
             "outlinewidth": 0,
             "ticks": ""
            },
            "colorscale": [
             [
              0,
              "#0d0887"
             ],
             [
              0.1111111111111111,
              "#46039f"
             ],
             [
              0.2222222222222222,
              "#7201a8"
             ],
             [
              0.3333333333333333,
              "#9c179e"
             ],
             [
              0.4444444444444444,
              "#bd3786"
             ],
             [
              0.5555555555555556,
              "#d8576b"
             ],
             [
              0.6666666666666666,
              "#ed7953"
             ],
             [
              0.7777777777777778,
              "#fb9f3a"
             ],
             [
              0.8888888888888888,
              "#fdca26"
             ],
             [
              1,
              "#f0f921"
             ]
            ],
            "type": "heatmap"
           }
          ],
          "heatmapgl": [
           {
            "colorbar": {
             "outlinewidth": 0,
             "ticks": ""
            },
            "colorscale": [
             [
              0,
              "#0d0887"
             ],
             [
              0.1111111111111111,
              "#46039f"
             ],
             [
              0.2222222222222222,
              "#7201a8"
             ],
             [
              0.3333333333333333,
              "#9c179e"
             ],
             [
              0.4444444444444444,
              "#bd3786"
             ],
             [
              0.5555555555555556,
              "#d8576b"
             ],
             [
              0.6666666666666666,
              "#ed7953"
             ],
             [
              0.7777777777777778,
              "#fb9f3a"
             ],
             [
              0.8888888888888888,
              "#fdca26"
             ],
             [
              1,
              "#f0f921"
             ]
            ],
            "type": "heatmapgl"
           }
          ],
          "histogram": [
           {
            "marker": {
             "pattern": {
              "fillmode": "overlay",
              "size": 10,
              "solidity": 0.2
             }
            },
            "type": "histogram"
           }
          ],
          "histogram2d": [
           {
            "colorbar": {
             "outlinewidth": 0,
             "ticks": ""
            },
            "colorscale": [
             [
              0,
              "#0d0887"
             ],
             [
              0.1111111111111111,
              "#46039f"
             ],
             [
              0.2222222222222222,
              "#7201a8"
             ],
             [
              0.3333333333333333,
              "#9c179e"
             ],
             [
              0.4444444444444444,
              "#bd3786"
             ],
             [
              0.5555555555555556,
              "#d8576b"
             ],
             [
              0.6666666666666666,
              "#ed7953"
             ],
             [
              0.7777777777777778,
              "#fb9f3a"
             ],
             [
              0.8888888888888888,
              "#fdca26"
             ],
             [
              1,
              "#f0f921"
             ]
            ],
            "type": "histogram2d"
           }
          ],
          "histogram2dcontour": [
           {
            "colorbar": {
             "outlinewidth": 0,
             "ticks": ""
            },
            "colorscale": [
             [
              0,
              "#0d0887"
             ],
             [
              0.1111111111111111,
              "#46039f"
             ],
             [
              0.2222222222222222,
              "#7201a8"
             ],
             [
              0.3333333333333333,
              "#9c179e"
             ],
             [
              0.4444444444444444,
              "#bd3786"
             ],
             [
              0.5555555555555556,
              "#d8576b"
             ],
             [
              0.6666666666666666,
              "#ed7953"
             ],
             [
              0.7777777777777778,
              "#fb9f3a"
             ],
             [
              0.8888888888888888,
              "#fdca26"
             ],
             [
              1,
              "#f0f921"
             ]
            ],
            "type": "histogram2dcontour"
           }
          ],
          "mesh3d": [
           {
            "colorbar": {
             "outlinewidth": 0,
             "ticks": ""
            },
            "type": "mesh3d"
           }
          ],
          "parcoords": [
           {
            "line": {
             "colorbar": {
              "outlinewidth": 0,
              "ticks": ""
             }
            },
            "type": "parcoords"
           }
          ],
          "pie": [
           {
            "automargin": true,
            "type": "pie"
           }
          ],
          "scatter": [
           {
            "fillpattern": {
             "fillmode": "overlay",
             "size": 10,
             "solidity": 0.2
            },
            "type": "scatter"
           }
          ],
          "scatter3d": [
           {
            "line": {
             "colorbar": {
              "outlinewidth": 0,
              "ticks": ""
             }
            },
            "marker": {
             "colorbar": {
              "outlinewidth": 0,
              "ticks": ""
             }
            },
            "type": "scatter3d"
           }
          ],
          "scattercarpet": [
           {
            "marker": {
             "colorbar": {
              "outlinewidth": 0,
              "ticks": ""
             }
            },
            "type": "scattercarpet"
           }
          ],
          "scattergeo": [
           {
            "marker": {
             "colorbar": {
              "outlinewidth": 0,
              "ticks": ""
             }
            },
            "type": "scattergeo"
           }
          ],
          "scattergl": [
           {
            "marker": {
             "colorbar": {
              "outlinewidth": 0,
              "ticks": ""
             }
            },
            "type": "scattergl"
           }
          ],
          "scattermapbox": [
           {
            "marker": {
             "colorbar": {
              "outlinewidth": 0,
              "ticks": ""
             }
            },
            "type": "scattermapbox"
           }
          ],
          "scatterpolar": [
           {
            "marker": {
             "colorbar": {
              "outlinewidth": 0,
              "ticks": ""
             }
            },
            "type": "scatterpolar"
           }
          ],
          "scatterpolargl": [
           {
            "marker": {
             "colorbar": {
              "outlinewidth": 0,
              "ticks": ""
             }
            },
            "type": "scatterpolargl"
           }
          ],
          "scatterternary": [
           {
            "marker": {
             "colorbar": {
              "outlinewidth": 0,
              "ticks": ""
             }
            },
            "type": "scatterternary"
           }
          ],
          "surface": [
           {
            "colorbar": {
             "outlinewidth": 0,
             "ticks": ""
            },
            "colorscale": [
             [
              0,
              "#0d0887"
             ],
             [
              0.1111111111111111,
              "#46039f"
             ],
             [
              0.2222222222222222,
              "#7201a8"
             ],
             [
              0.3333333333333333,
              "#9c179e"
             ],
             [
              0.4444444444444444,
              "#bd3786"
             ],
             [
              0.5555555555555556,
              "#d8576b"
             ],
             [
              0.6666666666666666,
              "#ed7953"
             ],
             [
              0.7777777777777778,
              "#fb9f3a"
             ],
             [
              0.8888888888888888,
              "#fdca26"
             ],
             [
              1,
              "#f0f921"
             ]
            ],
            "type": "surface"
           }
          ],
          "table": [
           {
            "cells": {
             "fill": {
              "color": "#EBF0F8"
             },
             "line": {
              "color": "white"
             }
            },
            "header": {
             "fill": {
              "color": "#C8D4E3"
             },
             "line": {
              "color": "white"
             }
            },
            "type": "table"
           }
          ]
         },
         "layout": {
          "annotationdefaults": {
           "arrowcolor": "#2a3f5f",
           "arrowhead": 0,
           "arrowwidth": 1
          },
          "autotypenumbers": "strict",
          "coloraxis": {
           "colorbar": {
            "outlinewidth": 0,
            "ticks": ""
           }
          },
          "colorscale": {
           "diverging": [
            [
             0,
             "#8e0152"
            ],
            [
             0.1,
             "#c51b7d"
            ],
            [
             0.2,
             "#de77ae"
            ],
            [
             0.3,
             "#f1b6da"
            ],
            [
             0.4,
             "#fde0ef"
            ],
            [
             0.5,
             "#f7f7f7"
            ],
            [
             0.6,
             "#e6f5d0"
            ],
            [
             0.7,
             "#b8e186"
            ],
            [
             0.8,
             "#7fbc41"
            ],
            [
             0.9,
             "#4d9221"
            ],
            [
             1,
             "#276419"
            ]
           ],
           "sequential": [
            [
             0,
             "#0d0887"
            ],
            [
             0.1111111111111111,
             "#46039f"
            ],
            [
             0.2222222222222222,
             "#7201a8"
            ],
            [
             0.3333333333333333,
             "#9c179e"
            ],
            [
             0.4444444444444444,
             "#bd3786"
            ],
            [
             0.5555555555555556,
             "#d8576b"
            ],
            [
             0.6666666666666666,
             "#ed7953"
            ],
            [
             0.7777777777777778,
             "#fb9f3a"
            ],
            [
             0.8888888888888888,
             "#fdca26"
            ],
            [
             1,
             "#f0f921"
            ]
           ],
           "sequentialminus": [
            [
             0,
             "#0d0887"
            ],
            [
             0.1111111111111111,
             "#46039f"
            ],
            [
             0.2222222222222222,
             "#7201a8"
            ],
            [
             0.3333333333333333,
             "#9c179e"
            ],
            [
             0.4444444444444444,
             "#bd3786"
            ],
            [
             0.5555555555555556,
             "#d8576b"
            ],
            [
             0.6666666666666666,
             "#ed7953"
            ],
            [
             0.7777777777777778,
             "#fb9f3a"
            ],
            [
             0.8888888888888888,
             "#fdca26"
            ],
            [
             1,
             "#f0f921"
            ]
           ]
          },
          "colorway": [
           "#636efa",
           "#EF553B",
           "#00cc96",
           "#ab63fa",
           "#FFA15A",
           "#19d3f3",
           "#FF6692",
           "#B6E880",
           "#FF97FF",
           "#FECB52"
          ],
          "font": {
           "color": "#2a3f5f"
          },
          "geo": {
           "bgcolor": "white",
           "lakecolor": "white",
           "landcolor": "#E5ECF6",
           "showlakes": true,
           "showland": true,
           "subunitcolor": "white"
          },
          "hoverlabel": {
           "align": "left"
          },
          "hovermode": "closest",
          "mapbox": {
           "style": "light"
          },
          "paper_bgcolor": "white",
          "plot_bgcolor": "#E5ECF6",
          "polar": {
           "angularaxis": {
            "gridcolor": "white",
            "linecolor": "white",
            "ticks": ""
           },
           "bgcolor": "#E5ECF6",
           "radialaxis": {
            "gridcolor": "white",
            "linecolor": "white",
            "ticks": ""
           }
          },
          "scene": {
           "xaxis": {
            "backgroundcolor": "#E5ECF6",
            "gridcolor": "white",
            "gridwidth": 2,
            "linecolor": "white",
            "showbackground": true,
            "ticks": "",
            "zerolinecolor": "white"
           },
           "yaxis": {
            "backgroundcolor": "#E5ECF6",
            "gridcolor": "white",
            "gridwidth": 2,
            "linecolor": "white",
            "showbackground": true,
            "ticks": "",
            "zerolinecolor": "white"
           },
           "zaxis": {
            "backgroundcolor": "#E5ECF6",
            "gridcolor": "white",
            "gridwidth": 2,
            "linecolor": "white",
            "showbackground": true,
            "ticks": "",
            "zerolinecolor": "white"
           }
          },
          "shapedefaults": {
           "line": {
            "color": "#2a3f5f"
           }
          },
          "ternary": {
           "aaxis": {
            "gridcolor": "white",
            "linecolor": "white",
            "ticks": ""
           },
           "baxis": {
            "gridcolor": "white",
            "linecolor": "white",
            "ticks": ""
           },
           "bgcolor": "#E5ECF6",
           "caxis": {
            "gridcolor": "white",
            "linecolor": "white",
            "ticks": ""
           }
          },
          "title": {
           "x": 0.05
          },
          "xaxis": {
           "automargin": true,
           "gridcolor": "white",
           "linecolor": "white",
           "ticks": "",
           "title": {
            "standoff": 15
           },
           "zerolinecolor": "white",
           "zerolinewidth": 2
          },
          "yaxis": {
           "automargin": true,
           "gridcolor": "white",
           "linecolor": "white",
           "ticks": "",
           "title": {
            "standoff": 15
           },
           "zerolinecolor": "white",
           "zerolinewidth": 2
          }
         }
        },
        "title": {
         "text": "Histogram of ADF Test Statistics for Random Walk Simulations"
        },
        "xaxis": {
         "title": {
          "text": "ADF Test Statistic"
         }
        },
        "yaxis": {
         "title": {
          "text": "Frequency"
         }
        }
       }
      }
     },
     "metadata": {},
     "output_type": "display_data"
    }
   ],
   "source": [
    "# Create a histogram trace for random walk simulations\n",
    "hist_trace_rw = go.Histogram(x=adf_stats_rw, nbinsx=20, opacity=0.7)\n",
    "\n",
    "# Create the layout\n",
    "layout_rw = go.Layout(\n",
    "    title='Histogram of ADF Test Statistics for Random Walk Simulations',\n",
    "    xaxis=dict(title='ADF Test Statistic'),\n",
    "    yaxis=dict(title='Frequency'),\n",
    ")\n",
    "\n",
    "# Create the figure and add the histogram trace\n",
    "fig_rw = go.Figure(data=hist_trace_rw, layout=layout_rw)\n",
    "\n",
    "# Show the figure\n",
    "fig_rw.show()"
   ]
  },
  {
   "cell_type": "code",
   "execution_count": null,
   "metadata": {},
   "outputs": [],
   "source": []
  }
 ],
 "metadata": {
  "kernelspec": {
   "display_name": "Python 3",
   "language": "python",
   "name": "python3"
  },
  "language_info": {
   "codemirror_mode": {
    "name": "ipython",
    "version": 3
   },
   "file_extension": ".py",
   "mimetype": "text/x-python",
   "name": "python",
   "nbconvert_exporter": "python",
   "pygments_lexer": "ipython3",
   "version": "3.9.6"
  },
  "orig_nbformat": 4
 },
 "nbformat": 4,
 "nbformat_minor": 2
}
